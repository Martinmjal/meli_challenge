{
 "cells": [
  {
   "cell_type": "markdown",
   "metadata": {},
   "source": [
    "# Solución Prueba Técnica MercadoLibre"
   ]
  },
  {
   "cell_type": "markdown",
   "metadata": {},
   "source": [
    "importando dependencias y datos"
   ]
  },
  {
   "cell_type": "code",
   "execution_count": 1,
   "metadata": {
    "tags": [
     "hide-input"
    ]
   },
   "outputs": [],
   "source": [
    "import json\n",
    "import pandas as pd"
   ]
  },
  {
   "cell_type": "code",
   "execution_count": 2,
   "metadata": {},
   "outputs": [],
   "source": [
    "# You can safely assume that `build_dataset` is correctly implemented\n",
    "def build_dataset():\n",
    "    data = [json.loads(x) for x in open(\"MLA_100k_checked_v3.jsonlines\")]\n",
    "    target = lambda x: x.get(\"condition\")\n",
    "    N = -10000\n",
    "    X_train = data[:N]\n",
    "    X_test = data[N:]\n",
    "    y_train = [target(x) for x in X_train]\n",
    "    y_test = [target(x) for x in X_test]\n",
    "    for x in X_test:\n",
    "        del x[\"condition\"]\n",
    "    return X_train, y_train, X_test, y_test\n",
    "\n",
    "X_train, y_train, X_test, y_test = build_dataset()"
   ]
  },
  {
   "cell_type": "markdown",
   "metadata": {},
   "source": [
    "# Feature engineering"
   ]
  },
  {
   "cell_type": "markdown",
   "metadata": {},
   "source": [
    "Since the original data has a considerable amount of nested fields, we start evaluating what features can be extracted from those nested fields. Attempting to convert the list of dictionaries to dataframe preserving as much information as possible (since nested fields can't easily parsed to dataframe)\n",
    "\n",
    "Dado que los JSON originales tienen una cantidad considerable de campos anidados, comenzamos evaluando qué características se pueden extraer de esos campos anidados. Todo con la intención de `aplanar` (`flatten`) los JSON, y así poder convertirlos más facilmente a DataFrame"
   ]
  },
  {
   "cell_type": "markdown",
   "metadata": {},
   "source": [
    "## Evaluando campos anidados"
   ]
  },
  {
   "cell_type": "markdown",
   "metadata": {},
   "source": [
    "### evaluando el campo `pictures`"
   ]
  },
  {
   "cell_type": "markdown",
   "metadata": {},
   "source": [
    "Este campo parece mostrar información de las imágenes asociadas a los productos, de aquí se puede extraer información como la resolución de las imágenes y la cantidad de imágenes. Valores que pueden aportar a la decisión de clasificar un producto como nuevo o usado. a continuación se detalla el paso a paso de la creación de características:\n",
    "\n",
    "- Se visualiza la estructura de la información dentro del campo:"
   ]
  },
  {
   "cell_type": "code",
   "execution_count": 3,
   "metadata": {
    "tags": [
     "hide-input",
     "hide-output"
    ]
   },
   "outputs": [
    {
     "data": {
      "text/plain": [
       "[{'size': '500x402',\n",
       "  'secure_url': 'https://a248.e.akamai.net/mla-s1-p.mlstatic.com/4502-MLA9433684496_012013-O.jpg',\n",
       "  'max_size': '530x427',\n",
       "  'url': 'http://mla-s1-p.mlstatic.com/4502-MLA9433684496_012013-O.jpg',\n",
       "  'quality': '',\n",
       "  'id': '4502-MLA9433684496_012013'},\n",
       " {'size': '500x401',\n",
       "  'secure_url': 'https://a248.e.akamai.net/mla-s1-p.mlstatic.com/4585-MLA9433684496_012013-O.jpg',\n",
       "  'max_size': '530x426',\n",
       "  'url': 'http://mla-s1-p.mlstatic.com/4585-MLA9433684496_012013-O.jpg',\n",
       "  'quality': '',\n",
       "  'id': '4585-MLA9433684496_012013'},\n",
       " {'size': '500x310',\n",
       "  'secure_url': 'https://a248.e.akamai.net/mla-s2-p.mlstatic.com/4526-MLA9433684496_012013-O.jpg',\n",
       "  'max_size': '600x372',\n",
       "  'url': 'http://mla-s2-p.mlstatic.com/4526-MLA9433684496_012013-O.jpg',\n",
       "  'quality': '',\n",
       "  'id': '4526-MLA9433684496_012013'},\n",
       " {'size': '500x457',\n",
       "  'secure_url': 'https://a248.e.akamai.net/mla-s1-p.mlstatic.com/4554-MLA9433684496_012013-O.jpg',\n",
       "  'max_size': '600x549',\n",
       "  'url': 'http://mla-s1-p.mlstatic.com/4554-MLA9433684496_012013-O.jpg',\n",
       "  'quality': '',\n",
       "  'id': '4554-MLA9433684496_012013'},\n",
       " {'size': '500x310',\n",
       "  'secure_url': 'https://a248.e.akamai.net/mla-s1-p.mlstatic.com/4554-MLA9433684496_012013-O.jpg',\n",
       "  'max_size': '600x372',\n",
       "  'url': 'http://mla-s1-p.mlstatic.com/4554-MLA9433684496_012013-O.jpg',\n",
       "  'quality': '',\n",
       "  'id': '4554-MLA9433684496_012013'}]"
      ]
     },
     "execution_count": 3,
     "metadata": {},
     "output_type": "execute_result"
    }
   ],
   "source": [
    "X_train[36478].get('pictures', [])"
   ]
  },
  {
   "cell_type": "markdown",
   "metadata": {},
   "source": [
    "- Llama la atención el campo `quality` dado que puede ofrecer información relevante pero parece estar vacío, evaluemos si viene vacío para todos los productos:"
   ]
  },
  {
   "cell_type": "code",
   "execution_count": 4,
   "metadata": {
    "tags": [
     "hide-input"
    ]
   },
   "outputs": [
    {
     "data": {
      "text/plain": [
       "{''}"
      ]
     },
     "execution_count": 4,
     "metadata": {},
     "output_type": "execute_result"
    }
   ],
   "source": [
    "# List to store all quality values\n",
    "quality_values = []\n",
    "\n",
    "# Iterate through each dictionary in the list\n",
    "for item in X_train + X_test:\n",
    "    # Extract the 'pictures' list\n",
    "    pictures = item.get('pictures', [])\n",
    "    # Extract the 'quality' value from each picture and add it to the quality_values list\n",
    "    for picture in pictures:\n",
    "        quality_values.append(picture.get('quality', ''))\n",
    "\n",
    "# Print the unique quality values\n",
    "set(quality_values)"
   ]
  },
  {
   "cell_type": "markdown",
   "metadata": {},
   "source": [
    "El resultado de valores únicos en `quality` demuestra que este campo siempre viene vacío.\n",
    "\n",
    "Ahora procedemos a extraer las `features` de la resolución y la cantidad de imágenes para los productos:"
   ]
  },
  {
   "cell_type": "markdown",
   "metadata": {},
   "source": [
    "**`features` extraídas del campo `pictures`:**\n",
    "\n",
    "1. **Número de Imágenes**:\n",
    "   - `num_pictures`: El número total de imágenes disponibles para el artículo.\n",
    "\n",
    "2. **Resoluciones Únicas de Imágenes**:\n",
    "   - `unique_picture_resolutions`: El número de resoluciones únicas entre las imágenes.\n",
    "\n",
    "3. **Resolución Promedio de Imágenes**:\n",
    "   - `avg_picture_resolution`: La resolución promedio (ancho * alto) de las imágenes.\n",
    "\n",
    "4. **Resolución Máxima de Imágenes**:\n",
    "   - `max_picture_resolution`: La resolución más alta entre las imágenes.\n",
    "\n",
    "5. **Resolución Mínima de Imágenes**:\n",
    "   - `min_picture_resolution`: La resolución más baja entre las imágenes.\n",
    "\n",
    "6. **Relación de Aspecto Promedio**:\n",
    "   - `avg_picture_aspect_ratio`: La relación de aspecto promedio (ancho/alto) de las imágenes.\n",
    "\n",
    "7. **Relación de Aspecto Máxima**:\n",
    "   - `max_picture_aspect_ratio`: La relación de aspecto más alta entre las imágenes.\n",
    "\n",
    "8. **Relación de Aspecto Mínima**:\n",
    "   - `min_picture_aspect_ratio`: La relación de aspecto más baja entre las imágenes.\n",
    "\n",
    "9. **Consistencia en las Resoluciones de Imágenes**:\n",
    "    - `picture_resolution_std_dev`: La desviación estándar de las resoluciones de las imágenes para medir la consistencia.\n"
   ]
  },
  {
   "cell_type": "markdown",
   "metadata": {},
   "source": [
    "se crea entonces una función que extrae estas características del campo `pictures` para cada `JSON` dentro de los datos, adicionalmente esta función elimina el campo `pictures` después de haber extraído las variables."
   ]
  },
  {
   "cell_type": "code",
   "execution_count": 5,
   "metadata": {},
   "outputs": [],
   "source": [
    "import numpy as np\n",
    "\n",
    "def extract_picture_features(item):\n",
    "    \"\"\"\n",
    "    Extract relevant features from the 'pictures' field of a dictionary.\n",
    "\n",
    "    Args:\n",
    "    item (dict): A dictionary representing an item with a 'pictures' field.\n",
    "\n",
    "    Returns:\n",
    "    dict: A dictionary containing extracted picture features.\n",
    "    \"\"\"\n",
    "    pictures = item.get('pictures', [])\n",
    "    \n",
    "    num_pictures = len(pictures)\n",
    "    resolutions = [tuple(map(int, pic['size'].split('x'))) for pic in pictures]\n",
    "    unique_resolutions = len(set(resolutions))\n",
    "    \n",
    "    if num_pictures > 0:\n",
    "        avg_picture_resolution = np.mean([w * h for w, h in resolutions])\n",
    "        max_picture_resolution = max([w * h for w, h in resolutions])\n",
    "        min_picture_resolution = min([w * h for w, h in resolutions])\n",
    "        \n",
    "        avg_aspect_ratio = np.mean([w / h for w, h in resolutions])\n",
    "        max_aspect_ratio = max([w / h for w, h in resolutions])\n",
    "        min_aspect_ratio = min([w / h for w, h in resolutions])\n",
    "        \n",
    "        resolution_std_dev = np.std([w * h for w, h in resolutions])\n",
    "        \n",
    "    else:\n",
    "        avg_picture_resolution = max_picture_resolution = min_picture_resolution = 0\n",
    "        avg_aspect_ratio = max_aspect_ratio = min_aspect_ratio = 0\n",
    "        resolution_std_dev = 0\n",
    "    \n",
    "    features = {\n",
    "        'num_pictures': num_pictures,\n",
    "        'unique_picture_resolutions': unique_resolutions,\n",
    "        'avg_picture_resolution': avg_picture_resolution,\n",
    "        'max_picture_resolution': max_picture_resolution,\n",
    "        'min_picture_resolution': min_picture_resolution,\n",
    "        'avg_picture_aspect_ratio': avg_aspect_ratio,\n",
    "        'max_picture_aspect_ratio': max_aspect_ratio,\n",
    "        'min_picture_aspect_ratio': min_aspect_ratio,\n",
    "        'picture_resolution_std_dev': resolution_std_dev\n",
    "    }\n",
    "    \n",
    "    return features\n",
    "\n",
    "def process_items_picture_features(item_list):\n",
    "    \"\"\"\n",
    "    Process a list of dictionaries to extract picture features and remove the original 'pictures' key from each dictionary.\n",
    "\n",
    "    Args:\n",
    "    item_list (list): A list of dictionaries, each representing an item with a 'pictures' field.\n",
    "\n",
    "    Returns:\n",
    "    list: A list of processed item dictionaries with extracted picture features and without the 'pictures' key.\n",
    "    \"\"\"\n",
    "    processed_items = []\n",
    "    \n",
    "    for item in item_list:\n",
    "        # Extract picture features\n",
    "        picture_features = extract_picture_features(item)\n",
    "        \n",
    "        # Remove the original 'pictures' key\n",
    "        item.pop('pictures', None)\n",
    "        \n",
    "        # Add the new features to the item dictionary\n",
    "        item.update(picture_features)\n",
    "        \n",
    "        # Append the processed item to the list\n",
    "        processed_items.append(item)\n",
    "    \n",
    "# Applying the function\n",
    "process_items_picture_features(X_test)\n",
    "process_items_picture_features(X_train)"
   ]
  },
  {
   "cell_type": "markdown",
   "metadata": {},
   "source": [
    "### evaluando el campo `variations`"
   ]
  },
  {
   "cell_type": "markdown",
   "metadata": {},
   "source": [
    "Para ver qué tan relevante es este campo nos preguntamos\n",
    "\n",
    "Qué porcentaje de artículos tiene variaciones?"
   ]
  },
  {
   "cell_type": "markdown",
   "metadata": {},
   "source": [
    "en train:"
   ]
  },
  {
   "cell_type": "code",
   "execution_count": 6,
   "metadata": {
    "tags": [
     "hide-input"
    ]
   },
   "outputs": [
    {
     "name": "stdout",
     "output_type": "stream",
     "text": [
      "Total items with variations in train partition: 7374\n",
      "Percentage of items with variations: 8.19%\n"
     ]
    }
   ],
   "source": [
    "def calculate_variations_percentage(items):\n",
    "    total_items = len(items)\n",
    "    items_with_variations = sum(1 for item in items if 'variations' in item and item['variations'])\n",
    "    \n",
    "    percentage_with_variations = (items_with_variations / total_items) * 100 if total_items else 0\n",
    "    \n",
    "    return items_with_variations, percentage_with_variations\n",
    "\n",
    "items_with_variations, percentage_with_variations = calculate_variations_percentage(X_train)\n",
    "print(f\"Total items with variations in train partition: {items_with_variations}\")\n",
    "print(f\"Percentage of items with variations: {percentage_with_variations:.2f}%\")"
   ]
  },
  {
   "cell_type": "markdown",
   "metadata": {},
   "source": [
    "en test:"
   ]
  },
  {
   "cell_type": "code",
   "execution_count": 7,
   "metadata": {
    "tags": [
     "hide-input"
    ]
   },
   "outputs": [
    {
     "name": "stdout",
     "output_type": "stream",
     "text": [
      "Total items with variations in test partition: 818\n",
      "Percentage of items with variations: 8.18%\n"
     ]
    }
   ],
   "source": [
    "def calculate_variations_percentage(items):\n",
    "    total_items = len(items)\n",
    "    items_with_variations = sum(1 for item in items if 'variations' in item and item['variations'])\n",
    "    \n",
    "    percentage_with_variations = (items_with_variations / total_items) * 100 if total_items else 0\n",
    "    \n",
    "    return items_with_variations, percentage_with_variations\n",
    "\n",
    "items_with_variations, percentage_with_variations = calculate_variations_percentage(X_test)\n",
    "print(f\"Total items with variations in test partition: {items_with_variations}\")\n",
    "print(f\"Percentage of items with variations: {percentage_with_variations:.2f}%\")"
   ]
  },
  {
   "cell_type": "markdown",
   "metadata": {},
   "source": [
    "8% es un numero relevante de articulos, ahora revisamos el contenido del campo para ver qué se puede extraer de ahí"
   ]
  },
  {
   "cell_type": "code",
   "execution_count": 8,
   "metadata": {
    "tags": [
     "hide-input",
     "hide-output"
    ]
   },
   "outputs": [
    {
     "data": {
      "text/plain": [
       "[{'attribute_combinations': [{'value_id': '92013',\n",
       "    'name': 'Color Primario',\n",
       "    'value_name': 'Azul',\n",
       "    'id': '83000'},\n",
       "   {'value_id': '101995', 'name': 'Talle', 'value_name': 'M', 'id': '93000'}],\n",
       "  'seller_custom_field': None,\n",
       "  'picture_ids': ['21897-MLA20219050871_122014',\n",
       "   '21826-MLA20219051350_122014',\n",
       "   '21894-MLA20219051403_122014',\n",
       "   '21871-MLA20219051434_122014',\n",
       "   '17709-MLA20142698862_082014'],\n",
       "  'sold_quantity': 1,\n",
       "  'available_quantity': 2,\n",
       "  'id': 9391988875,\n",
       "  'price': 590},\n",
       " {'attribute_combinations': [{'value_id': '92013',\n",
       "    'name': 'Color Primario',\n",
       "    'value_name': 'Azul',\n",
       "    'id': '83000'},\n",
       "   {'value_id': '101994', 'name': 'Talle', 'value_name': 'S', 'id': '93000'}],\n",
       "  'seller_custom_field': None,\n",
       "  'picture_ids': ['21897-MLA20219050871_122014',\n",
       "   '21826-MLA20219051350_122014',\n",
       "   '21894-MLA20219051403_122014',\n",
       "   '21871-MLA20219051434_122014',\n",
       "   '17709-MLA20142698862_082014'],\n",
       "  'sold_quantity': 0,\n",
       "  'available_quantity': 2,\n",
       "  'id': 9391988878,\n",
       "  'price': 590},\n",
       " {'attribute_combinations': [{'value_id': '92013',\n",
       "    'name': 'Color Primario',\n",
       "    'value_name': 'Azul',\n",
       "    'id': '83000'},\n",
       "   {'value_id': '101996', 'name': 'Talle', 'value_name': 'L', 'id': '93000'}],\n",
       "  'seller_custom_field': None,\n",
       "  'picture_ids': ['21897-MLA20219050871_122014',\n",
       "   '21826-MLA20219051350_122014',\n",
       "   '21894-MLA20219051403_122014',\n",
       "   '21871-MLA20219051434_122014',\n",
       "   '17709-MLA20142698862_082014'],\n",
       "  'sold_quantity': 0,\n",
       "  'available_quantity': 0,\n",
       "  'id': 9391988881,\n",
       "  'price': 590}]"
      ]
     },
     "execution_count": 8,
     "metadata": {},
     "output_type": "execute_result"
    }
   ],
   "source": [
    "X_train[29]['variations']"
   ]
  },
  {
   "cell_type": "markdown",
   "metadata": {},
   "source": [
    "veamos cuáles son los valores de `attribute_combinations` que puede tener un artículo (valores únicos)"
   ]
  },
  {
   "cell_type": "code",
   "execution_count": 9,
   "metadata": {
    "tags": [
     "hide-input"
    ]
   },
   "outputs": [
    {
     "data": {
      "text/plain": [
       "{'Color Primario', 'Color Secundario', 'Talle'}"
      ]
     },
     "execution_count": 9,
     "metadata": {},
     "output_type": "execute_result"
    }
   ],
   "source": [
    "def collect_attribute_combination_names(items):\n",
    "    attribute_combination_names = []\n",
    "\n",
    "    for item in items:\n",
    "        if 'variations' in item and item['variations']:\n",
    "            for variation in item['variations']:\n",
    "                if 'attribute_combinations' in variation and variation['attribute_combinations']:\n",
    "                    for attribute in variation['attribute_combinations']:\n",
    "                        if 'name' in attribute:\n",
    "                            attribute_combination_names.append(attribute['name'])\n",
    "\n",
    "    return attribute_combination_names\n",
    "\n",
    "attribute_combination_names = collect_attribute_combination_names(X_train)\n",
    "\n",
    "set(attribute_combination_names)"
   ]
  },
  {
   "cell_type": "markdown",
   "metadata": {},
   "source": [
    "dado que un artículo dentro de `attribute_combinations` solo puede tener 'Color Primario', 'Color Secundario' o 'Talle', se extrae el conteo de distintos colores o tallas que pueden tener las variaciones de un artículo\n",
    "\n",
    "una hipótesis inicial puede ser que si un artículo tiene tantos detalles en sus variaciones, es muy probable que sea nuevo. Pero se deja para confirmación en el análisis exploratorio."
   ]
  },
  {
   "cell_type": "markdown",
   "metadata": {},
   "source": [
    "**`features` extraídas del campo `variations`:**\n",
    "\n",
    "1. **Número Total de Variaciones**:\n",
    "   - `variations_count`: Cantidad de todas las variaciones del producto.\n",
    "\n",
    "2. **Estadísticas de Precios de Variaciones**:\n",
    "   - `variation_price_mean`: Precio promedio de todas las variaciones.\n",
    "   - `variation_price_std`: Desviación estándar de los precios de todas las variaciones.\n",
    "   - `variation_price_max`: Precio máximo entre todas las variaciones.\n",
    "   - `variation_price_min`: Precio mínimo entre todas las variaciones.\n",
    "\n",
    "3. **Estadísticas de Cantidad Vendida**:\n",
    "   - `variation_total_sold_quantity`: Cantidad total vendida en todas las variaciones.\n",
    "   - `variation_sold_quantity_mean`: Cantidad promedio vendida en todas las variaciones.\n",
    "   - `variation_sold_quantity_std`: Desviación estándar de las cantidades vendidas en todas las variaciones.\n",
    "   - `variation_sold_quantity_max`: Cantidad máxima vendida entre todas las variaciones.\n",
    "   - `variation_sold_quantity_min`: Cantidad mínima vendida entre todas las variaciones.\n",
    "\n",
    "4. **Estadísticas de Cantidad Disponible**:\n",
    "   - `variation_total_available_quantity`: Cantidad total disponible en todas las variaciones.\n",
    "   - `variation_available_quantity_mean`: Cantidad promedio disponible en todas las variaciones.\n",
    "   - `variation_available_quantity_std`: Desviación estándar de las cantidades disponibles en todas las variaciones.\n",
    "   - `variation_available_quantity_max`: Cantidad máxima disponible entre todas las variaciones.\n",
    "   - `variation_available_quantity_min`: Cantidad mínima disponible entre todas las variaciones.\n",
    "\n",
    "5. **Información de Imágenes**:\n",
    "   - `variations_with_pictures_count`: Cantidad de variaciones que tienen imágenes asociadas.\n",
    "   - `avg_pictures_per_variation`: Número promedio de imágenes por variación.\n",
    "   - `max_pictures_per_variation`: Número máximo de imágenes en cualquier variación.\n",
    "   - `min_pictures_per_variation`: Número mínimo de imágenes en cualquier variación.\n",
    "\n",
    "6. **Attribute Combinations**:\n",
    "   - `variations_distinct_primary_colors`: Cantidad de colores primarios distintos en las variaciones.\n",
    "   - `variations_distinct_secondary_colors`: Cantidad de colores secundarios distintos en las variaciones.\n",
    "   - `variations_distinct_sizes`: Cantidad de tamaños distintos (o 'Talle') en las variaciones.\n",
    "\n",
    "7. **Presencia de Campo `seller_custom_field`**:\n",
    "   - `variations_have_seller_custom_field`: Booleano (1 o 0) que indica si alguna variación tiene el campo `seller_custom_field`."
   ]
  },
  {
   "cell_type": "markdown",
   "metadata": {},
   "source": [
    "Ahora se crea una `función` para extraer estas `features`, y posteriormente eliminar el campo de `variations`. Logrando así avanzar en el objetivo de `aplanar` el `JSON`"
   ]
  },
  {
   "cell_type": "code",
   "execution_count": 10,
   "metadata": {},
   "outputs": [],
   "source": [
    "def extract_variation_features(product):\n",
    "    \"\"\"\n",
    "    Extracts various features from the 'variations' field of a product dictionary.\n",
    "\n",
    "    Args:\n",
    "    product (dict): A dictionary representing a product.\n",
    "\n",
    "    Returns:\n",
    "    dict: A dictionary containing extracted variation features.\n",
    "    \"\"\"\n",
    "    variations = product.get('variations', [])\n",
    "    \n",
    "    # Initialize statistics\n",
    "    prices = []\n",
    "    sold_quantities = []\n",
    "    available_quantities = []\n",
    "    num_pictures = []\n",
    "    color_primary = set()\n",
    "    color_secondary = set()\n",
    "    sizes = set()\n",
    "    has_seller_custom_field = 0\n",
    "    \n",
    "    for variation in variations:\n",
    "        prices.append(variation.get('price', 0))\n",
    "        sold_quantities.append(variation.get('sold_quantity', 0))\n",
    "        available_quantities.append(variation.get('available_quantity', 0))\n",
    "        num_pictures.append(len(variation.get('picture_ids', [])))\n",
    "        \n",
    "        if variation.get('seller_custom_field'):\n",
    "            has_seller_custom_field = 1\n",
    "        \n",
    "        for attribute in variation.get('attribute_combinations', []):\n",
    "            name = attribute.get('name')\n",
    "            value_name = attribute.get('value_name')\n",
    "            \n",
    "            if name == 'Color Primario':\n",
    "                color_primary.add(value_name)\n",
    "            elif name == 'Color Secundario':\n",
    "                color_secondary.add(value_name)\n",
    "            elif name == 'Talle':\n",
    "                sizes.add(value_name)\n",
    "\n",
    "    # Calculate statistics\n",
    "    num_variations = len(variations)\n",
    "    variation_price_mean = sum(prices) / num_variations if num_variations else 0\n",
    "    variation_price_std = (sum((x - variation_price_mean) ** 2 for x in prices) / num_variations) ** 0.5 if num_variations else 0\n",
    "    variation_price_max = max(prices, default=0)\n",
    "    variation_price_min = min(prices, default=0)\n",
    "    \n",
    "    total_sold_quantity = sum(sold_quantities)\n",
    "    sold_quantity_mean = sum(sold_quantities) / num_variations if num_variations else 0\n",
    "    sold_quantity_std = (sum((x - sold_quantity_mean) ** 2 for x in sold_quantities) / num_variations) ** 0.5 if num_variations else 0\n",
    "    sold_quantity_max = max(sold_quantities, default=0)\n",
    "    sold_quantity_min = min(sold_quantities, default=0)\n",
    "    \n",
    "    total_available_quantity = sum(available_quantities)\n",
    "    available_quantity_mean = sum(available_quantities) / num_variations if num_variations else 0\n",
    "    available_quantity_std = (sum((x - available_quantity_mean) ** 2 for x in available_quantities) / num_variations) ** 0.5 if num_variations else 0\n",
    "    available_quantity_max = max(available_quantities, default=0)\n",
    "    available_quantity_min = min(available_quantities, default=0)\n",
    "    \n",
    "    num_variations_with_pictures = sum(1 for x in num_pictures if x > 0)\n",
    "    avg_pictures_per_variation = sum(num_pictures) / num_variations if num_variations else 0\n",
    "    max_pictures_per_variation = max(num_pictures, default=0)\n",
    "    min_pictures_per_variation = min(num_pictures, default=0)\n",
    "    \n",
    "    distinct_primary_colors = len(color_primary)\n",
    "    distinct_secondary_colors = len(color_secondary)\n",
    "    distinct_sizes = len(sizes)\n",
    "    \n",
    "    # Compile features\n",
    "    features = {\n",
    "        'variations_count': num_variations,\n",
    "        'variation_price_mean': variation_price_mean,\n",
    "        'variation_price_std': variation_price_std,\n",
    "        'variation_price_max': variation_price_max,\n",
    "        'variation_price_min': variation_price_min,\n",
    "        'variation_total_sold_quantity': total_sold_quantity,\n",
    "        'variation_sold_quantity_mean': sold_quantity_mean,\n",
    "        'variation_sold_quantity_std': sold_quantity_std,\n",
    "        'variation_sold_quantity_max': sold_quantity_max,\n",
    "        'variation_sold_quantity_min': sold_quantity_min,\n",
    "        'variation_total_available_quantity': total_available_quantity,\n",
    "        'variation_available_quantity_mean': available_quantity_mean,\n",
    "        'variation_available_quantity_std': available_quantity_std,\n",
    "        'variation_available_quantity_max': available_quantity_max,\n",
    "        'variation_available_quantity_min': available_quantity_min,\n",
    "        'variations_with_pictures_count': num_variations_with_pictures,\n",
    "        'avg_pictures_per_variation': avg_pictures_per_variation,\n",
    "        'max_pictures_per_variation': max_pictures_per_variation,\n",
    "        'min_pictures_per_variation': min_pictures_per_variation,\n",
    "        'variations_distinct_primary_colors': distinct_primary_colors,\n",
    "        'variations_distinct_secondary_colors': distinct_secondary_colors,\n",
    "        'variations_distinct_sizes': distinct_sizes,\n",
    "        'variations_have_seller_custom_field': has_seller_custom_field\n",
    "    }\n",
    "    \n",
    "    return features\n",
    "\n",
    "def process_items_variation_features(item_list):\n",
    "    \"\"\"\n",
    "    Process a list of dictionaries to extract variation features and remove the original 'variations' key from each dictionary.\n",
    "\n",
    "    Args:\n",
    "    item_list (list): A list of dictionaries, each representing an item with a 'pictures' field.\n",
    "\n",
    "    Returns:\n",
    "    list: A list of processed item dictionaries with extracted variation features and without the 'variations' key.\n",
    "    \"\"\"\n",
    "    processed_items = []\n",
    "    \n",
    "    for item in item_list:\n",
    "        # Extract variation features\n",
    "        variation_features = extract_variation_features(item)\n",
    "        \n",
    "        # Remove the original 'pictures' key\n",
    "        item.pop('variations', None)\n",
    "        \n",
    "        # Add the new features to the item dictionary\n",
    "        item.update(variation_features)\n",
    "        \n",
    "        # Append the processed item to the list\n",
    "        processed_items.append(item)\n",
    "\n",
    "# Applying the function\n",
    "process_items_variation_features(X_train)\n",
    "process_items_variation_features(X_test)"
   ]
  },
  {
   "cell_type": "markdown",
   "metadata": {},
   "source": [
    "### evaluando el campo `attributes`"
   ]
  },
  {
   "cell_type": "markdown",
   "metadata": {},
   "source": [
    "Para ver qué tan relevante es este campo nos preguntamos\n",
    "\n",
    "Qué porcentaje de artículos tiene `attributes`?"
   ]
  },
  {
   "cell_type": "markdown",
   "metadata": {},
   "source": [
    "en train:"
   ]
  },
  {
   "cell_type": "code",
   "execution_count": 11,
   "metadata": {
    "tags": [
     "hide-input"
    ]
   },
   "outputs": [
    {
     "name": "stdout",
     "output_type": "stream",
     "text": [
      "Total items with attributes in train partition: 11150\n",
      "Percentage of items with attributes: 12.39%\n"
     ]
    }
   ],
   "source": [
    "def calculate_attributes_percentage(items):\n",
    "    total_items = len(items)\n",
    "    items_with_attributes = sum(1 for item in items if 'attributes' in item and item['attributes'])\n",
    "    \n",
    "    percentage_with_attributes = (items_with_attributes / total_items) * 100 if total_items else 0\n",
    "    \n",
    "    return items_with_attributes, percentage_with_attributes\n",
    "\n",
    "items_with_attributes, percentage_with_attributes = calculate_attributes_percentage(X_train)\n",
    "print(f\"Total items with attributes in train partition: {items_with_attributes}\")\n",
    "print(f\"Percentage of items with attributes: {percentage_with_attributes:.2f}%\")"
   ]
  },
  {
   "cell_type": "markdown",
   "metadata": {},
   "source": [
    "en test:"
   ]
  },
  {
   "cell_type": "code",
   "execution_count": 12,
   "metadata": {
    "tags": [
     "hide-input"
    ]
   },
   "outputs": [
    {
     "name": "stdout",
     "output_type": "stream",
     "text": [
      "Total items with attributes in test partition: 1275\n",
      "Percentage of items with attributes: 12.75%\n"
     ]
    }
   ],
   "source": [
    "def calculate_attributes_percentage(items):\n",
    "    total_items = len(items)\n",
    "    items_with_attributes = sum(1 for item in items if 'attributes' in item and item['attributes'])\n",
    "    \n",
    "    percentage_with_attributes = (items_with_attributes / total_items) * 100 if total_items else 0\n",
    "    \n",
    "    return items_with_attributes, percentage_with_attributes\n",
    "\n",
    "items_with_attributes, percentage_with_attributes = calculate_attributes_percentage(X_test)\n",
    "print(f\"Total items with attributes in test partition: {items_with_attributes}\")\n",
    "print(f\"Percentage of items with attributes: {percentage_with_attributes:.2f}%\")"
   ]
  },
  {
   "cell_type": "markdown",
   "metadata": {},
   "source": [
    "ahora se visualiza el contenido de `attributes` para entender la estructura:"
   ]
  },
  {
   "cell_type": "code",
   "execution_count": 13,
   "metadata": {
    "tags": [
     "hide-input",
     "hide-output"
    ]
   },
   "outputs": [
    {
     "data": {
      "text/plain": [
       "[{'value_id': '',\n",
       "  'attribute_group_id': 'ADICIONALES',\n",
       "  'name': 'Expensas ($)',\n",
       "  'value_name': '2500',\n",
       "  'attribute_group_name': 'Adicionales',\n",
       "  'id': 'MLA1472-EXPENCEM'},\n",
       " {'value_id': 'MLA1459-INMUEBLE-DEPARTAMENTO',\n",
       "  'attribute_group_id': 'FIND',\n",
       "  'name': 'Inmueble',\n",
       "  'value_name': 'Departamento',\n",
       "  'attribute_group_name': 'Ficha técnica',\n",
       "  'id': 'MLA1459-INMUEBLE'},\n",
       " {'value_id': 'MLA1459-OPERACION-ALQUILER',\n",
       "  'attribute_group_id': 'FIND',\n",
       "  'name': 'Operación',\n",
       "  'value_name': 'Alquiler',\n",
       "  'attribute_group_name': 'Ficha técnica',\n",
       "  'id': 'MLA1459-OPERACION'},\n",
       " {'value_id': 'MLA1472-AMBQTY-3',\n",
       "  'attribute_group_id': 'FIND',\n",
       "  'name': 'Ambientes',\n",
       "  'value_name': '3',\n",
       "  'attribute_group_name': 'Ficha técnica',\n",
       "  'id': 'MLA1472-AMBQTY'},\n",
       " {'value_id': 'MLA1472-ANTIG-HASTA_5_ANOS',\n",
       "  'attribute_group_id': 'FIND',\n",
       "  'name': 'Antigüedad',\n",
       "  'value_name': 'Hasta 5 años',\n",
       "  'attribute_group_name': 'Ficha técnica',\n",
       "  'id': 'MLA1472-ANTIG'},\n",
       " {'value_id': 'MLA1472-BATHQTY-1',\n",
       "  'attribute_group_id': 'FIND',\n",
       "  'name': 'Baños',\n",
       "  'value_name': '1',\n",
       "  'attribute_group_name': 'Ficha técnica',\n",
       "  'id': 'MLA1472-BATHQTY'},\n",
       " {'value_id': 'MLA1472-DISPOSIC-CONTRAFRENTE',\n",
       "  'attribute_group_id': 'FIND',\n",
       "  'name': 'Disposición',\n",
       "  'value_name': 'Contrafrente',\n",
       "  'attribute_group_name': 'Ficha técnica',\n",
       "  'id': 'MLA1472-DISPOSIC'},\n",
       " {'value_id': 'MLA1472-DORMQTY-2',\n",
       "  'attribute_group_id': 'FIND',\n",
       "  'name': 'Dormitorios',\n",
       "  'value_name': '2',\n",
       "  'attribute_group_name': 'Ficha técnica',\n",
       "  'id': 'MLA1472-DORMQTY'},\n",
       " {'value_id': 'MLA1472-EDIFIC-DEPARTAMENTO',\n",
       "  'attribute_group_id': 'FIND',\n",
       "  'name': 'Tipo de edificación',\n",
       "  'value_name': 'Departamento',\n",
       "  'attribute_group_name': 'Ficha técnica',\n",
       "  'id': 'MLA1472-EDIFIC'},\n",
       " {'value_id': '',\n",
       "  'attribute_group_id': 'FIND',\n",
       "  'name': 'Superficie cubierta (m²)',\n",
       "  'value_name': '144',\n",
       "  'attribute_group_name': 'Ficha técnica',\n",
       "  'id': 'MLA1472-MTRS'},\n",
       " {'value_id': '',\n",
       "  'attribute_group_id': 'FIND',\n",
       "  'name': 'Superficie total (m²)',\n",
       "  'value_name': '164',\n",
       "  'attribute_group_name': 'Ficha técnica',\n",
       "  'id': 'MLA1472-MTRSTOTAL'}]"
      ]
     },
     "execution_count": 13,
     "metadata": {},
     "output_type": "execute_result"
    }
   ],
   "source": [
    "X_train[30198]['attributes']"
   ]
  },
  {
   "cell_type": "markdown",
   "metadata": {},
   "source": [
    "Hay tres campos que llaman la atención, estos son `attribute_group_id`, `name`, `value_name`, `attribute_group_name`. Se les presta mucha atención a estos campos dado que puede que nos den un indicio de la `categoría` del artículo. Y basado en la experiencia, la `categoría` del producto es una variable muy útil al momento de hacer modelos de clasificación.\n",
    "\n",
    "empecemos con el campo `attribute_group_id`, veamos cuales son los distintos valores que se pueden extraer de este campo:"
   ]
  },
  {
   "cell_type": "code",
   "execution_count": 14,
   "metadata": {
    "tags": [
     "hide-input",
     "hide-output"
    ]
   },
   "outputs": [
    {
     "data": {
      "text/plain": [
       "{'ADICIONALES',\n",
       " 'AMBIENTES',\n",
       " 'CARACTERISTICAS',\n",
       " 'COMODIDADES',\n",
       " 'COMOYAMEN',\n",
       " 'CONFORT',\n",
       " 'DDPLANAHO',\n",
       " 'DFLT',\n",
       " 'EQUIPAMIENTO',\n",
       " 'EXTERIOR',\n",
       " 'FIND',\n",
       " 'RANGCUOTA',\n",
       " 'SECURITY',\n",
       " 'SONIDO'}"
      ]
     },
     "execution_count": 14,
     "metadata": {},
     "output_type": "execute_result"
    }
   ],
   "source": [
    "def get_distinct_attribute_group_ids(dict_list):\n",
    "    attribute_group_ids = set()\n",
    "    vowel_map = str.maketrans('ÁÉÍÓÚáéíóú', 'AEIOUaeiou')\n",
    "\n",
    "    for d in dict_list:\n",
    "        if 'attributes' in d:\n",
    "            for attribute in d['attributes']:\n",
    "                if 'attribute_group_id' in attribute:\n",
    "                    transformed_attribute = attribute['attribute_group_id'].upper().translate(vowel_map)\n",
    "                    attribute_group_ids.add(transformed_attribute)\n",
    "                    \n",
    "    return attribute_group_ids\n",
    "\n",
    "attribute_group_ids_set = get_distinct_attribute_group_ids(X_train)\n",
    "\n",
    "attribute_group_ids_set"
   ]
  },
  {
   "cell_type": "markdown",
   "metadata": {},
   "source": [
    "ahora los distintos valores para `name`"
   ]
  },
  {
   "cell_type": "code",
   "execution_count": 15,
   "metadata": {
    "tags": [
     "hide-input",
     "hide-output"
    ]
   },
   "outputs": [
    {
     "data": {
      "text/plain": [
       "{'% DE SEÑA',\n",
       " 'A CUANTAS CUADRAS DEL CENTRO',\n",
       " 'A CUANTAS CUADRAS DEL MAR',\n",
       " 'ACCESO',\n",
       " 'ADECUADO PARA EVENTOS',\n",
       " 'ADJUDICADO',\n",
       " 'AGUA CORRIENTE',\n",
       " 'AIRBAG CONDUCTOR',\n",
       " 'AIRBAG DE CORTINA',\n",
       " 'AIRBAG LATERALES',\n",
       " 'AIRBAG PASAJERO',\n",
       " 'AIRE ACONDICIONADO',\n",
       " 'ALARMA',\n",
       " 'ALARMA DE LUCES ENCENDIDAS',\n",
       " 'ALARMA DE SEGURIDAD',\n",
       " 'ALTO (MTS)',\n",
       " 'ALTURA',\n",
       " 'ALTURA DEL TECHO (M)',\n",
       " 'AM/FM',\n",
       " 'AMBIENTES',\n",
       " 'AMBIENTES DEL CASCO',\n",
       " 'AMOBLADO',\n",
       " 'ANCHO',\n",
       " 'ANCHO (MTS)',\n",
       " 'ANTIGÜEDAD',\n",
       " 'ANTIGÜEDAD DEL CASCO',\n",
       " 'APERTURA REMOTA DE BAUL',\n",
       " 'APOYA CABEZA EN ASIENTOS TRASEROS',\n",
       " 'APTO PARA FAMILIAS/NIÑOS',\n",
       " 'APTO PARA FUMADORES',\n",
       " 'APTO PROFESIONAL',\n",
       " 'ASCENSOR',\n",
       " 'ASCENSOR DE SERVICIO',\n",
       " 'ASIENTO ACOMPAÑANTE REGULABLE EN ALTURA',\n",
       " 'ASIENTO CONDUCTOR REGULABLE EN ALTURA',\n",
       " 'ASIENTO TRASERO REBATIBLE',\n",
       " 'ASIENTOS ELECTRICOS',\n",
       " 'AÑO',\n",
       " 'BALCON',\n",
       " 'BAR',\n",
       " 'BAULERA',\n",
       " 'BAULERA/ALTILLO',\n",
       " 'BAÑOS',\n",
       " 'BEBEDEROS',\n",
       " 'BIBLIOTECA',\n",
       " 'BLINDADO',\n",
       " 'BLUETOOTH',\n",
       " 'BUTACA CONDUCTOR ELECTRICA',\n",
       " 'BUTACAS DELANTERAS TERMICAS',\n",
       " 'BUTACAS RECLINABLES',\n",
       " 'BUTACAS REGULABLES CON MEMORIA',\n",
       " 'CAJA DE CD',\n",
       " 'CAJA DE SEGURIDAD',\n",
       " 'CALEFACCION',\n",
       " 'CALEFON',\n",
       " 'CAMA MATRIMONIAL',\n",
       " 'CANCHA DE BASQUET',\n",
       " 'CANCHA DE FUTBOL',\n",
       " 'CANCHA DE GOLF',\n",
       " 'CANCHA DE PADDEL',\n",
       " 'CANCHA DE PADDLE',\n",
       " 'CANCHA DE TENIS',\n",
       " 'CANCHA DE VOLEY',\n",
       " 'CANT. DE PUERTAS',\n",
       " 'CANT.DE PISOS DEL EDIFICIO',\n",
       " 'CANTIDAD DE CUOTAS',\n",
       " 'CANTIDAD DE CUOTAS PAGAS',\n",
       " 'CAPACIDAD',\n",
       " 'CAPACIDAD DE CARGA (KG)',\n",
       " 'CAPACIDAD DE LASTRE (KG)',\n",
       " 'CAPACIDAD DE PERSONAS',\n",
       " 'CARGADOR DE CD',\n",
       " 'CARROCERIA',\n",
       " 'CASA DEL CASERO',\n",
       " 'CASCO',\n",
       " 'CD',\n",
       " 'CHECK IN',\n",
       " 'CHECK OUT',\n",
       " 'CIERRE CENTRALIZADO DE PUERTAS',\n",
       " 'CILINDRADA',\n",
       " 'CINTURONES INERCIALES DELANTEROS',\n",
       " 'CLIMATIZADOR AUTOMATICO',\n",
       " 'COCHERA',\n",
       " 'COCHERAS',\n",
       " 'COCINA',\n",
       " 'COLOR',\n",
       " 'COMANDO SATELITAL DE STEREO',\n",
       " 'COMBUSTIBLE',\n",
       " 'COMEDOR',\n",
       " 'COMEDOR DIARIO',\n",
       " 'COMPUTADORA DE ABORDO',\n",
       " 'CONEXION A INTERNET',\n",
       " 'CONTROL DE ESTABILIDAD',\n",
       " 'CONTROL DE TRACCION',\n",
       " 'CONTROL DE VELOCIDAD DE CRUCERO',\n",
       " 'CORRALES',\n",
       " 'CRISTALES ELECTRICOS',\n",
       " 'DEPARTAMENTOS POR PISO',\n",
       " 'DEPENDENCIA DE SERVICIO',\n",
       " 'DEPOSITO',\n",
       " 'DEPOSITO EN GARANTIA $',\n",
       " 'DESAYUNO INCLUIDO',\n",
       " 'DESDE',\n",
       " 'DESDE (FECHA)',\n",
       " 'DIRECCION',\n",
       " 'DISPOSICION',\n",
       " 'DISPOSICION DEL LOTE',\n",
       " 'DISTANCIA AL ASFALTO (KM)',\n",
       " 'DISTRIBUCION',\n",
       " 'DOBLE TRACCION',\n",
       " 'DORMITORIO EN SUITE',\n",
       " 'DORMITORIOS',\n",
       " 'DVD',\n",
       " 'ENTRADA AUXILIAR',\n",
       " 'ENTRADA USB',\n",
       " 'ENTREPISO',\n",
       " 'ESCRITORIO',\n",
       " 'ESPEJOS ELECTRICOS',\n",
       " 'ESPEJOS EXTERIORES REGULABLES DESDE EL INTERIOR',\n",
       " 'ESTACIONAMIENTO',\n",
       " 'ESTADIA MINIMA',\n",
       " 'ESTADO',\n",
       " 'ESTADO DEL CASCO',\n",
       " 'ESTADO DEL INMUEBLE',\n",
       " 'ESTAR',\n",
       " 'EXPENSAS ($)',\n",
       " 'F.O.T (FACTOR DE OCUPACION TOTAL)',\n",
       " 'FAROS ANTINIEBLAS DELANTEROS',\n",
       " 'FAROS ANTINIEBLAS TRASEROS',\n",
       " 'FAROS DE XENON',\n",
       " 'FAROS REGULABLES DESDE EL INTERIOR',\n",
       " 'FORESTACION',\n",
       " 'FRENOS',\n",
       " 'FRENOS A MOTOR',\n",
       " 'FRENOS ABS',\n",
       " 'FRENOS DE DISCO DELANTEROS',\n",
       " 'FRENTE DEL TERRENO (MTS)',\n",
       " 'FUERZA MOTRIZ',\n",
       " 'GALERIA',\n",
       " 'GALPONES',\n",
       " 'GAS NATURAL',\n",
       " 'GENERO',\n",
       " 'GIMNASIO',\n",
       " 'GPS',\n",
       " 'GRUPO ELECTROGENO',\n",
       " 'GRUPO ELETROGENO',\n",
       " 'HALL DE ENTRADA',\n",
       " 'HASTA',\n",
       " 'HASTA (FECHA)',\n",
       " 'HECTAREAS TOTALES',\n",
       " 'HELADERA',\n",
       " 'HIDROMASAJE',\n",
       " 'HOGAR A LEÑA',\n",
       " 'HORARIO DE CONTACTO',\n",
       " 'INMOVILIZADOR DE MOTOR',\n",
       " 'INMUEBLE',\n",
       " 'INSTALACION ELECTRICA',\n",
       " 'INSTALACION PARRILLA',\n",
       " 'ISOFIX',\n",
       " 'JACUZZI',\n",
       " 'JARDIN',\n",
       " 'JUEGOS INFANTILES',\n",
       " 'KILOMETROS',\n",
       " 'LARGO',\n",
       " 'LARGO (MTS)',\n",
       " 'LARGO DEL TERRENO (MTS)',\n",
       " 'LAUNDRY',\n",
       " 'LAVADERO',\n",
       " 'LAVARROPA/SECARROPA',\n",
       " 'LEVANTAVIDRIOS ELECTRICOS DELANTEROS',\n",
       " 'LICENCIA',\n",
       " 'LIMPIA/LAVA FAROS',\n",
       " 'LIMPIA/LAVA LUNETA',\n",
       " 'LINEA TELEFONICA',\n",
       " 'LIVING',\n",
       " 'LIVING COMEDOR',\n",
       " 'LLANTAS DE ALEACION',\n",
       " 'LLAVE CODIFICADA',\n",
       " 'LOCALIZACION',\n",
       " 'LUGAR',\n",
       " 'LUMINOSIDAD',\n",
       " 'LUZ A MOTOR',\n",
       " 'LUZ DE LECTURA',\n",
       " 'LUZ ELECTRICA',\n",
       " 'MANGAS',\n",
       " 'MARCA',\n",
       " 'MARCA DEL MOTOR',\n",
       " 'MEDIDA DEL NEUMATICO',\n",
       " 'MODELO',\n",
       " 'MOLINOS',\n",
       " 'MONTACARGA',\n",
       " 'MP3',\n",
       " 'MUSICA DE AMBIENTE',\n",
       " 'NOMBRE DEL CEMENTERIO',\n",
       " 'NOMBRE DEL TIEMPO COMPARTIDO',\n",
       " 'NRO_PIEZA',\n",
       " 'NUMERO DE CAMAS',\n",
       " 'NUMERO DE PIEZA',\n",
       " 'NUMERO PIEZA',\n",
       " 'OFICINAS',\n",
       " 'OPERACION',\n",
       " 'ORIENTACION',\n",
       " 'PARAGOLPES PINTADOS',\n",
       " 'PARRILLA',\n",
       " 'PASACASSETTE',\n",
       " 'PATIO',\n",
       " 'PELICULA DE SEGURIDAD',\n",
       " 'PERMITE MASCOTAS',\n",
       " 'PILETA',\n",
       " 'PISO',\n",
       " 'PLANTAS',\n",
       " 'PLAYROOM',\n",
       " 'PLAZA DE MANIOBRAS',\n",
       " 'POLARIDAD',\n",
       " 'PORTON ELECTRICO',\n",
       " 'POTENCIA MAX.(RPM-CV)',\n",
       " 'POTREROS',\n",
       " 'PUERTA BLINDADA',\n",
       " 'QUANTIDADE DE ANDARES',\n",
       " 'QUINCHO',\n",
       " 'RADIO',\n",
       " 'RAMPA PARA DISCAPACITADOS',\n",
       " 'RECAUDACION MENSUAL ($)',\n",
       " 'RECEPCION',\n",
       " 'REPARTIDOR ELECTRONICO DE FUERZA DE FRENADO',\n",
       " 'RESTAURANTE',\n",
       " 'ROPA BLANCA',\n",
       " 'SALA DE REUNIONES',\n",
       " 'SALAMANDRA',\n",
       " 'SALIDAS DE EMERGENCIA',\n",
       " 'SALON DE USOS MULTIPLES',\n",
       " 'SAUNA',\n",
       " 'SEASON',\n",
       " 'SEGURIDAD',\n",
       " 'SENSOR DE ESTACIONAMIENTO',\n",
       " 'SENSOR DE LLUVIA',\n",
       " 'SENSOR DE LUZ',\n",
       " 'SILOS',\n",
       " 'SISTEMA CONTRA INCENDIO',\n",
       " 'SISTEMA DE ARRANQUE',\n",
       " 'SISTEMA DE FRENADO',\n",
       " 'SOLARIUM',\n",
       " 'SPA',\n",
       " 'SUM',\n",
       " 'SUP PLAYA DE ESTACIONAMIENTO (M2)',\n",
       " 'SUP. CUBIERTA DEL CASCO (M²)',\n",
       " 'SUPERFICIE CONSTRUIBLE',\n",
       " 'SUPERFICIE CONSTRUIDA (M²)',\n",
       " 'SUPERFICIE CUBIERTA (M²)',\n",
       " 'SUPERFICIE TOTAL (M²)',\n",
       " 'TANQUE DE AGUA',\n",
       " 'TANQUE DE INCENDIO',\n",
       " 'TANQUES DE AGUA',\n",
       " 'TAPIZADO DE CUERO',\n",
       " 'TARJETA SD',\n",
       " 'TECHO CORREDIZO',\n",
       " 'TELEFONO',\n",
       " 'TELEVISION',\n",
       " 'TERCER STOP',\n",
       " 'TERMOTANQUE',\n",
       " 'TERRAZA',\n",
       " 'TIEMPO',\n",
       " 'TIPO',\n",
       " 'TIPO DE ALOJAMIENTO',\n",
       " 'TIPO DE CAMPO',\n",
       " 'TIPO DE COBERTURA',\n",
       " 'TIPO DE COCHERA',\n",
       " 'TIPO DE EDIFICACION',\n",
       " 'TIPO DE ENTREGA',\n",
       " 'TIPO DE FONDO DE COMERCIO',\n",
       " 'TIPO DE HABITACION',\n",
       " 'TIPO DE INMUEBLE',\n",
       " 'TIPO DE MOTOR',\n",
       " 'TIPO DE TIEMPO COMPARTIDO',\n",
       " 'TOILETTE',\n",
       " 'TRACCION',\n",
       " 'TRANSMISION',\n",
       " 'TV POR CABLE',\n",
       " 'UNICO DUEÑO',\n",
       " 'UNIDAD DE REFERENCIA',\n",
       " 'VAJILLA PARA # DE PERSONAS',\n",
       " 'VALOR CUOTA ($)',\n",
       " 'VENTANAS PANORAMICAS',\n",
       " 'VENTILADOR DE TECHO',\n",
       " 'VERSION',\n",
       " 'VESTIDOR',\n",
       " 'VESTUARIO',\n",
       " 'VESTUARIOS',\n",
       " 'VIDEO',\n",
       " 'VIDRIOS POLARIZADOS',\n",
       " 'VIVIENDA',\n",
       " 'VOLTAJE NOMINAL',\n",
       " 'WIFI'}"
      ]
     },
     "execution_count": 15,
     "metadata": {},
     "output_type": "execute_result"
    }
   ],
   "source": [
    "def get_distinct_attribute_names(dict_list):\n",
    "    attribute_names = set()\n",
    "    vowel_map = str.maketrans('ÁÉÍÓÚáéíóú', 'AEIOUaeiou')\n",
    "    \n",
    "    for d in dict_list:\n",
    "        if 'attributes' in d:\n",
    "            for attribute in d['attributes']:\n",
    "                if 'name' in attribute:\n",
    "                    transformed_name = attribute['name'].upper().translate(vowel_map)\n",
    "                    attribute_names.add(transformed_name)\n",
    "                    \n",
    "    return attribute_names\n",
    "\n",
    "get_distinct_attribute_names(X_train)"
   ]
  },
  {
   "cell_type": "markdown",
   "metadata": {},
   "source": [
    "ahora los distintos valores para `value_name`"
   ]
  },
  {
   "cell_type": "code",
   "execution_count": 16,
   "metadata": {
    "tags": [
     "hide-input",
     "hide-output"
    ]
   },
   "outputs": [
    {
     "data": {
      "text/plain": [
       "{'',\n",
       " '111111',\n",
       " 'MAM075',\n",
       " 'NAFTA',\n",
       " 'BIZ 125',\n",
       " 'PS04010C',\n",
       " 'DE 9 A 20',\n",
       " 'R15/205/50',\n",
       " 'MC2554',\n",
       " '358000',\n",
       " '15:00',\n",
       " '9 A 19 ',\n",
       " '300000',\n",
       " 'VKMA 01000',\n",
       " 'CR018',\n",
       " '9 A 13/14:30 A 18:30',\n",
       " '111',\n",
       " 'CLASSIC 1.9 TDI HIGHLINE ABS AB TC',\n",
       " 'R 12',\n",
       " 'D211',\n",
       " 'PS59610I',\n",
       " '1336Z0',\n",
       " '1.6 FLY VIRAL (L/08)',\n",
       " '31 DE ENERO 2016',\n",
       " 'ROUSER 200 NS',\n",
       " 'R20/OTRASMEDIDAS/OTRASMEDIDAS',\n",
       " '94007MI_A',\n",
       " 'WAGON WIND 1.6 N',\n",
       " '225/45 R17',\n",
       " 'CORVEN HUNTER 200',\n",
       " '10-23HS',\n",
       " '38253MX',\n",
       " 'RL DIESEL 5PTAS.',\n",
       " 'CUSTON',\n",
       " 'RM8654',\n",
       " 'R16/195/60',\n",
       " 'SANDERO STEPWAY',\n",
       " '597091',\n",
       " '1.0 AA CD 3PTAS.',\n",
       " '44413MI',\n",
       " '55000',\n",
       " 'MI28KD',\n",
       " '93315492',\n",
       " '47557',\n",
       " '27360',\n",
       " '2005',\n",
       " '70000',\n",
       " '39',\n",
       " 'SL 125',\n",
       " '9 A 19:30 HS',\n",
       " '7702217591',\n",
       " '8:00 A 19:30 HS',\n",
       " 'VTH5615',\n",
       " '374332',\n",
       " '930 A 19',\n",
       " '1/02/2015',\n",
       " 'PLATA',\n",
       " '4PTAS. 1.6 N GLS (L08)',\n",
       " 'R14/195/70',\n",
       " 'FASE 2 - 5PTAS. 1.6 EXPRESSION',\n",
       " 'AG251053',\n",
       " 'EN 125 2A',\n",
       " 'ASFALTO',\n",
       " '34875G',\n",
       " 'R18/235/40',\n",
       " '10800',\n",
       " '1.8T FSI (160CV) MULTITRONIC SPORT ALCANTARA',\n",
       " 'ZX',\n",
       " '10  22 ',\n",
       " '68650',\n",
       " '9.00 A 21.00',\n",
       " '012.0348',\n",
       " '38242MX',\n",
       " '4001.NP',\n",
       " 'GFORCE 300',\n",
       " 'FAVORITA',\n",
       " 'SUR',\n",
       " 'NAFTA/GNC',\n",
       " '255/70 R15',\n",
       " '9 / 19',\n",
       " '9 A 18 HS',\n",
       " 'FUN',\n",
       " 'METALPAR',\n",
       " '72081MI',\n",
       " '255/60 R18',\n",
       " 'NEW TITAN 150',\n",
       " 'GRINDER 150',\n",
       " 'DE 10 A 18',\n",
       " '1.8 LXS MT SEDAN (140CV) (L06)',\n",
       " 'C220',\n",
       " 'A3',\n",
       " 'DUKE 200',\n",
       " 'PS54050I',\n",
       " '93323269',\n",
       " 'R16/255/70',\n",
       " '110 COUNTY',\n",
       " 'HONDA XR 250 R IMPECABLE!!!',\n",
       " '290',\n",
       " 'RM9987',\n",
       " '37308710',\n",
       " '9.30 - 19.30',\n",
       " 'CROSSFOX',\n",
       " 'MERCEDEZ BENZ 280 SEL LIMOUSINE',\n",
       " '141',\n",
       " '0986BB0290',\n",
       " 'SX 1.6 16V',\n",
       " '24H',\n",
       " '8 A 23 HS. ',\n",
       " '6200202',\n",
       " 'N',\n",
       " 'BMW',\n",
       " 'CUATRICICLO TIBO SHARK 200',\n",
       " '94193MI',\n",
       " '46793915',\n",
       " '49001',\n",
       " '432',\n",
       " '29500',\n",
       " '40%',\n",
       " '2222222',\n",
       " '026015K',\n",
       " '30282',\n",
       " '1O A 23 HORAS',\n",
       " 'COMIL PIA',\n",
       " '1J0807217C',\n",
       " '09.30 A 13.00 Y 14.00 A 19.30 HS',\n",
       " 'LAGUNA',\n",
       " '4PTAS. 1.6 N BASE',\n",
       " '400 CV',\n",
       " '15/02/2014',\n",
       " 'IM60055/15',\n",
       " 'GOL COUNTRY',\n",
       " '05P1315',\n",
       " '2890',\n",
       " '13',\n",
       " 'FD 200',\n",
       " '29427',\n",
       " 'FURGON CORTO 2.5 DCI L1H1 PACK ELECTRICO (L09) / 2.8 D',\n",
       " 'TWINGO',\n",
       " '43806MX',\n",
       " 'JIMNY',\n",
       " 'R15/205/45',\n",
       " '54500',\n",
       " 'COMPACT 5PTAS. 1.4 N XR (75CV) (L08)',\n",
       " '255/65 R17',\n",
       " 'AUTUMN-WINTER',\n",
       " '164000',\n",
       " '09 A19 HS',\n",
       " '48',\n",
       " 'RM2807',\n",
       " 'CUBIERTA',\n",
       " '4/4/2015',\n",
       " 'DAKAR',\n",
       " '2.0I 16V TENDANCE',\n",
       " 'S3',\n",
       " '9 HS  A 22HS',\n",
       " 'HG33007I',\n",
       " '56000',\n",
       " 'R/AB/302',\n",
       " 'RM1724',\n",
       " '83759MX',\n",
       " 'G7026',\n",
       " 'XT 1.6',\n",
       " 'APEX2129',\n",
       " '9 A 13 Y 13,30 A 19,30HS.',\n",
       " '89000',\n",
       " 'BORDO',\n",
       " '$ 1100',\n",
       " '2,70',\n",
       " '1.6 8V. EXPRESSION PACK I / CONFORT PACK II PH2 (90CV) (L11)',\n",
       " '610',\n",
       " 'DUNA SD',\n",
       " '2114',\n",
       " '1J0 513 025 CB',\n",
       " 'ADVENTURE 1.6 16V SEGURIDAD LOCKER',\n",
       " '8HS A 20HS',\n",
       " '589000',\n",
       " 'DESPUES DE LAS 20:30HS',\n",
       " 'NUEVOS COLORES',\n",
       " '44000',\n",
       " '62094',\n",
       " '1K0-423-812-A',\n",
       " 'LTZ',\n",
       " 'A1',\n",
       " '0280156152',\n",
       " '1J1941018Q',\n",
       " '2226',\n",
       " 'SORENTO',\n",
       " 'INTERNO',\n",
       " '3PTAS. 1.6 XS PREMIUM',\n",
       " '504',\n",
       " '26 DE DICIEMBRE 2015',\n",
       " '57800',\n",
       " '1995',\n",
       " '129430',\n",
       " 'CUATRICICLOS',\n",
       " '7 A 22',\n",
       " 'EL 1.4 AA DA (L10)',\n",
       " '10:00 A 19:00 HS.',\n",
       " '15061',\n",
       " '72221',\n",
       " '65000',\n",
       " '38120MX',\n",
       " '189',\n",
       " '77 00 434 925',\n",
       " 'RM8210',\n",
       " '17-22',\n",
       " 'FIRE 1.4 TOP 5PTAS.',\n",
       " '340',\n",
       " '400',\n",
       " '22094',\n",
       " '01/01/2015',\n",
       " '24236609',\n",
       " '348',\n",
       " '030121016',\n",
       " '81',\n",
       " '9,30 A 19,00 DE LUNES A S A B A D O',\n",
       " 'MC2260',\n",
       " '1976',\n",
       " 'AGKIT369',\n",
       " '11000',\n",
       " 'S10',\n",
       " 'ATTRACTIVE 1.4 5PTAS. (85CV) (L12)',\n",
       " 'LAND ROVER',\n",
       " 'RM7481',\n",
       " '9 A 21',\n",
       " '8:30 A 12:30 Y DE 16:30 A 20:30',\n",
       " 'KIA K 2400',\n",
       " 'APEX2351',\n",
       " 'ARBOL',\n",
       " '3.6 N V6 TIPTRONIC S (300CV)',\n",
       " 'R14/195/65',\n",
       " '4PTAS. 1.4 N GL % (L09)',\n",
       " '992',\n",
       " 'MIDSHIP',\n",
       " '300',\n",
       " '83733MI_B',\n",
       " '8-20',\n",
       " '1.4 TSI',\n",
       " '2.4 N AT PREMIUM (174HP) (L10)',\n",
       " '1012',\n",
       " 'YOUNG 1.3 5PTAS. BASE',\n",
       " '2013 VERSYS 1000',\n",
       " 'ENTRE LAS 10 Y LAS 15HS',\n",
       " '317',\n",
       " '305917/1',\n",
       " 'CABAÑA',\n",
       " '22:00',\n",
       " '5PTAS. 2.0 N XS PREMIUM (L00)',\n",
       " '10 - 22',\n",
       " 'CLIO',\n",
       " 'R15/175/70',\n",
       " 'OTRO',\n",
       " 'RAM',\n",
       " '8:30 - 20:00 HS',\n",
       " '30M2',\n",
       " '5PTAS. 1.6 XT TIPTRONIC',\n",
       " '5600',\n",
       " 'XEI 1.8 MANUAL',\n",
       " '115800',\n",
       " '4852150W00',\n",
       " 'COOPER S COUPE',\n",
       " 'YBR 125 E',\n",
       " '3.0',\n",
       " '42091',\n",
       " 'TI4257',\n",
       " '365',\n",
       " '807',\n",
       " 'ALLURE 1.4 N 5P',\n",
       " '97',\n",
       " 'BEBES',\n",
       " '19250',\n",
       " 'PS02820I',\n",
       " '85500',\n",
       " 'CLASE CLC',\n",
       " '3.0 TDI C/D 4X2 SRV (171CV) (L12)',\n",
       " 'OEMIPF2CB',\n",
       " '320 ELEGANCE AT COUPE',\n",
       " '25%',\n",
       " 'RMKP809',\n",
       " '4556',\n",
       " '93284310',\n",
       " 'LIKE 125',\n",
       " '14577665',\n",
       " '43401MX',\n",
       " 'BACV210',\n",
       " 'IM76504',\n",
       " '444',\n",
       " '816',\n",
       " 'TRANSIT',\n",
       " '87900',\n",
       " 'CADDY',\n",
       " '10410.450',\n",
       " '83752MI',\n",
       " '128700',\n",
       " '7882',\n",
       " 'DE 09 A 19',\n",
       " 'CASA',\n",
       " '1.9D',\n",
       " '200',\n",
       " 'R/AB/219',\n",
       " '185/65 R15',\n",
       " '284',\n",
       " '38939MX',\n",
       " '109',\n",
       " 'TUNING',\n",
       " 'BD 0356',\n",
       " '93293007',\n",
       " '6/2/2016',\n",
       " '5PTAS. 1.6 N XS (110CV) (L06) DISCONTINUO',\n",
       " '09:00 AM HASTA 20:00 PM',\n",
       " 'W75/3',\n",
       " 'GL 2.0 8V',\n",
       " '42289MX',\n",
       " '112500',\n",
       " 'TERRAZAS AL MAR RESORT SPA',\n",
       " '450000',\n",
       " '2.5 TD C/DOBLE 4X2 AA (L99)',\n",
       " 'LE CAR',\n",
       " '77 00 733 850',\n",
       " '16.21',\n",
       " 'TATA',\n",
       " '8 A 19 HS',\n",
       " 'CG FAN 2008',\n",
       " 'BOXSTER',\n",
       " 'ESSENCE 1.6 16V 115CV,MOTOR E-TORQ',\n",
       " 'FOX',\n",
       " '0831R9',\n",
       " '901',\n",
       " '22116561',\n",
       " '10 A 20 HS PARA ACORDAR ENTREVISTA',\n",
       " 'RN N PK2 5PTAS.',\n",
       " '2.4I MT (170HP)',\n",
       " '8 HS. A 20  HS.',\n",
       " 'AC30897',\n",
       " '112000',\n",
       " '125000',\n",
       " 'LLAME YA! DE 9HS A 19HS',\n",
       " '60502',\n",
       " 'CBX',\n",
       " '1.6 TRENDLINE 3PTAS. (FAROS / PM / SPOILER)',\n",
       " 'LAMPARA',\n",
       " 'TIERRA',\n",
       " 'CLIO MIO',\n",
       " 'ECOSPORT',\n",
       " '38817MX',\n",
       " '61249',\n",
       " 'RMP234',\n",
       " 'YURDN58ÑLK',\n",
       " 'YBR 125 ',\n",
       " 'MASTER',\n",
       " '1.6 5PTAS. PACK III I-MOTION (101CV) (L13)',\n",
       " '2012',\n",
       " '62273',\n",
       " 'COMBO307',\n",
       " 'TAUNUS',\n",
       " '37123',\n",
       " 'ZAD837681',\n",
       " 'CRUZE',\n",
       " '09:00',\n",
       " 'PD/689',\n",
       " 'I68-3C ',\n",
       " 'SKUA 200',\n",
       " 'R16/205/55',\n",
       " 'R700 ED ESPECIAL',\n",
       " '              24HS',\n",
       " 'JAPONESA',\n",
       " 'R17/225/65',\n",
       " '504 PICK UP',\n",
       " '8.00 HASTA 22.00',\n",
       " 'GTI (156CV) 5PTAS.',\n",
       " 'R14/185/60',\n",
       " '08,30 A 20,30',\n",
       " 'TE',\n",
       " 'ARENERO DEPORTIVO',\n",
       " '10A20',\n",
       " '2.0 TRENDLINE MT',\n",
       " 'ZX6',\n",
       " 'EXTREME',\n",
       " 'CARGO',\n",
       " 'NO TIENE',\n",
       " '2,3',\n",
       " '70048',\n",
       " 'R13/OTRASMEDIDAS/OTRASMEDIDAS',\n",
       " 'R18/225/45',\n",
       " 'NISSAN',\n",
       " '700 APROX',\n",
       " '84746MX',\n",
       " '25183779',\n",
       " '205288',\n",
       " '60000',\n",
       " 'OA 101',\n",
       " 'SAVEIRO',\n",
       " '05P1318',\n",
       " 'MUY BUENO',\n",
       " '94',\n",
       " '710',\n",
       " '72367',\n",
       " 'QUE LLAME Y ARREGLAMOS HORARIO.',\n",
       " 'GRAND VITARA',\n",
       " 'E5117',\n",
       " '56992R40A0',\n",
       " 'RM, CR, YZ, KX 250 ',\n",
       " '5',\n",
       " '1.8 EXS AT SEDAN (140CV) (L06)',\n",
       " 'RM, CR, YZ, KX 250',\n",
       " '1-026070',\n",
       " 'ATV DEPORTIVO 250 OKM',\n",
       " 'RAPTOR 660',\n",
       " 'SPRINTER',\n",
       " '1.6 5PTAS. PACK II (101CV) (L13)',\n",
       " '235/75 R15',\n",
       " '278000',\n",
       " 'CHEVROLET',\n",
       " '0089',\n",
       " 'OTRO TIPO',\n",
       " '111111111',\n",
       " 'MAS DE 3',\n",
       " 'FREESTYLE 1.6L SIGMA',\n",
       " 'MB533',\n",
       " '1.6 HIGHLINE',\n",
       " 'SCANIA',\n",
       " '130000',\n",
       " '270C 1.9 D / 1.9 TD CORTO',\n",
       " '44458MI',\n",
       " '86',\n",
       " 'C29108',\n",
       " 'R15/235/65',\n",
       " 'LS',\n",
       " 'BLOOWER',\n",
       " 'CHRYSLER',\n",
       " '2327',\n",
       " '09.30 A 12.30 / 15 A 20 HS.',\n",
       " 'L A D DE 10 A 19',\n",
       " '39900',\n",
       " 'TO005',\n",
       " 'UNO',\n",
       " 'ROYAL HOME',\n",
       " '1.6 MI 5PTAS. DUBLIN DH',\n",
       " '59650MX',\n",
       " '1336Z6',\n",
       " '1970',\n",
       " 'MOTOMEL TCP 200 FULL',\n",
       " 'C4',\n",
       " '10 A 18HS',\n",
       " 'TI4105',\n",
       " '8200716906',\n",
       " '37108',\n",
       " '10%',\n",
       " '94130MX',\n",
       " 'ZF7377G',\n",
       " '09:00 A 22:00 HS',\n",
       " '4PTAS. 2.0 N XS PREMIUM (143CV) (L06)',\n",
       " '33',\n",
       " '325000',\n",
       " 'NORTE',\n",
       " '2006',\n",
       " 'GLK 300 4 MATIC',\n",
       " '3000845701',\n",
       " '1.6 5PTAS. PACK I (PM)',\n",
       " '254',\n",
       " '16 A 21HS',\n",
       " 'M2',\n",
       " '10.00 A 20.00 HS',\n",
       " '10013',\n",
       " '2.0 TDI ADVANCE DSG (140CV)',\n",
       " 'CHACRA',\n",
       " '145',\n",
       " 'AGKIT075',\n",
       " 'POLO',\n",
       " '8 A 20 HS',\n",
       " '1.4 LXL MT IVTEC (L09)',\n",
       " '55',\n",
       " '245000',\n",
       " '08:00 HS A 24:00 HS',\n",
       " '10 A 19 ',\n",
       " '38033MX',\n",
       " '5P 1.4 FIRE EVO WAY (LN)',\n",
       " '38045MX',\n",
       " '8,62',\n",
       " 'BETA',\n",
       " 'G055025A2',\n",
       " '9HS A 19HS',\n",
       " 'FURGON 5 ASIENTOS 2 PUERTAS',\n",
       " '560',\n",
       " '1-071009R',\n",
       " '9 A 22',\n",
       " 'II 5PTAS. 2.0 N TREND PLUS (L08)',\n",
       " '9:30 A 19:00',\n",
       " 'SIN EXPENSAS',\n",
       " '52',\n",
       " '47',\n",
       " '9HS A 20HS',\n",
       " '82000',\n",
       " 'ZF1353G',\n",
       " 'LUN A VIER 08 A 13 Y 15 A 19:30 SAB 09 A 17 HS.',\n",
       " '35',\n",
       " '22000',\n",
       " '09:00 A 19:30',\n",
       " 'KYMCO',\n",
       " 'MAX 20 AÑOS',\n",
       " 'E5063',\n",
       " '323TI M COMPACT',\n",
       " '18264660',\n",
       " 'EXPLORER',\n",
       " '09-18HS',\n",
       " '425488',\n",
       " '200 CITY SPORT MT (156CV) (L12)',\n",
       " '4X4 SPORT MT',\n",
       " 'E 125',\n",
       " '8500',\n",
       " 'WP322',\n",
       " 'PRISMA LT 1.4 OKM PUEDE SER TUYO!!',\n",
       " 'RM4056',\n",
       " 'URBANA',\n",
       " '1.4 AA DH 5PTAS. L/N',\n",
       " 'BASE',\n",
       " 'SPRING-SUMMER',\n",
       " '1028',\n",
       " '8  A 22',\n",
       " '2002',\n",
       " 'E4556',\n",
       " '8:00 A 22:00',\n",
       " 'N24247',\n",
       " '352079',\n",
       " '97000',\n",
       " 'SPORT',\n",
       " '1959',\n",
       " 'RMK2344',\n",
       " '4PTAS.- 2.0I 16V EXCLUSIVE (143CV)',\n",
       " '67000',\n",
       " '207 COMPACT SW',\n",
       " 'STREET',\n",
       " 'ELECTRICO Y PEDAL',\n",
       " 'QQ',\n",
       " '2015002203',\n",
       " '8201068825',\n",
       " '3200',\n",
       " '2.4 EXL AT (L/N 08)',\n",
       " 'SWIFT',\n",
       " 'RESTAURANTE',\n",
       " 'SANDERO',\n",
       " '128000',\n",
       " 'DESPUES DE 14 HS',\n",
       " 'C 41 110',\n",
       " '2,10',\n",
       " 'ZAFIRA',\n",
       " '2001',\n",
       " 'R17/205/45',\n",
       " '072199K',\n",
       " '640',\n",
       " '36000',\n",
       " '5251',\n",
       " ' 8 A 20 HS',\n",
       " '204603',\n",
       " '3521R3',\n",
       " 'A LA LAGUNA',\n",
       " '48000',\n",
       " '18813',\n",
       " 'ZF170450',\n",
       " 'R13/245/70',\n",
       " '2275',\n",
       " 'SCOOTER',\n",
       " '83838MX',\n",
       " 'TODO ',\n",
       " '166400',\n",
       " '9 A 23',\n",
       " '2.0 TDI (143CV) MULTITRONIC PLUS (L08)',\n",
       " '950',\n",
       " 'HONDA BIZ',\n",
       " '3500',\n",
       " 'FELINE XT 1.6',\n",
       " '10HS A 13HS  Y 18HS A 21HS',\n",
       " 'CUB',\n",
       " '93338117',\n",
       " '82002..',\n",
       " '7702217599',\n",
       " 'SW4 3.0 DIESEL SRV 4X4 CUERO',\n",
       " '124000',\n",
       " 'CERRO150',\n",
       " '09:00 A 19:00HS',\n",
       " 'MAS DE 5',\n",
       " '44426MI_C',\n",
       " '2.5 SPORT TIPTRONIC',\n",
       " '92300',\n",
       " 'R16/OTRASMEDIDAS/OTRASMEDIDAS',\n",
       " '16/1/2015',\n",
       " 'ASTRA',\n",
       " 'RANGER',\n",
       " 'SE-G 1.8 MT (136CV) (L12)',\n",
       " 'SPARK',\n",
       " '1-211001R',\n",
       " 'LS101',\n",
       " '1.6 TRENDLINE 5PTAS. (FAROS / PM / SPOILER)',\n",
       " '9 A 14 Y 17 A 21 HS.',\n",
       " 'NEON',\n",
       " '5.5',\n",
       " 'DE 10 A 19.30HS',\n",
       " '195/45 R16',\n",
       " 'RM2903',\n",
       " '7809428',\n",
       " '230000',\n",
       " '38218MX',\n",
       " '4PTAS. 2.0 LUXE',\n",
       " '500',\n",
       " '98013',\n",
       " 'WP628',\n",
       " '0580314346',\n",
       " '1410-461',\n",
       " 'TODO EL DIA',\n",
       " 'KDX 200',\n",
       " 'MAX 30 AÑOS',\n",
       " '1.6 XLS ABG',\n",
       " 'TECTOR',\n",
       " 'RM9991',\n",
       " 'MAT-1274',\n",
       " '30 X CIENTO',\n",
       " '26',\n",
       " '30%',\n",
       " 'VKMA04108',\n",
       " '3.0 TDI C/D 4X2 XL PLUS % MP3 (L05)',\n",
       " '1.8 N 16V GLS',\n",
       " 'LIMITED 2.4 NAFTA MT TECHO',\n",
       " '149000',\n",
       " 'SE 1.6L SIGMA',\n",
       " 'REPUESTOS',\n",
       " '1.4I SX PACK SEGURIDAD (L08)',\n",
       " '8HS A 16HS',\n",
       " '09 A 17 HS',\n",
       " '5PTAS. 1.6 XR',\n",
       " 'ROVER',\n",
       " ' 96182615',\n",
       " '84000',\n",
       " '1.6 VTI 115 EXCLUSIVE PACK MY WAY (L12)',\n",
       " 'FI531',\n",
       " 'XR 16V. 5PTAS.',\n",
       " '171',\n",
       " '06A121012G',\n",
       " 'FALCON RURAL 3.0 L',\n",
       " '37129',\n",
       " 'APEX2938',\n",
       " 'COMPLEJO TURISTICO',\n",
       " 'AGRALE COMIL PIA',\n",
       " '10:00 A 21:00',\n",
       " 'HONDA CG 150 TITAN ',\n",
       " 'POR LA MAÑANA',\n",
       " 'RM1530',\n",
       " 'CG 150',\n",
       " '65342',\n",
       " '265/65 R17',\n",
       " 'CUAD',\n",
       " '9-20 HRS.',\n",
       " 'ZF7048',\n",
       " '5271029100',\n",
       " 'E1038',\n",
       " 'ROJO',\n",
       " 'PARCELA, NICHO Y BOVEDA',\n",
       " 'SPORT 1.6 THP TURBO TIPTRONIC (163CV) 4PTAS.',\n",
       " 'RMK8648',\n",
       " 'FERRARI',\n",
       " '1.9 SD',\n",
       " '38044MX',\n",
       " 'TIBO 150 AUTOMATICO',\n",
       " '12800',\n",
       " 'GRIS',\n",
       " '206032',\n",
       " '8.00 A 22.000',\n",
       " 'FAIRLANE 500',\n",
       " '113000',\n",
       " 'SABADO 23.01.16',\n",
       " '18000',\n",
       " 'RM1002',\n",
       " '49',\n",
       " 'VERSYS 1000',\n",
       " 'RMK5577',\n",
       " '365000',\n",
       " '332',\n",
       " 'LTD',\n",
       " '93228390',\n",
       " '07:00 A 23:00',\n",
       " '5PTAS. 1.6 N AMBIENTE PLUS MP3 (L07/02)',\n",
       " 'VKMA 05156',\n",
       " '5PTAS. 1.8 TD CLX (L96)',\n",
       " 'EL 1.7 TD 3PTAS.',\n",
       " '1336CC',\n",
       " '1.6 CONFORTLINE',\n",
       " '519',\n",
       " 'CAMRY',\n",
       " '65331',\n",
       " '200CC',\n",
       " 'ALL-SEASON',\n",
       " '96476979',\n",
       " '44110MX',\n",
       " '9.00 HS A 22.00 HS',\n",
       " ' 18 A 21 HS',\n",
       " 'LUNES A VIERNES DE 09 A 20HS - SABADOS 9 A 13HS.',\n",
       " 'HASTA 40 AÑOS',\n",
       " '85000',\n",
       " '403',\n",
       " '1964',\n",
       " 'ATTRACTIVE (ELX) 1.4 GROOVE 5PTAS. (85CV) (L10)',\n",
       " '10 A 20 HS.',\n",
       " 'RM7088',\n",
       " '021.0582',\n",
       " 'MEGANE',\n",
       " 'RMK1561',\n",
       " '8,30A12,30-15,00 A 19,00',\n",
       " 'PATAGONICA 1.9D AA 2PLC ABG',\n",
       " 'IDEA',\n",
       " 'DE 09  A  19 HS',\n",
       " '24 HORAS',\n",
       " '225/65 R17',\n",
       " 'OXFORD',\n",
       " '900 X 20',\n",
       " 'VC 200 R',\n",
       " '2.0 N MT 2WD CWT (L05)',\n",
       " '24/3/2015',\n",
       " '12HS - 19HS',\n",
       " '730',\n",
       " '114000',\n",
       " 'TI6009',\n",
       " 'RM5607',\n",
       " 'AGKIT367',\n",
       " '1000',\n",
       " '20',\n",
       " '0100226371',\n",
       " '10 A 21 HS',\n",
       " '9 A 19:30 ',\n",
       " '83742MX',\n",
       " '155/80 R12',\n",
       " '2286',\n",
       " '96041378',\n",
       " '116000',\n",
       " '83764MX',\n",
       " '94007MX',\n",
       " '255/45 R19',\n",
       " 'PIAGGIO VESPA',\n",
       " '10.00 A 20.00',\n",
       " 'SPIN',\n",
       " '416 SI',\n",
       " '2.0 TDI (163CV) 4X2 C/DOBLE TRENDLINE',\n",
       " '37099',\n",
       " '115',\n",
       " '5PTAS. 2.0 16V FELINE MT (143CV)',\n",
       " '1234',\n",
       " '8HS A 22HS',\n",
       " 'RT 2.7 S/TECHO',\n",
       " '506',\n",
       " '8941367841',\n",
       " 'ARENA',\n",
       " 'FULL TIME',\n",
       " 'R18/235/50',\n",
       " 'BD178990',\n",
       " 'R15/205/70',\n",
       " '349',\n",
       " '1111111',\n",
       " 'ESTURION DE MONTOYA',\n",
       " '49000',\n",
       " '37000',\n",
       " '448',\n",
       " 'ALLROAD',\n",
       " '990',\n",
       " '14-02-2014',\n",
       " '2.0 TDI (163CV) 4X2 C/DOBLE HIGHLINE PACK',\n",
       " 'FALCON',\n",
       " 'PRIVILEG',\n",
       " '38039MI',\n",
       " '8846002060',\n",
       " 'COMERCIAL',\n",
       " 'RMW540',\n",
       " '1.9TD CONFORT',\n",
       " '2009',\n",
       " 'MITSUBISHI',\n",
       " 'SPORTBACK 1.4 TFSI MT AMBITION (122CV)',\n",
       " '1999',\n",
       " '3090600010',\n",
       " 'V6 BI-TURBO',\n",
       " 'R/AB//413 ',\n",
       " 'IWP044',\n",
       " 'R13/185/55',\n",
       " 'CONFORT LINE L/15',\n",
       " 'RM5583',\n",
       " '2.5 TDI GLX MT 2ABG AMORT.REG. TC',\n",
       " 'FORD FOCUS TREND 1.6',\n",
       " '37024',\n",
       " '480',\n",
       " '1C157540GB',\n",
       " 'CROSS',\n",
       " 'VOYAGE',\n",
       " 'AP25425',\n",
       " '1444VK',\n",
       " 'LLAMAR PREVIAMENTE AL: 4545-6942',\n",
       " '8200321029',\n",
       " 'RM6401',\n",
       " '134',\n",
       " 'RS5402',\n",
       " '9:30 A 19',\n",
       " 'LUNES A VIER DE 9 A 19 SAB 9 A 13',\n",
       " '1-041021TP',\n",
       " '9:00 - 12:30 // 14:30 - 19:00',\n",
       " 'LT 1.4',\n",
       " 'GL12059',\n",
       " 'GA - 51141',\n",
       " '5PTAS. ACTIVE / EDG GENERATION 1.4',\n",
       " '16816',\n",
       " '65',\n",
       " '0258005659',\n",
       " '32',\n",
       " '46556565',\n",
       " '905',\n",
       " 'AVEO G3 LT 2012 IMPECABLE ESTADO 1.6 NAFTA',\n",
       " 'FASE 1 - 5PTAS. RN 1.6',\n",
       " 'R12/155/80',\n",
       " '95605MX',\n",
       " 'VENTA',\n",
       " 'RM8343',\n",
       " 'DELUXE',\n",
       " 'CORVEN',\n",
       " '4323',\n",
       " '500 ROADSTER',\n",
       " 'BLITZ TUNNING 110C',\n",
       " 'LS 1.4 N 8V (92CV) 5PTAS.',\n",
       " 'VKMA36200',\n",
       " 'BKR8EIX',\n",
       " '9 A 20 HORAS',\n",
       " '30/04/2014',\n",
       " 'INVICTA',\n",
       " 'BLOOWER CANYON 200',\n",
       " '21:00',\n",
       " '146000',\n",
       " '180',\n",
       " 'E1344',\n",
       " '11111',\n",
       " 'TT',\n",
       " '126',\n",
       " '3',\n",
       " 'DPR9Z',\n",
       " 'TIBO SHARK 200 SPORT',\n",
       " 'ROUSER 220',\n",
       " '35014',\n",
       " '8 A 13 Y 16 A 21',\n",
       " 'LOGAN',\n",
       " '91700',\n",
       " '59014',\n",
       " '1000 -20',\n",
       " '10000000',\n",
       " '7702021614',\n",
       " 'VERDE',\n",
       " '11',\n",
       " '98029',\n",
       " '1111123',\n",
       " '17950',\n",
       " '160000',\n",
       " '1.5 NAFTA 5PTAS. (100CV)',\n",
       " '260000',\n",
       " '2015004103',\n",
       " 'PASSAT',\n",
       " '214000',\n",
       " '168',\n",
       " '9  A 19 HS',\n",
       " '0001109306',\n",
       " '83736MX',\n",
       " '10 A 19 HS',\n",
       " '4PTAS. 1.4 N LS',\n",
       " '213',\n",
       " '1400',\n",
       " 'CR 500 R',\n",
       " '44455MI',\n",
       " 'AMAROK',\n",
       " '40000',\n",
       " 'IMPALA DE LUJO',\n",
       " '100',\n",
       " 'PARRILLERO ULTIMA UNIDAD',\n",
       " '9 A 13 Y DE 16 A 20',\n",
       " '245/65 R17',\n",
       " '9-19',\n",
       " 'E2040',\n",
       " 'RM5577',\n",
       " 'DE TARDE',\n",
       " 'VKPC86416A',\n",
       " '57000',\n",
       " '790',\n",
       " '44451MX',\n",
       " '815',\n",
       " '0281003013',\n",
       " '103000',\n",
       " '14 OCTUBRE',\n",
       " '10 A 13 Y 16 A 20HS',\n",
       " '91900',\n",
       " '050 CC - 125 CC',\n",
       " '870',\n",
       " 'HILUX SW4',\n",
       " '1.6 HDI EXCLUSIVE',\n",
       " '166',\n",
       " '412',\n",
       " 'UNLIMITED SPORT 3.6 MTX 4PTAS. (284HP)',\n",
       " '1.6 N 16V. AUTHENTIQUE PACK I (105CV)',\n",
       " 'AGKIT153',\n",
       " '32014',\n",
       " 'R20/315/35',\n",
       " '192560',\n",
       " '104',\n",
       " '1.4 LS 5PTAS. DISCONTINUO',\n",
       " '2.0 TDI ELEGANCE MT (140CV)',\n",
       " '008S',\n",
       " '5206.W6',\n",
       " '30',\n",
       " '09HS A 19HS',\n",
       " '153000',\n",
       " '152000',\n",
       " '834',\n",
       " '38880MX',\n",
       " '60M2',\n",
       " '127000',\n",
       " 'BAE801EK',\n",
       " '94178MX',\n",
       " 'DE 13.30 A 22',\n",
       " 'A6',\n",
       " 'R16/235/60',\n",
       " '09 A  21 HS',\n",
       " '9 A 19HS.',\n",
       " '1395',\n",
       " 'NEVADA 110 MULTIRAYOS',\n",
       " 'DUPLEX',\n",
       " 'PERIMETRAL',\n",
       " 'MAX 40 AÑOS',\n",
       " '1974',\n",
       " 'STRALIS',\n",
       " '82752',\n",
       " 'S40',\n",
       " '2008',\n",
       " 'SI',\n",
       " '660',\n",
       " 'FIESTA',\n",
       " '205',\n",
       " 'REGATA',\n",
       " 'RMK2873',\n",
       " '125 V',\n",
       " '9 A 13 Y 17 A 20',\n",
       " '620 SDI LUX',\n",
       " 'LT 1.8 4PTAS',\n",
       " '08.00 A 21.0 HS.',\n",
       " 'F-100',\n",
       " 'EXPERT',\n",
       " '125',\n",
       " 'LUN-VIE 8-12.30 Y 14-19. SAB 8-13HS',\n",
       " 'DE LUNES A VIERNES DE 9 A 19',\n",
       " 'TURISMO',\n",
       " 'BARRIO DE QUINTAS',\n",
       " '4.8IS/A PREMIUM',\n",
       " '-------',\n",
       " '87000',\n",
       " 'SCIROCCO',\n",
       " 'E4479',\n",
       " '15',\n",
       " '44447MI_D',\n",
       " '3PTAS. 1.6 XR PREMIUM',\n",
       " 'CELTA',\n",
       " '980',\n",
       " '64',\n",
       " '05P1255',\n",
       " '2.2 TDCI C/DOBLE 6MT 4X2 XL SAFETY (L12)',\n",
       " '9,30 / 13 HS - 15,30 / 19,00',\n",
       " '122000',\n",
       " '120I ACTIVE (156CV) 5PTAS. DISCONTINUO',\n",
       " 'MILANO',\n",
       " 'SCENIC',\n",
       " '08/22',\n",
       " 'NORDESTE',\n",
       " 'AUXILIAR',\n",
       " '3C0919051',\n",
       " 'ESTE',\n",
       " '9 - 19HS ',\n",
       " '191048R',\n",
       " '800 S',\n",
       " '17',\n",
       " 'ESCORT',\n",
       " '8A12 15A19 HS',\n",
       " '59009MX',\n",
       " '1.7 EX MT VTEC SEDAN (L01)',\n",
       " 'L12502',\n",
       " 'R14/255/60',\n",
       " '6900',\n",
       " '225/45 R18',\n",
       " '1998',\n",
       " 'M22GD',\n",
       " '1J0199851A',\n",
       " 'TITANIUM 2.3 N (161CV)',\n",
       " '1609417680',\n",
       " '65328',\n",
       " 'ZANELLA',\n",
       " '31/12/2015',\n",
       " 'D7699',\n",
       " '185',\n",
       " '1170',\n",
       " 'APACHE',\n",
       " 'R/AB/340',\n",
       " 'MR121',\n",
       " '41000',\n",
       " '265/70 R16',\n",
       " '59071MX',\n",
       " ...}"
      ]
     },
     "execution_count": 16,
     "metadata": {},
     "output_type": "execute_result"
    }
   ],
   "source": [
    "def get_distinct_attribute_group_ids(dict_list):\n",
    "    attribute_group_ids = set()\n",
    "    vowel_map = str.maketrans('ÁÉÍÓÚáéíóú', 'AEIOUaeiou')\n",
    "    for d in dict_list:\n",
    "        if 'attributes' in d:\n",
    "            for attribute in d['attributes']:\n",
    "                if 'value_name' in attribute:\n",
    "                    transformed_id = attribute['value_name'].upper().translate(vowel_map)\n",
    "                    attribute_group_ids.add(transformed_id)\n",
    "\n",
    "    return attribute_group_ids\n",
    "\n",
    "get_distinct_attribute_group_ids(X_train)"
   ]
  },
  {
   "cell_type": "markdown",
   "metadata": {},
   "source": [
    "`value_name` aporta información muy específica de cada artículo, no de las `categorías` de los artículos"
   ]
  },
  {
   "cell_type": "markdown",
   "metadata": {},
   "source": [
    "ahora los distintos valores para `attribute_group_name`"
   ]
  },
  {
   "cell_type": "code",
   "execution_count": 17,
   "metadata": {
    "tags": [
     "hide-input",
     "hide-output"
    ]
   },
   "outputs": [
    {
     "data": {
      "text/plain": [
       "{'',\n",
       " 'ADICIONALES',\n",
       " 'AMBIENTES',\n",
       " 'CARACTERISTICAS ADICIONALES',\n",
       " 'COMODIDADES',\n",
       " 'COMODIDADES Y AMENITIES',\n",
       " 'CONFORT',\n",
       " 'DETALLES DEL PLAN DE AHORRO',\n",
       " 'EQUIPAMIENTO',\n",
       " 'EXTERIOR',\n",
       " 'FICHA TECNICA',\n",
       " 'OTROS',\n",
       " 'RANGO DE CUOTAS',\n",
       " 'SEGURIDAD',\n",
       " 'SONIDO'}"
      ]
     },
     "execution_count": 17,
     "metadata": {},
     "output_type": "execute_result"
    }
   ],
   "source": [
    "def get_distinct_attribute_group_ids(dict_list):\n",
    "    attribute_group_ids = set()\n",
    "    vowel_map = str.maketrans('ÁÉÍÓÚáéíóú', 'AEIOUaeiou')\n",
    "    for d in dict_list:\n",
    "        if 'attributes' in d:\n",
    "            for attribute in d['attributes']:\n",
    "                if 'attribute_group_name' in attribute:\n",
    "                    transformed_id = attribute['attribute_group_name'].upper().translate(vowel_map)\n",
    "                    attribute_group_ids.add(transformed_id)\n",
    "\n",
    "    return attribute_group_ids\n",
    "\n",
    "get_distinct_attribute_group_ids(X_train)"
   ]
  },
  {
   "cell_type": "markdown",
   "metadata": {},
   "source": [
    "ahora que conocemos los distintos valores de estos campos, sabemos que sí aportan información sobre la `categoría` del artículo. Ahora se necesita saber si hay o no una jerarquía entre estos campos, con el fin de determinar cuál de ellos se va a usar como una variable en el modelo de clasificación.\n",
    "\n",
    "evaluemos si hay jerarquía entre `attribute_group_id` y `attribute_group_name`:"
   ]
  },
  {
   "cell_type": "code",
   "execution_count": 18,
   "metadata": {
    "tags": [
     "hide-input",
     "hide-output"
    ]
   },
   "outputs": [
    {
     "data": {
      "text/plain": [
       "{('ADICIONALES', 'ADICIONALES'),\n",
       " ('ADICIONALES', 'COMODIDADES'),\n",
       " ('ADICIONALES', 'FICHA TECNICA'),\n",
       " ('AMBIENTES', 'AMBIENTES'),\n",
       " ('CARACTERISTICAS', ''),\n",
       " ('CARACTERISTICAS', 'CARACTERISTICAS ADICIONALES'),\n",
       " ('COMODIDADES', 'COMODIDADES'),\n",
       " ('COMODIDADES', 'COMODIDADES Y AMENITIES'),\n",
       " ('COMOYAMEN', 'COMODIDADES Y AMENITIES'),\n",
       " ('CONFORT', 'CONFORT'),\n",
       " ('DDPLANAHO', 'DETALLES DEL PLAN DE AHORRO'),\n",
       " ('DFLT', 'OTROS'),\n",
       " ('EQUIPAMIENTO', 'EQUIPAMIENTO'),\n",
       " ('EXTERIOR', 'EXTERIOR'),\n",
       " ('FIND', 'FICHA TECNICA'),\n",
       " ('RANGCUOTA', 'RANGO DE CUOTAS'),\n",
       " ('SECURITY', 'SEGURIDAD'),\n",
       " ('SONIDO', 'SONIDO')}"
      ]
     },
     "execution_count": 18,
     "metadata": {},
     "output_type": "execute_result"
    }
   ],
   "source": [
    "def get_attribute_group_pairs(dict_list):\n",
    "    attribute_group_pairs = set()\n",
    "    vowel_map = str.maketrans('ÁÉÍÓÚáéíóú', 'AEIOUaeiou')\n",
    "    \n",
    "    for d in dict_list:\n",
    "        if 'attributes' in d:\n",
    "            for attribute in d['attributes']:\n",
    "                if 'attribute_group_id' in attribute and 'attribute_group_name' in attribute:\n",
    "                    transformed_id = attribute['attribute_group_id'].upper().translate(vowel_map)\n",
    "                    transformed_name = attribute['attribute_group_name'].upper().translate(vowel_map)\n",
    "                    pair = (transformed_id, transformed_name)\n",
    "                    attribute_group_pairs.add(pair)\n",
    "                    \n",
    "    return attribute_group_pairs\n",
    "\n",
    "get_attribute_group_pairs(X_train)"
   ]
  },
  {
   "cell_type": "markdown",
   "metadata": {},
   "source": [
    "ambos campos parecen tener un nivel de jerarquía equivalente, en esta ocasión, nos quedamos con el campo de `attribute_group_id` dado que está más estandarizado que el resto. El campo `name` podría representar una sub categoría del `attribute_group_id` y podría ser usado para futuros experimentos y comprobar si agregar esta información mejora las métricas de clasificación."
   ]
  },
  {
   "cell_type": "code",
   "execution_count": 19,
   "metadata": {},
   "outputs": [],
   "source": [
    "attribute_group_ids_list = list(attribute_group_ids_set) # list of possible attribute_group_id values\n",
    "\n",
    "def extract_attributes_features(product):\n",
    "    \"\"\"\n",
    "    Extracts various features from the 'attributes' field of a product dictionary.\n",
    "\n",
    "    Args:\n",
    "    product (dict): A dictionary representing a product.\n",
    "\n",
    "    Returns:\n",
    "    dict: A dictionary containing extracted attributes features.\n",
    "    \"\"\"\n",
    "    attributes = product.get('attributes', [])\n",
    "    for group_id in attribute_group_ids_list:\n",
    "        product[f'has_attribute_group_id_{group_id}'] = any(attr['attribute_group_id'] == group_id for attr in attributes)\n",
    "\n",
    "    # Ensure all attribute group id keys are present with False if 'attributes' field does not exist\n",
    "    for group_id in attribute_group_ids_list:\n",
    "        if f'has_attribute_group_id_{group_id}' not in product:\n",
    "            product[f'has_attribute_group_id_{group_id}'] = False\n",
    "\n",
    "    return product\n",
    "\n",
    "\n",
    "def process_items_attributes_features(item_list):\n",
    "    \"\"\"\n",
    "    Process a list of dictionaries to extract attributes features and remove the original 'attributes' key from each dictionary.\n",
    "\n",
    "    Args:\n",
    "    item_list (list): A list of dictionaries, each representing an item with an 'attributes' field.\n",
    "\n",
    "    Returns:\n",
    "    list: A list of processed item dictionaries with extracted attributes features and without the 'attributes' key.\n",
    "    \"\"\"\n",
    "    processed_items = []\n",
    "    \n",
    "    for item in item_list:\n",
    "        # Extract attributes features\n",
    "        attributes_features = extract_attributes_features(item)\n",
    "        \n",
    "        # Remove the original 'pictures' key\n",
    "        item.pop('attributes', None)\n",
    "        \n",
    "        # Add the new features to the item dictionary\n",
    "        item.update(attributes_features)\n",
    "        \n",
    "        # Append the processed item to the list\n",
    "        processed_items.append(item)\n",
    "    \n",
    "# Applying the function\n",
    "process_items_attributes_features(X_test)\n",
    "process_items_attributes_features(X_train)"
   ]
  },
  {
   "cell_type": "markdown",
   "metadata": {},
   "source": [
    "### evaluando el campo `non_mercado_pago_payment_methods`"
   ]
  },
  {
   "cell_type": "markdown",
   "metadata": {},
   "source": [
    "Este campo describe los métodos de pago aceptados por el seller, distintos de mercadopago.\n",
    "\n",
    "Para ver qué tan relevante es este campo nos preguntamos\n",
    "\n",
    "Qué porcentaje de artículos tiene `non_mercado_pago_payment_methods`?"
   ]
  },
  {
   "cell_type": "code",
   "execution_count": 20,
   "metadata": {
    "tags": [
     "hide-input"
    ]
   },
   "outputs": [
    {
     "name": "stdout",
     "output_type": "stream",
     "text": [
      "Total items with non_mercado_pago_payment_methods in train partition: 62469\n",
      "Percentage of items with non_mercado_pago_payment_methods: 69.41%\n"
     ]
    }
   ],
   "source": [
    "def calculate_non_mercado_pago_payment_methods_percentage(items):\n",
    "    total_items = len(items)\n",
    "    items_with_non_mercado_pago_payment_methods = sum(1 for item in items if 'non_mercado_pago_payment_methods' in item and item['non_mercado_pago_payment_methods'])\n",
    "    \n",
    "    percentage_with_non_mercado_pago_payment_methods = (items_with_non_mercado_pago_payment_methods / total_items) * 100 if total_items else 0\n",
    "    \n",
    "    return items_with_non_mercado_pago_payment_methods, percentage_with_non_mercado_pago_payment_methods\n",
    "\n",
    "items_with_non_mercado_pago_payment_methods, percentage_with_non_mercado_pago_payment_methods = calculate_non_mercado_pago_payment_methods_percentage(X_train)\n",
    "print(f\"Total items with non_mercado_pago_payment_methods in train partition: {items_with_non_mercado_pago_payment_methods}\")\n",
    "print(f\"Percentage of items with non_mercado_pago_payment_methods: {percentage_with_non_mercado_pago_payment_methods:.2f}%\")"
   ]
  },
  {
   "cell_type": "code",
   "execution_count": 21,
   "metadata": {
    "tags": [
     "hide-input"
    ]
   },
   "outputs": [
    {
     "name": "stdout",
     "output_type": "stream",
     "text": [
      "Total items with non_mercado_pago_payment_methods in test partition: 6972\n",
      "Percentage of items with non_mercado_pago_payment_methods: 69.72%\n"
     ]
    }
   ],
   "source": [
    "def calculate_non_mercado_pago_payment_methods_percentage(items):\n",
    "    total_items = len(items)\n",
    "    items_with_non_mercado_pago_payment_methods = sum(1 for item in items if 'non_mercado_pago_payment_methods' in item and item['non_mercado_pago_payment_methods'])\n",
    "    \n",
    "    percentage_with_non_mercado_pago_payment_methods = (items_with_non_mercado_pago_payment_methods / total_items) * 100 if total_items else 0\n",
    "    \n",
    "    return items_with_non_mercado_pago_payment_methods, percentage_with_non_mercado_pago_payment_methods\n",
    "\n",
    "items_with_non_mercado_pago_payment_methods, percentage_with_non_mercado_pago_payment_methods = calculate_non_mercado_pago_payment_methods_percentage(X_test)\n",
    "print(f\"Total items with non_mercado_pago_payment_methods in test partition: {items_with_non_mercado_pago_payment_methods}\")\n",
    "print(f\"Percentage of items with non_mercado_pago_payment_methods: {percentage_with_non_mercado_pago_payment_methods:.2f}%\")"
   ]
  },
  {
   "cell_type": "markdown",
   "metadata": {},
   "source": [
    "69% es un numero super relevante de articulos, ahora revisamos el contenido del campo para ver qué se puede extraer de ahí"
   ]
  },
  {
   "cell_type": "code",
   "execution_count": 22,
   "metadata": {
    "tags": [
     "hide-input",
     "hide-output"
    ]
   },
   "outputs": [
    {
     "data": {
      "text/plain": [
       "[{'description': 'MasterCard', 'id': 'MLAMC', 'type': 'C'},\n",
       " {'description': 'Mastercard Maestro', 'id': 'MLAMS', 'type': 'D'},\n",
       " {'description': 'Cheque certificado', 'id': 'MLABC', 'type': 'G'},\n",
       " {'description': 'Visa Electron', 'id': 'MLAVE', 'type': 'D'},\n",
       " {'description': 'Transferencia bancaria', 'id': 'MLATB', 'type': 'G'},\n",
       " {'description': 'Visa', 'id': 'MLAVS', 'type': 'C'},\n",
       " {'description': 'Diners', 'id': 'MLADC', 'type': 'C'},\n",
       " {'description': 'Acordar con el comprador', 'id': 'MLAWC', 'type': 'G'},\n",
       " {'description': 'Giro postal', 'id': 'MLAWT', 'type': 'G'},\n",
       " {'description': 'Efectivo', 'id': 'MLAMO', 'type': 'G'},\n",
       " {'description': 'American Express', 'id': 'MLAAM', 'type': 'C'}]"
      ]
     },
     "execution_count": 22,
     "metadata": {},
     "output_type": "execute_result"
    }
   ],
   "source": [
    "X_train[384]['non_mercado_pago_payment_methods']"
   ]
  },
  {
   "cell_type": "markdown",
   "metadata": {},
   "source": [
    "Se evidencia que el nombre de método de pago está en el campo `description`, adicionalmente el campo `type` agrupa los métodos de pago por lo que parece ser `C` de crédito, `D` de débito, y `G` de todos los demás métodos de pago como efectivo o acuerdo con el comprador.\n",
    "\n",
    "Considerando esto, nos vamos con el campo `description` dado a que aporta más información que `type`."
   ]
  },
  {
   "cell_type": "code",
   "execution_count": 23,
   "metadata": {
    "tags": [
     "hide-input"
    ]
   },
   "outputs": [
    {
     "data": {
      "text/plain": [
       "['Giro postal',\n",
       " 'American Express',\n",
       " 'Cheque certificado',\n",
       " 'Visa Electron',\n",
       " 'Mastercard Maestro',\n",
       " 'Transferencia bancaria',\n",
       " 'Diners',\n",
       " 'Acordar con el comprador',\n",
       " 'Tarjeta de crédito',\n",
       " 'MasterCard',\n",
       " 'Efectivo',\n",
       " 'Contra reembolso',\n",
       " 'MercadoPago',\n",
       " 'Visa']"
      ]
     },
     "execution_count": 23,
     "metadata": {},
     "output_type": "execute_result"
    }
   ],
   "source": [
    "def get_distinct_non_mercado_pago_payment_methods(dict_list):\n",
    "    pago_payment_methods = set()\n",
    "    for d in dict_list:\n",
    "        if 'non_mercado_pago_payment_methods' in d:\n",
    "            for attribute in d['non_mercado_pago_payment_methods']:\n",
    "                if 'description' in attribute:\n",
    "                    pago_payment_methods.add(attribute['description'])\n",
    "\n",
    "    return list(pago_payment_methods)\n",
    "\n",
    "distinct_payment_methods = get_distinct_non_mercado_pago_payment_methods(X_train)\n",
    "\n",
    "distinct_payment_methods"
   ]
  },
  {
   "cell_type": "markdown",
   "metadata": {},
   "source": [
    "se crea entonces una funcion que diga o no si determinado artículo acepta o no alguno de estos métodos de pago:"
   ]
  },
  {
   "cell_type": "code",
   "execution_count": 24,
   "metadata": {},
   "outputs": [],
   "source": [
    "def extract_payment_methods_features(product):\n",
    "    \"\"\"\n",
    "    Extracts various features from the 'non_mercado_pago_payment_methods' field of a product dictionary.\n",
    "\n",
    "    Args:\n",
    "    product (dict): A dictionary representing a product.\n",
    "\n",
    "    Returns:\n",
    "    dict: A dictionary containing extracted non_mercado_pago_payment_methods features.\n",
    "    \"\"\"\n",
    "    non_mercado_pago_payment_methods = product.get('non_mercado_pago_payment_methods', [])\n",
    "    for payment_method in distinct_payment_methods:\n",
    "        product[f'accepts_payment_method_{payment_method}'] = any(attr['description'] == payment_method for attr in non_mercado_pago_payment_methods)\n",
    "\n",
    "    # Ensure all payment methods are present with False if 'non_mercado_pago_payment_methods' field does not exist\n",
    "    for payment_method in distinct_payment_methods:\n",
    "        if f'accepts_payment_method_{payment_method}' not in product:\n",
    "            product[f'has_payment_method_{payment_method}'] = False\n",
    "\n",
    "    return product\n",
    "\n",
    "def process_payment_methods_features(item_list):\n",
    "    \"\"\"\n",
    "    Process a list of dictionaries to extract payment methods features and remove the original 'non_mercado_pago_payment_methods' key from each dictionary.\n",
    "\n",
    "    Args:\n",
    "    item_list (list): A list of dictionaries, each representing an item with an 'non_mercado_pago_payment_methods' field.\n",
    "\n",
    "    Returns:\n",
    "    list: A list of processed item dictionaries with extracted payment methods features and without the 'non_mercado_pago_payment_methods' key.\n",
    "    \"\"\"\n",
    "    processed_items = []\n",
    "    \n",
    "    for item in item_list:\n",
    "        # Extract attributes features\n",
    "        payment_method_features = extract_payment_methods_features(item)\n",
    "        \n",
    "        # Remove the original 'non_mercado_pago_payment_methods' key\n",
    "        item.pop('non_mercado_pago_payment_methods', None)\n",
    "        \n",
    "        # Add the new features to the item dictionary\n",
    "        item.update(payment_method_features)\n",
    "        \n",
    "        # Append the processed item to the list\n",
    "        processed_items.append(item)\n",
    "    \n",
    "# Applying the function\n",
    "process_payment_methods_features(X_test)\n",
    "process_payment_methods_features(X_train)"
   ]
  },
  {
   "cell_type": "markdown",
   "metadata": {},
   "source": [
    "### evaluando el campo `tags`"
   ]
  },
  {
   "cell_type": "markdown",
   "metadata": {},
   "source": [
    "este campo tiene ciertos `tags` que parecen aportar información interesante, primero veamos qué distintos `tags` puede tener un artículo:"
   ]
  },
  {
   "cell_type": "code",
   "execution_count": 25,
   "metadata": {
    "tags": [
     "hide-input"
    ]
   },
   "outputs": [
    {
     "data": {
      "text/plain": [
       "['free_relist',\n",
       " 'dragged_bids_and_visits',\n",
       " 'good_quality_thumbnail',\n",
       " 'poor_quality_thumbnail',\n",
       " 'dragged_visits']"
      ]
     },
     "execution_count": 25,
     "metadata": {},
     "output_type": "execute_result"
    }
   ],
   "source": [
    "def get_distinct_tags(dict_list):\n",
    "    tags = set()\n",
    "    for d in dict_list:\n",
    "        if 'tags' in d:\n",
    "            for tag in d['tags']:\n",
    "                tags.add(tag)\n",
    "\n",
    "    return list(tags)\n",
    "\n",
    "tags_list = get_distinct_tags(X_train)\n",
    "\n",
    "tags_list"
   ]
  },
  {
   "cell_type": "markdown",
   "metadata": {},
   "source": [
    "y ahora se revisa qué porcentaje de artículos tienen estos `tags`"
   ]
  },
  {
   "cell_type": "code",
   "execution_count": 26,
   "metadata": {
    "tags": [
     "hide-input"
    ]
   },
   "outputs": [
    {
     "name": "stdout",
     "output_type": "stream",
     "text": [
      "Total items with tags in train partition: 67588\n",
      "Percentage of items with tags: 75.10%\n"
     ]
    }
   ],
   "source": [
    "def calculate_tags_percentage(items):\n",
    "    total_items = len(items)\n",
    "    items_with_tags = sum(1 for item in items if 'tags' in item and item['tags'])\n",
    "    \n",
    "    percentage_with_tags = (items_with_tags / total_items) * 100 if total_items else 0\n",
    "    \n",
    "    return items_with_tags, percentage_with_tags\n",
    "\n",
    "items_with_tags, percentage_with_tags = calculate_tags_percentage(X_train)\n",
    "print(f\"Total items with tags in train partition: {items_with_tags}\")\n",
    "print(f\"Percentage of items with tags: {percentage_with_tags:.2f}%\")"
   ]
  },
  {
   "cell_type": "markdown",
   "metadata": {},
   "source": [
    "dado que 75% de los items tienen `tags`, esto cobra especial relevancia. se extraen ahora las caracteristicas de los tags. esta variable toma los distintos valores que puede tener un `tag`, e indica si un artículo tiene o no ese `tag`"
   ]
  },
  {
   "cell_type": "code",
   "execution_count": 27,
   "metadata": {},
   "outputs": [],
   "source": [
    "def extract_tags_features(product):\n",
    "    \"\"\"\n",
    "    Extracts various features from the 'tags' field of a product dictionary.\n",
    "\n",
    "    Args:\n",
    "    product (dict): A dictionary representing a product.\n",
    "\n",
    "    Returns:\n",
    "    dict: A dictionary containing extracted tags features.\n",
    "    \"\"\"\n",
    "    tags = product.get('tags', [])\n",
    "    for tag in tags_list:\n",
    "        product[f'has_tag_{tag}'] = any(attr == tag for attr in tags)\n",
    "\n",
    "    # Ensure all tags are present with False if 'tags' field does not exist\n",
    "    for tag in tags_list:\n",
    "        if f'has_tag_{tag}' not in product:\n",
    "            product[f'has_tag_{tag}'] = False\n",
    "\n",
    "    return product\n",
    "\n",
    "def process_tags_features(item_list):\n",
    "    \"\"\"\n",
    "    Process a list of dictionaries to extract tags features and remove the original 'tags' key from each dictionary.\n",
    "\n",
    "    Args:\n",
    "    item_list (list): A list of tags, each representing an item with a 'tags' field.\n",
    "\n",
    "    Returns:\n",
    "    list: A list of processed item dictionaries with extracted tags features and without the 'tags' key.\n",
    "    \"\"\"\n",
    "    processed_items = []\n",
    "    \n",
    "    for item in item_list:\n",
    "        # Extract tags features\n",
    "        tags_features = extract_tags_features(item)\n",
    "        \n",
    "        # Remove the original 'tags' key\n",
    "        item.pop('tags', None)\n",
    "        \n",
    "        # Add the new features to the item dictionary\n",
    "        item.update(tags_features)\n",
    "        \n",
    "        # Append the processed item to the list\n",
    "        processed_items.append(item)\n",
    "    \n",
    "# Applying the function\n",
    "process_tags_features(X_test)\n",
    "process_tags_features(X_train)"
   ]
  },
  {
   "cell_type": "markdown",
   "metadata": {},
   "source": [
    "### evaluando el campo `shipping`"
   ]
  },
  {
   "cell_type": "markdown",
   "metadata": {},
   "source": [
    "este campo contiene información sobre el envío, veamos qué tan relevante es.\n",
    "\n",
    "\n",
    "Qué porcentaje de artículos tiene `shipping`?"
   ]
  },
  {
   "cell_type": "code",
   "execution_count": 28,
   "metadata": {
    "tags": [
     "hide-input"
    ]
   },
   "outputs": [
    {
     "name": "stdout",
     "output_type": "stream",
     "text": [
      "Total items with shipping in train partition: 90000\n",
      "Percentage of items with shipping: 100.00%\n"
     ]
    }
   ],
   "source": [
    "def calculate_shipping_percentage(items):\n",
    "    total_items = len(items)\n",
    "    items_with_shipping_info = sum(1 for item in items if 'shipping' in item and item['shipping'])\n",
    "    \n",
    "    percentage_with_shipping_info = (items_with_shipping_info / total_items) * 100 if total_items else 0\n",
    "    \n",
    "    return items_with_shipping_info, percentage_with_shipping_info\n",
    "\n",
    "items_with_shipping_info, percentage_with_shipping_info = calculate_shipping_percentage(X_train)\n",
    "print(f\"Total items with shipping in train partition: {items_with_shipping_info}\")\n",
    "print(f\"Percentage of items with shipping: {percentage_with_shipping_info:.2f}%\")"
   ]
  },
  {
   "cell_type": "markdown",
   "metadata": {},
   "source": [
    "todos los elementos tienen el campo de`shipping`, veamos que informacion se puede extraer de este"
   ]
  },
  {
   "cell_type": "code",
   "execution_count": 29,
   "metadata": {
    "tags": [
     "hide-input",
     "hide-output"
    ]
   },
   "outputs": [
    {
     "data": {
      "text/plain": [
       "{'dimensions',\n",
       " 'free_methods',\n",
       " 'free_shipping',\n",
       " 'local_pick_up',\n",
       " 'methods',\n",
       " 'mode',\n",
       " 'tags'}"
      ]
     },
     "execution_count": 29,
     "metadata": {},
     "output_type": "execute_result"
    }
   ],
   "source": [
    "# Extract all unique keys from the 'shipping' dictionaries\n",
    "shipping_keys = set()\n",
    "\n",
    "for item in X_train:\n",
    "    if 'shipping' in item:\n",
    "        shipping_keys.update(item['shipping'].keys())\n",
    "\n",
    "# Print the unique keys found in the 'shipping' dictionaries\n",
    "shipping_keys"
   ]
  },
  {
   "cell_type": "markdown",
   "metadata": {},
   "source": [
    "revisemos que valores unicos pueden traer estos campos"
   ]
  },
  {
   "cell_type": "code",
   "execution_count": 30,
   "metadata": {
    "tags": [
     "hide-input",
     "hide-output"
    ]
   },
   "outputs": [
    {
     "name": "stdout",
     "output_type": "stream",
     "text": [
      "tags: {\"['relisted_with_modifications']\", '[]', \"['free_method_upgraded']\"}\n",
      "dimensions: {'5x20x30,650', '33x20x12,400', '33x20x12,100', '33x20x12,80', '15x30x45,650', '10x20x20,350', '30x30x30,650', '33x20x12,500', '33x20x12,300', '5x25x25,150', '33x20x12,800', 'None', '10x10x20,700', '33x20x12,1000'}\n",
      "mode: {'custom', 'not_specified', 'me2', 'me1'}\n",
      "methods: {'[]', 'None'}\n",
      "free_shipping: {'True', 'False'}\n",
      "free_methods: {\"[{'rule': {'value': None, 'free_mode': 'country'}, 'id': 501145}]\", \"[{'rule': {'value': None, 'free_mode': 'country'}, 'id': 73328}]\", \"[{'rule': {'value': None, 'free_mode': 'country'}, 'id': 501146}]\", \"[{'rule': {'value': None, 'free_mode': 'country'}, 'id': 73328}, {'rule': {'value': None, 'free_mode': 'country'}, 'id': 73330}]\", \"[{'rule': {'value': None, 'free_mode': 'country'}, 'id': 73330}]\"}\n",
      "local_pick_up: {'True', 'False'}\n"
     ]
    }
   ],
   "source": [
    "# Function to extract unique values for each key in 'shipping'\n",
    "def extract_unique_values(data, key):\n",
    "    unique_values = set()\n",
    "    for item in data:\n",
    "        if 'shipping' in item and key in item['shipping']:\n",
    "            unique_values.add(str(item['shipping'][key]))\n",
    "    return unique_values\n",
    "\n",
    "# Extract and print unique values for each key\n",
    "unique_values_dict = {}\n",
    "for key in shipping_keys:\n",
    "    unique_values_dict[key] = extract_unique_values(X_train, key)\n",
    "\n",
    "# Display the unique values\n",
    "for key, values in unique_values_dict.items():\n",
    "    print(f\"{key}: {values}\")"
   ]
  },
  {
   "cell_type": "markdown",
   "metadata": {},
   "source": [
    "se decide utilizar el contenido de `shipping_field_local_pick_up`, `shipping_field_free_shipping` y `shipping_field_mode`"
   ]
  },
  {
   "cell_type": "code",
   "execution_count": 31,
   "metadata": {},
   "outputs": [],
   "source": [
    "# Function to flatten the shipping dictionary\n",
    "def extract_shipping_features(data):\n",
    "    for item in data:\n",
    "        if 'shipping' in item:\n",
    "            shipping = item['shipping']\n",
    "            item['shipping_field_local_pick_up'] = shipping.get('local_pick_up', False)\n",
    "            item['shipping_field_free_shipping'] = shipping.get('free_shipping', False)\n",
    "            item['shipping_field_mode'] = shipping.get('mode', 'not_specified')\n",
    "            \n",
    "            del item['shipping']\n",
    "\n",
    "extract_shipping_features(X_train)\n",
    "extract_shipping_features(X_test)"
   ]
  },
  {
   "cell_type": "markdown",
   "metadata": {},
   "source": [
    "### evaluando el campo `seller_address`"
   ]
  },
  {
   "cell_type": "markdown",
   "metadata": {},
   "source": [
    "evaluemos el contenido de este campo"
   ]
  },
  {
   "cell_type": "code",
   "execution_count": 32,
   "metadata": {
    "tags": [
     "hide-input",
     "hide-output"
    ]
   },
   "outputs": [
    {
     "data": {
      "text/plain": [
       "{'country': {'name': 'Argentina', 'id': 'AR'},\n",
       " 'state': {'name': 'Capital Federal', 'id': 'AR-C'},\n",
       " 'city': {'name': 'San Cristóbal', 'id': 'TUxBQlNBTjkwNTZa'}}"
      ]
     },
     "execution_count": 32,
     "metadata": {},
     "output_type": "execute_result"
    }
   ],
   "source": [
    "X_train[0]['seller_address']"
   ]
  },
  {
   "cell_type": "markdown",
   "metadata": {},
   "source": [
    "y los valores únicos, usemos el campo `name`"
   ]
  },
  {
   "cell_type": "code",
   "execution_count": 33,
   "metadata": {
    "tags": [
     "hide-input",
     "hide-output"
    ]
   },
   "outputs": [
    {
     "name": "stdout",
     "output_type": "stream",
     "text": [
      "Unique countries: ['', 'Argentina']\n",
      "Unique states: ['', 'Jujuy', 'Salta', 'Catamarca', 'Capital Federal', 'San Luis', 'La Pampa', 'Santa Cruz', 'Santa Fe', 'Formosa', 'Corrientes', 'Buenos Aires', 'Chaco', 'Córdoba', 'La Rioja', 'San Juan', 'Tierra del Fuego', 'Misiones', 'Santiago del Estero', 'Entre Ríos', 'Mendoza', 'Chubut', 'Neuquén', 'Tucumán', 'Río Negro']\n",
      "Unique cities: ['', 'villa madero la matanza', 'la tablada', 'SAN VISENTE', 'Colón', 'cap. fed', 'ONCE COMERCIAL', 'LUIS GUILLON MONTE GRANDE', 'Talar', 'san martin buenos aires', 'Mones Cazon', 'YerbaBuena', 'Otra ubicación', 'resistencia', 'San Antonio de Padua', 'Resistencia', 'CLAYPOLE', 'Pque San Martin (Merlo)', 'Manuel Alberti', 'Villa Tesei', 'Monte Grande', 'General Güemes', 'Villa Bosch, Partido de Tres de Febrero.', 'Villa Devoto (Monte castro)', 'Caballito  Parque Centenario', 'RAMOS MEJÍA', 'turdera', '(Virreyes)', 'VillaCarlosPaz', 'general san martin', 'villa gesell', 'El Bolsón', 'Villa Ballester.Límite c Munro', 'V Lopez', 'SanAntoniodePadua', 'PILAR', 'bue', 'Boulogne', 'bsas', 'florencio valera', 'gualeguaychu', 'San Miguel Del Monte', 'Neuquén', 'Autónoma de Bs As', 'micro centro', 'pque chacabuco', 'alta gracia', 'SanRafael', 'HURLINGHAM VILLA TESEI', 'Villa Tesei Hurlingham', 'Lanús oeste', 'Tres Lomas', 'CARCARAñA', 'Lujan De Cuyo', 'VenadoTuerto', 'gerly', 'victoria', 'libertadmerlo', 'vcente lopez', 'V CRESPO', 'Boedo         Caballito  Barracas', 'Esperanza', 'C.A. Bs. As.', 'mataderos y zona norte', 'MADERO', 'Salta', 'BuenosAires,SanIsidro', 'general pico', 'avellaneda.', 'G. E. Hudson', 'Florida,Vicente Lopez', 'a', 'Gllen', 'Chacabuco', 'VillaUrquiza', 'la matansa', 'quilmes oeste solano', 'Villa Linch San Martin', 'coglang', 'Almagro', 'Villa Crespo-Belgrano', 'caletaolivia', 'wilde,avellaneda', 'Micro Centro', 'montechingolo', 'Lanús (Este)', 'SAN NICOLAS DE LOS ARROYOS', 'El Talar', 'LLavallol', 'Mar del Plata', 'Avellaneda-o capital', 'Villa Pueyrredon/Villa Urquiza', 'BANFIEL', 'MUÑIZ', 'Trujui', 'SAN ANDRES DE GILES', 'Boulogne Sur Mer', 'VILLA LURO MICROCENTRO', 'Ciudad de Bs. As', 'Palermo o Almagro', 'Saavedra', 'Remedios de Escalada', 'Puerto MADERO', 'Ituzaingó', 'Ciuda Evita', 'villa la florida', 'Montecastro', 'caballito', 'San José, Temperley', 'Punta Alta', 'Villa Domínico', 'Olivos -Vte Lopez', 'FCIO. VARELA', 'avellaneda, wilde', 'Billinghurst', 'Capital Federa', 'San Martin o Escobar', 'Barrio de Belgrano', 'Carrodilla Lujan de Cuyo', 'ALMAGRO Y SAN ISIDRO', 'vte. lopez', 'manuel b gonnet', 'Bahía Blanca', 'Barrio Norte, Palermo', 'Villa Guillermina', 'Capital Federal - Almagro', 'Belgrano C', 'berazateui', 'boulogne,sanisidro', 'Carmen de Areco o San Miguel', 'belen de Escobar', 'Vte, Lopez', 'LasHeras', 'Parque Chacabuco', 'Wilde - Avellaneda', 'mataderos ( barrio naon )', 'Zona Alto Palermo', 'Biedma', 'ALMÁGRO', 'PARQUE CENTENARIO', 'buenos aires|', 'Flolrida', 'PALMAR', 'Lomas Del Mirador', 'Florecio Varela', 'La Cumbre', 'San Isidro, pcia de Bs. As.', 'Mariano Acosta', 'JUNIN', 'todos.consulta', 'chubut', 'almirante brown, adrogue', 'despeñaderos', 'QUILMES OESTE', 'escalada', 'bs.as', 'La Lucila, partido de Vte Lopez', 'lomas de zamra', 'lanus este', 'R.deescalada', 'San Luis , ARG', 'Almagro  y  Lanus', '3 febrero', '1 cuadra de la estación de subte San Jose', 'Recoleta  Palermo', '1407', 'Presidente Perón', 'Sn', 'la matanza', 'capital federial', 'Martínez', 'Bcas de Belgrano', 'GERLI - LANUS', 'aimogasta', 'Santo Tomé', 'VILLA LURO/LINIERS', 'ROLDAN', 'Palermo BOTANICO', 'Villa General Mitre, CABA', 'nogues', 'berisso', 'alte brown', 'Barrancas de Belgrano', 'fcio varela', 'Trenque Lauquen', 'PACHECO', 'Miramar', 'Muñiz', 'Villa Martelli, Vicente López', 'temperley', 'ciudad Mendoza', 'chaca', 'SAN MIGUEL DEL MONTE', 'LA LUCILA VICENTE LOPEZ', 'LOS CARDALES', 'Coronel Suarez', 'Plaza Italia', 'Caseros', 'FUNES', 'Miraflores', 'Cap.Fed.', 'San Fernando - Zona Norte', 'san francisco solano partido de quilmes', '1702', 'la plata- tolosa', 'Micro Centro (Barrio San Nicolas)', 'san Andrés', 'BOCA', 'Avellaneda/Capital Federal', 'ba as', 'Gerli - avellaneda', 'san martín', 'palpala', 'San Justo. La Matanza', 'capital feferal', 'MAR DEL PLATA', 'Villa Adelina - San Isidro', 'moron sur', 'Riocuarto', 'siquiman', 'lanus este y capital', 'Saenz Peña, Buenos Aires', 'Belgrano, Nuñez, Coghlan', 'Autonoma de buenos aires', 'BARRIO NORTE', 'D.Torcuato', 'Ciudad Autonoma de Bs As', 'Nuñez, Liniers, San Isidro', 'villa bonich', 'tribunales (centro)', 'SantaCruz', 'PARQUE AVELLANEDA CAMPUS UTN', 'Open Door', 'Barrio gral Savio Lugano 1 y 2 .', 'Ciudad Madero', 'BuenosAIres', 'Coronel Pringles', 'VICENTE LOPEZ A MTS DE CAPITAL SAAVEDRA', 'La tablada', 'Códoba', 'calypole', 'America', 'San Crsitóbal', 'Dominico', 'SanCristobal', 'Saavedra y Belgrano', 'General Obligado', 'Santa Rosa', 'Tupungato', 'COLEGIALES', 'martin coronado', 'VIlla Ballester', 'Lanús Este', 'Andalgalá', 'Caballito (100 mts. Est. Rio de Janeiro Subte A)', 'VILLA RAFFO', 'Lomas del Mirador  Ramos Mejia  Liniers', 'belgrano', 'floresta', 'CORDOBA CAPITAL', 'Ramos Mejia-La Matanza', 'La Capital', 'Santiago del Estero', 'Capital - Belgrano/Devoto', 'Florida Oeste', 'Abasto Center', 'Carlos Casares', 'parque Leloir, Ituzaingo', 'San Isidro Buenos Aires', 'Puerto madero, Microcentro', 'V. Martelli', 'riotercero', 'CAP', 'Palermo Hollywood', 'Ciudad Autonoma Buenos Aires', 'villa dominico', 'Del Viso Pilar', 'Castelar  o  Capital', 'General Madariaga', 'monte grande', 'Balvanera San Cristobal', 'Ciudad de Bs As', 'OLIVOS', 'San Cristobal(Congreso)', 'Del Viso ó San Martín', 'Ciudad Autónoma de Bs. As.', 'bsasfloridavicentelopez', 'LOCALIDAD TEMPERLEY - BARRIO SAN JOSE', 'ZONA OESTE', 'SAN MARTIN', 'Rio tercero', 'Tercero Arriba', 'BELL VILLE', 'Almirante Brown', 'BALVANERA-ONCE', 'ciudad evita, la matanza', 'mar delplata', 'EstebanEcheverría', 'Villa LuroLiniers', 'san antonio de padua', 'Cap.Fed', 'autonoma de buenos aires', 'VILLA CRESPO', 'Troncos del Talar - Pacheco', 'GRAN BUENOS AIRES', 'Gerli, Avellaneda', 'Pablo Podesta / Tres de febrero', 'Devoto 726*2462 M3', 'Concepción del Uruguay', 'SAN Martin', 'CAP Fed', 'Gaiman', 'Palermo - Zona Universidad de Palermo', 'Congresomicrocentro', 'villacacique', 'alejandrokorn', 'aba', 'JOSE LEON SUAREZ- SAN MARTIN', 'Caba', 'La Lonja', 'LOs Polvorines', 'pacheco', 'maraderos', 'capilladelmonte', 'san Martin', 'PDO TRES DE FEBRERO', 'Acassuso,San Isidro', 'LUGANO', 'Yerba Buena', 'OLivos', 'Montecarlo', 'CABA Monserrat', 'ZARATE', 'Villa Adelina, San Isidro', 'SanJusto', 'CABALLITO-PARQUE CENTENARIO Y CHACABUCO', 'FLORESTA', 'CHASCOMUS', 'Zona Oeste', 'Ciudad de Buenos Aires', 'Centro C.A.B.A. Barrio San Nicolás', 'Rafael castillo', 'Laguna Paiva', 'Cordoba-Capital', 'VILLA DE MAYO', 'Belgrano, Ciudad de BsAs', 'Canning Pdo Estebán Echeverría', 'Monserrat / Congreso', 'Posadas', 'Ciudad Autonoma de Bs.As.', 'b', 'Treinta de Agosto', 'chajari', 'Recoleta * Retiro', 'almirante brown', 'buenos aires provincia', 'machagai', 'Martin coronado', 'chacarita', 'Témperley', 'Mte Grande', 'Catamarca- Capital', 'Ramos Mejia norte', 'Orán', 'adrogué', 'San Martìn', 'BOULOGNESAN ISIDRO', 'villa Ortuzar', 'Gonzales Catan', 'lamatanza/capitalfederal', 'SAN FERNANDO (CENTRO)', 'Troncos del Talar', 'general rodriguez', 'cosquin', 'Rio cuarto', 'congreso', 'LUGANO Y CONGRESO + de 15.000 ventas en el sitio!!!', 'Ranelagh', 'vte lopez  zona norte', 'Bs As San isidro', 'F. de Medicina', 'Victoria, San Fernando', 'Córdoba-Cerro de las rosas', '1419', 'Granadero Baigorria', 'Caballito Flores', 'lostroncosdeltalar', 'madero tapiales', 'FLORIDA OESTE', 'san andres', 'SAN NICOLAS ( TRIBUNALES)', 'acasusso', 'PATERNAL', 'B San Cristóbal', '8 CUADRAS DE CAPITAL', 'Beccar', 'Villa Sarmiento Moron', 'Lujan de cuyo', 'Ramos Mejia La Matanza', 'Gerli', 'Adrogue-Quilmes-Solano', 'Isidro Casanova', 'Zona Norte', 'c', 'ituzaingo', 'los cocos', 'Microcentro CABA', 'Barrio las Acacias, La Reja, Moreno', 'CAPITAL FEDERAL. VILLA URQUIZA', 'LIBERTAD', 'LINIERS, PCIA DE BUENOS AIRES', 'Capital Federal  Vte Lopez', 'Villa Devoto', 'palermo/chacarita', 'floresta buenos aires', 'Quilmes Este', 'parque Avellaneda', 'Alte. Brown', 'Puan', 'Tribunales', 'VillaSoldati', 'Montecastro.', 'Villa Lugano', 'G cruz', 'Floresta - Villa Luro - Devoto - Versalles', 'luisguillon', 'Morteros', 'Villa Rosa', 'Villa bosch', 'Los Hornos', 'POMPEYA', 'capital Federal', 'Ciudad autónoma de Buenos Aires', 'CarlosSpegazzini', 'vicente lopez olivos', 'Río Negro', 'MARTINEZ (Unicenter)', 'canitas', 'José marmol', 'Matinez', 'a elegir', 'Victoria - San Fernando', 'BERNAL', 'MERLO-SAN ANTONIO DE PADUA-LIBERTAD', 'la punta', 'cañada de Gómez', 'zapala neuquen', 'Del Viso (Pilar)', 'lanus Oeste', 'LaPlata', 'CABA - Barrio Belgrano', 'Pompeya', 'nordelta', 'gral rodriguez', 'almagro', 'Bernasconi', 'LA LUCILA', 'Beccar-San Isidro', 'Caballito y Microcentro', 'Cariló', 'Ramos Mejia y Cap Fed', 'Zona Oeste - La Tablada', 'villa Ballester', 'Tucuman', 'FORMOSA', 'La Plata Hemisferio Fecliba', 'HURLIGHAM', 'dock sud', 'madero', 'El PALOMAR', 'Belgrano   Puerto Madero', 'LINIERS', 'Belen de escobar', 'Colegiales- Belgrano', 'Belgrano / Microcentro', 'Pinamar', 'Lujan de Cuyo', 'CAPITAL FEDERAL  CABA', 'El Socorro/ Pergamino', 'Ceres', 'BS AS.', 'Ramos Mejia - Haedo', 'vte.lopez', 'AVELLANEDA', 'San Isidro y Sucursales', 'marcos juarez', 'merlo', 'VILLA MARTELLI', 'villa regina', 'sf solano', 'MUNRO', 'VILLA TESEI (HURLINGHAM)', 'buenoaires', '1104', 'Villaballester', 'castelar sur (NO CAPITAL)', 'Villa Crespo ( zona aproximada Corrientes y Serrano )', 'Parque San Martin', 'bamfield', 'caseros-3 de Febrero', 'Rosario}', 'VillaCrespo', 'V. Ballester, Partido de San Martin', 'Flores o mataderos', 'Flores', '1425', 'VILLA ORTUZAR', 'Bs.As.', 'quilmes este', 'Ciudad Autónoma de Buenos Airtes', 'Haedo  El Palomar', 'cuidad madero', 'SanTelmo', 'recoleta', 'CIUDAD AUT. DE BS AS', 'Autónoma de Buenos Aires', 'PALERMO', 'San Nicolás de los Arroyos', 'jose leon suarez', 'Barrio la Horqueta', 'Lomas del mirador', 'puerto madryn', 'Buenso AIres', 'Lanus este / capital', 'SAN SALVADOR DE JUJUY', 'San Fernando del Valle de Catamarca', 'CIUDAD DE BUENOS AIRES', 'Capital Federal Floresta Parque Avellaneda', 'Paso del Rey Pdo de Moreno', 'villa allende', 'MARTINEZ', 'monserrat', 'Tostado', 'colon', 'Libertad - Merlo', 'Mataderos- Flores', 'Balvanera (ONCE)', 'BS. AS. (C.A.B.A.)', 'Ciudad Autonoma Bs. As.', 'centro', 'bernal - quilmes', 'Cordoba', 'Florencio varela', 'Merlo', 'Capital FGederal', 'capital', 'BAHIA BLANCA', 'cap. fed.', 'constitucion', 'San Martin/Merlo/Lacroze/Boedo', 'PABLO PODESTA', 'BOEDO-SAN CRISTOBAL', 'Buenos aires', 'iguazu', 'Aguaray', 'ManuelAlberti.pilar', 'CapitánSarmiento', 'Todo el pais', 'zona oeste', 'Virreyes', 'Claypole', 'villa ballester patido de san martin', 'Martinez,  SAN ISIDRO', 'Jose ingenieros', 'Mataderos SanTelmo Quilmes', 'Barrio alem- Cordoba', 'casanova', '500', 'Recoleta (Centro)', 'San Rafael', 'MORENO', 'rio tercero', 'cordobacapital', 'Villa Dominico, Avellaneda.', 'SAN FERNANDO', 'El Jagüel', 'Lanús este', 'ExaltacióndelaCruz', 'VILLA INSUPERABLE', 'Villa Maria', 'AGRONOMIA', 'Villa madero', 'buenos airesa', 'microcentro', 'BELLA VISTA', 'Caballito parque Rivadavia', 'GONZALES CATAN', 'gran buenos aires', 'remediosdeescalada', 'ctes', 'MICROCENTRO/VILLA CRESPO', 'canning', 'mar del tuyu', 'San Martín', 'Puerto Madryn', 'Isidro casanova', 'buenso aires', 'Agronomía', 'PUNTA ALTA', 'ramos mejía', 'La Tablada', 'Lugano I y II', 'city bell', 'CAPITAL DEDERAL', 'CABA Caballito', 'Ituzaing?', 'Parque Patricios, Buenos Aires', 'PuertoMadero', 'gral. san martin', 'xx', 'vicente lopez, florida', 'Lomas Zamora', 'Santa Lucía', 'castelar sur', 'ingeniero maschwitz', 'ABASTO A TRES CUADRAS DEL SHOPING', 'Maria Juana', 'General San Martín', 'Capital Fefderal', 'Fcio.Varela', 'Venado Tuerto', 'Santa fe', 'Valentín Alsina', 'Buenas Aires', 'RAMOS  MEJIA', 'Casilda', 'Lanus Oeste', 'RIO GALLEGOS', 'buenosAires', 'ParqueAvellaneda', 'Flores Norte', 'Agronomía  Floresta  Congreso  Microcentro', 'Zona Centro', 'Ezpeleta oeste', 'leones', 'VILLA ALLENDE', 'Gral. Pacheco', 'Villa Gral Belgrano', 'Villa Devoto CABA', 'lavallol', 'puerto iguazu', 'capita federal', 'Cap. Fed', 'Quilmes Oeste', 'COMODORO RIVADAVIA', 'MATADEROS', 'Pigüé', 'San Fernando del Valla de Catamarca', 'Neuquen Capital', '.', 'Banfield Este Y Lanus Oeste', 'LANUS OESTE', 'Baradero', 'Belgrano R', 'SanMartin-VillaLynch', 'BURZACO', 'autonoma', 'Quilmes este', 'FLORESTA MONTE CASTRO', 'Capital', 'Valentín alsina', 'caballito.', 'eljagüel', 'NUÑEZ', 'bellavista', 'santo tome', 'sanjusto.', 'Cap. Fed.', 'MERCEDES', '6300', 'Bernal Oeste', 'Remedios de escalada', 'dique lujan tigre', 'Bernal', 'gonzalez.catan', 'AlmiranteBrown,adrogue', 'virreydelpino', 'San Antonio de Areco', 'haedo', 'Ing. Maschwitz', 'talar', 'Seleccione', 'Bell Ville', 'Ciudadela', 'Congreso, Balvanera', 'sannicolas', 'Alt. Av. Beiró 3500', 'Machagai', 'Tribunales (Microcentro)', 'BS.AS.', 'Avellaneda, Sarandi.', 'Agronomia', 'cAPITAL FEDERA', 'rio gallegos', 'Jose Ingenieros', 'Ciudadela Sur', 'Beltrán Norte - Maipú', 'Adolfo sourdeaux', 'Rafael Calzada', 'Munro', 'Villa Ramallo', 'PQUE CENTENARIO', 'Paso de la Patria', 'CAPITAL  FEDERAL', 'Villa de Mayo', 'villamartelli.vicentelopez', 'villa luro', 'VIEDMA', 'CAMILO ALDAO', 'Villa Gral Mitre', 'VILLA SAENZ PEÑA', 'CONGRESO', 'Cutral-Có', 'Ingeniero maschwitz', 'LIBERTAD MERLO', 'moreno (cerca nine shop)', 'Oliveros', 'Gran Buenos Aires', 'VALENTIN ALSINA', 'saenz peña partido de 3 de febrero', 'Monte Caseros', 'EZPELETA', 'Elpalomar', 'Tigre- Pacheco', 'Obelisco Tribunales', 'villa urquiza/once', 'SanCristóbal', 'ALEJANDRO KORN', 'Lomas', 'Mataderos', 'Villa Constitucion', 'Azul', 'LANUS oeste', 'ZONA SUR', 'Jose Clemente Paz', 'MICROCENTRO', 'Cosquin', 'Villa Buenos Aires', 'Monte grande', 'BARRIO NORTE--PALERMO', 'Mina Clavero', 'isidrocasanova', 'GlewGuernica', 'Yerba buena', 'Barrio Norte de lunes a viernes de 13 a 19 hs', 'la ferrere', 'Lanus Oeste Y Banfield Este', 'CABALLITO-PATERNAL', 'TRIBUNALES RECOLETA BARRIO NORTE MICROCENTRO', 'CIUDAD AUTONOMA BUENOS AIRES', 'Pque.Avellaneda', 'Partido de San Isidro', 'LomasdeZamora', 'PALERMO ALMAGRO', 'BARRIO DE POMPEYA', 'LAS BREÑAS', 'CASILDA', 'Rincon de los sauces', 'CAPITAL SAN TELMO', 'TRelew', 'san antonio de arredondo', 'Autonoma de Bs.As.', 'Florida - Vicente lopez', 'Gualeguaychu', 'cAPITAL FEDERAL', 'Tigre', 'San Carlos de Bariloche', 'CAPITAL FEDRAL', 'VILLAGUAY', 'RETIROS QUILMES - WARNES', 'VillaOrtúzar', 'CaballitoAlmagro', 'Laferrere', 'PABLO NOGUES', 'rincon de milberg', 'Paso del rey', 'la calera', 'villa madero', 'lomas/ lanus', 'VILLA PUEYRREDÓN', 'Villa Urquiza', ',', 'san martin', 'San Marcos Sierras', 'Villa giardino', 'Palermo CABA', 'balvanera  once', 'Sarandi', 'CIUDAD AUTONOMA DE BUENOS AIRES ( ALMAGRO )', 'cap. fed. bs. as.', 'Villa Adelina', 'CIUDAD EVITA', 'Santos lugares', 'Trelew', 'Capital Federal (Belgrano)', 'Caballito.', '11 de setiembre', 'puan', 'Cnel. Vidal', 'San Ramon de la Nueva Oran', 'Bariloche cp 8400', 'MicroCentro', 'Avellaneda, Wilde', 'barrionorte', 'ParquePatricios', 'A 5 c de Av Gral Paz y Beiro', '9 de Abril', 'La Boca', 'CAP.FEDERAL', 'Ciudad Autonoma de Bs. As.', 'mechita', 'Flores sur', 'zonaoeste', 'Balvanera - Ciudad Autónoma de Buenos Aires', 'Bolívar', 'Del viso', 'LaMatanza', 'San Francisco', 'sanmigueldetucuman', 'Capitán Bermúdez', 'elpalomar', 'san miguel de tucuman', 'PONTEVEDRA,MERLO,BS AS', 'Canning', 'de Buenos Aires', 'Avellaneda (Gerli)', 'Marcos Paz', 'parque centenario caballito', 'Manuel B. Gonnet', 'General Acha', 'quilne', 'Las Marianas', 'san justo -cap federal', 'jose león suarez', 'villa ballester', 'quilmes', 'donde quieras', 'Guaymallen', 'facultad de medicina', 'Garli - Lanus Este', 'sanvicente', 'Florida, Vicente López', 'EL TALAR', 'perez', 'Florida, Vicente Lopez', 'loma hermosa', 'Remedios De escalada', 'Ciudadela (Beiro y gral Paz) o Rafael Castillo', 'BS AS', 'Capilla del Monte - Barrio Centro', 'Villa constitucion', 'Avellaneda - Villa Dominico', 'saenz peña', 'Caballito,Flores', 'SAN NICOLAS', 'Libertad', 'Tristan Suarez', 'bariloche', 'Ciudadela Centro', 'olivos, vicente lopez', 'La Tablada.', 'isla verde', 'ciudad madero', 'Almagro-Abasto', 'OLIVOS Y SUCURSALES', 'Caballito CABA', '(congreso)', 'La Punta', 'Jose.C.Paz', 'MICROCENTRO ITUZAINGO MORON', 'hurlingham', 'Montserrat', 'San Nicolás, microcentro.', 'Barrio Belgrano', 'f', 'LANUS .- Congreso.- Palermo', 'Victorica', 'Centro Tribunales.', 'fLORES.', 'san pedro', 'Cañuelas', 'ciudad jardin lomas del palomar', 'Bs. As.', 'MARTIN CORONADO', 'General Rodriguez', 'coronda', 'jose C, Paz', 'Pque Chacabuco', 'los zorros', 'Paternall', 'Saladillo', 'devoto ò Belgrano', 'Ituzaingo - Parque - Leloir', 'Ingeniero Maschwitz', 'Puerto Madero', 'Cuidad Autonoma de Bs. As.', 'sunchales', 'Ciudad Celina', 'grand bourg', 'LA  PLATA', 'Pcia. de Bs As', 'Capital Federal San Isidro', 'Matrtinez', 'villa pueyrredon', 'San Jose Guaymallen', 'Villa Adelila', 'cap .fed', 'Florida VteLopez', 'Cap.Federal', 'Flores/Banfield', 'capital fedeRAL', 'puerto madero', 'AVELLANEDA - GERLI', 'benavidez', 'SanMigueldeTucumán', 'F VARELA', 'Ciudad autónoma de buenos aires', 'Tigre ( rincon de milberg)', 'RECONQUISTA', 'Quitilipi', 'Barrio Naon', 'Coghlan', 'dontorcuato', 'mORON', '998', 'V. Alsina-Lanus', 'Lanús', 'General Pico', 'mar del plata', 'VILLA MAIPU SAN MARTIN', 'San cristobal', 'Bs as', 'laplata', 'Belen De Escobar', 'ensenada (punta lara)', 'agronomia', 'SAN ISIDRO', 'bella vista san miguel', 'RECOLETA', 'la falda', 'Vicente López', 'olivos', 'jose marmol', 'Santa Clara del Mar', 'Partido de VL', 'Morón Buenos Aires Argentina', 'ciudad autónoma', 'Maria Teresa', 'gral pacheco', 'lomahermosa', 'villa Devoto', 'buenos iares', 'jauregui', 'ALUMINE', 'gonzalez catan', 'MERLO', 'ciudad autonoma de buenos aires', 'PUERTO MADERO Y CABALLITO', 'Ensenada.', 'Villa Ortúzar', 'Villa Eduardo Madero', 'Villa Mercedes', 'ciudaela', 'La lucila', 'San telmo', 'CAP. FEDERAL', 'lanus oeste valentin alsina', 'Rio Gallegos', 'Lanus este', 'La Union', 'PalermoSoho', 'Gral. San Martin', 'Capital Federal, Belgrano', 'SF', 'Saveedra', 'Glew', 'Ciudad Autonoma de buenos Aires', 'lastalitas', 'BarracasCapitalFederal', 'v. adelina', 'Villacrespo', 'Villaguay', 'ciudad autonoma de buenos aire', 'avellaneda  Wilde', 'villa carlos paz', 'Gral. jose de san martin', 'C.A. de Buenos Aires', 'San Clemente del Tuyú', 'Villa de mayo', 'Vicente Lòpez', 'ituzaingo o merlo', 'chivilcoy', 'padua', 'Bs,As', 'Sourigues', 'Carlos paz', 'Coghlan - Belgrano', 'MALVINAS ARGENTINAS', 'Ricardo Rojas', 'Parque Avellaneda', 'san salvador de jujuy', 'Pérez Millán', 'lanus - capital federal', 'Bueno Aires', 'BÁNFIELD', 'Ciudad jardin Palomar', 'FITDG.com.ar', 'guemesretiro', 'Villa Crespo', 'buenos aires zona oeste', 'Paternal -VCrespo San Isidro', 'ISIDRO CASANOVA', 'Villa Lynch San Martin', 'SIN', 'SanVicente', 'san critobal', 'Castelar Norte', 'LUIS GUILLON', 'San MArtin', 'pablopodesta', 'Capital ( barracas)', 'Mercedes', 'lugano', 'monte castro', 'VillaPueyrredon', 'capitalfederal,sancristobal', 'MArtin coronado', 'SAN MIGUEL DE TUCUMAN', 'tandil', 'esteban echeveria', 'ElPalomar', 'capilla del señor', 'CAP FED', 'Laboulaye', 'Barrio Palermo', 'SOLANO', 'Villa maipu', 'CARLOS SPEGAZZINI', 'ramos mejia', 'sarandi avellaneda', 'cordoba, capital', 'Bahia Blanca  Capital Federal', 'gral san martin', 'AUTONOMA DE BUENOS AIRES', 'basavilbaso', 'Buenosaires', 'San Nicolas de los arroyos', 'don torcuato', 'Tunuyán', 'San Andres', 'Avellaneda', 'MicrocentroRetiroBoedo', 'San Telmo/Parque Lezama', 'Castelar, Moron', 'bahia blanca', 'JOSE.C.PAZ', 'APITAL  FEDERAL', 'San Isidro - Boulogne', 'Martinez', 'PALOMAR', 'Don Bosco', 'Potrero de los Funes', 'Barracas', 'delviso', 'Exaltación de la Cruz', 'Gral. Rodríguez', 'la plata', 'El jaguel', 'santiago del estero', 'San Jorge', 'pirane', 'Lanus', 'Florida-Vicente López', 'VILLA GENERAL MITRE', 'c.f.', 'Boedo Caballito', 'Lavalle', 'las varillas', 'Hurlingham', 'Ministro Rivadavia', 'capital (zona centrica)', 'Puerto MaderoRetiro', 'buenos aires-.v urquiza', 'DON BOSCO', 'GeneralRoca', 'bs. as.', 'Catamarca', 'villa lugano', 'BellaVista', 'San Telmo-Constitucion', 'la granja', 'Cosquín', 'Godoy Cruz Mendoza', 'Villa Pueyrredón  Villa Urquiza', 'san fernando del valle de catamarca', 'oeste', 'El Manantial', 'Sexta sección', 'Río tercero', 'villa de merlo', 'Talar de Pacheco', 'Devoto-Parque Chacabuco-Microcentro', 'mataderos', 'Gdor ing. Valentín Virasoro', 'Acceso oeste Km 32, Moreno', 'La Rioja', 'obera', 'guaymallem', 'Francisco Alvarez', 'Rincón de Milberg', 'Barrio Agronomia - Villa Urquiza', 'Victoria', 'Sarandí', 'chacras de coria', 'Villa Crerspo', 'San Martín 3 de Febrero', 'zona norte', 'La Paternal', 'Frontera', 'Morrison', 'Versalles-Liniers', 'V.URQUIZA', 'abasto', 'Palmira, San Martín', 'Monte Hermoso', 'LA RIOJA', 'Villa Linch - General San Martín', 'Claypole (GBA) Sur', 'Adrogué', 'ONCEALMAGRO', 'munro', 'villa adelina, san isidro.', 'capi', 'GRAL SAN MARTIN', 'Villa Luro', 'ITUZAINGO Y  CABA', 'Ing Maschwitz', 'PUERTO RICO', 'Centro Capital Federal', 'GARIN.', 'Gral San martin', 'P.Patricios', 'gonzalescatan', 'General Belgrano', 'San Fernando', 'marcos paz', 'villa garibaldi', 'mercedes bs as', 'CONSTITUCION', 'paso de rey', 'Junín', 'urquiza', 'Congreso, San Cristobal', 'Iguazú', 'pehuajo', 'ElPalomar(moron)', 'Saénz Peña', 'Caba.', 'ciudadevita', 'termas', 'Mecochea', 'Villa Peuyredon', 'Bernal Barrio Parque', 'Lujan - Carlos keen', 'VIALE', 'SAN MIGUEL', 'GUAYMALLEN', 'PALERMO PLAZA ITALIA', 'Núñez', 'DON TORCUATO', 'Ciudad Jardín', 'San martin', 'VILLA BELLESTER', 'San Juan Capital', 'Coglhan', 'particular', 'Tablada', 'PIEDAD', 'tristansuarez(ezeiza)', 'Villa Ciudad de America', 'Luzuriaga', 'san ramon de la nueva oran', 'Simoca', 'TABLADA', 'Sucnhales', 'Empalme villa Constitucion', 'San Martin (Villa Lynch)', 'BUESOS AIRES', 'GONNET', 'Gonzalez catan', 'Córdobacapital', 'Itagui Antioquia Colombia', '1843', 'Ciudad autonoma de buenos aires', 'Copo', 'FORENCIO VARELA', 'BARRACAS CONSTITUCION', 'San Nicolas - Obelisco', 'capital fed', 'bermudas', 'Paternal', 'Zona Obelisco', 'florida vte lopez a mts de cap', 'Nordelta', 'Villa Ballester - San Martin', 'mte gde', 'Pacheco', 'GonzálezCatán', 'SanFco.Solano(Quilmes)', 'Merlo (Libertad)', 'Roque Pérez', 'ComandanteFernández', 'V.Urquiza', 'Gral San Martin', 'San Juan', 'Ciudad autonoma de Buenos aires', 'lanuseste', 'san clemente del tuyu', 'versalles', 'Capilla del Señor', 'Jose C. Paz', 'san rafael', 'Bella Vista, San Miguel', 'LanúsOeste', 'funes', 'Troncos del Talar- Tigre', 'Barrio norte', 'Martínez, Buenos Aires', 'CIUDADELA', 'Alta Gracia', 'M.B.GONNET', 'autonama', 'Ingeniero Budge', 'Villa Crespo - Bº Norte', 'miramar', 'Santo tome', 'buenos aires, Villa Urquiza', 'RAFAEL CASTILLO', 'Hudson partido Berazategui', 'Gral san Martín', 'Ciudad Autonoma de Buenso Aires', 'corrientes', 'libertad-merlo', 'Paternal/Flores/Caballito', 'BELLA VISTA (SAN MIGUEL)', 'Fco. Alvarez(MORENO)-ALMAGRO', 'General san martin', 'Palermo o Caballito', 'CURUZU CUATIA', 'SantaClaradelMar', 'sancri', 'CID.AUT.BS.AS', 'Lanus oeste', 'barrio Flores', 'Vicente lópez', 'San Justo (villa luzuriaga)', 'SanFernando', 'San Nicolas (Tribunales)', 'muñiz', 'JOSE LEON SUAREZ', 'villa de soto', 'GRAND BOURG', 'Joseleonsuarez', 'villa dominico avellaneda', 'Temperley', 'Villa Regina', 'Cap. Fed o Martin Coronado', 'laferrere', 'celina', 'HURLINGHAM', 'villa nueva', 'Quilmes', 'Villa Gobernador Gálvez', 'Bella Vista', 'SANEZ PEÑA', 'san cristobal', 'las breñas', 'San Francisco Solano', 'Caba - Monte Castro', 'LA MATANZA, LOMAS DEL MIRADOR', 'VILLA LURO', 'guernica presidente peron', 'almagro/caballito', 'Ezeiza,Canning', 'Soldati', 'ACASSUSO', 'wilde', 'lujan de cuyo', 'villa del parque', 'Río Grande', 'Moreno- Bs.As.', 'HAEDO', 'Remedios de Escalada Lanus', 'LUCILA DEL MAR', 'LaCalera', 'villa insuperable', 'Tres de febrero', 'Los Condores', '3 d febrero', 'HUERTA GRANDE', 'CABALLITO - CLASICOS EN ESCALA', 'Marcos Juárez', '9 de Julio Nueve de Julio', 'Cordoba Capital', 'Del valle', 'mhnoi', 'flores', 'San Andrés de Giles', 'Isidro Casanova - Rafael Castillo', 'Capital Federal - San Miguel', 'Zona Norte y Capital Federal', '3 de febrero - Villa Bosch', 'Martin Coronado', 'Chimbas', 'San Martin Centro', 'Bulogne', 'bernal oeste', 'L. del Mirador', 'Villa Elisa-La Plata', 'remedio de escalada', 'olivos,vicentelopez', 'Once', 'Rio Tercero', 'Darregueira', 'San nicolas', 'cap federal', 'Goya', 'los troncos del talar', 'La Banda', 'Magdalena', 'Ezeiza,recreativo Veselka', 'lomas  de Zamora', 'LA TABLADA', '25 de Mayo', 'San Nicolas de los Arroyos', 'aldo bonzi', 'Valentin Alsina, Lanus', 'Firmat', 'ciudad autonoma bs.as.', 'ciudad autonoma de Buenos Aires', 'PODESTA', 'claypole', 'GERLI', 'autonoma de Buenos Aires', 'BahíaBlanca', 'Ramos Mejía', 'VILLA DEVOTO', '1669', 'la plata (gonnet)', 'bs', 'varela', 'PLAZA DE MAYO', 'saavedra', 'FLORENCIO VARELA O CAPITAL FEDERAL', 'Isidro Casanova La Matanza', 'clorinda', 'Virrey del Pino', 'autonoma buenos aires', 'intendente alvear', 'Viila Urquiza', 'Botánico', 'cap. buenos aires', 'Capital Federal. Palermo', 'Villa Dominico', 'Vte Lopez', 'pergamino', 'Microcentro', 'Florida Vte.Lopez', 'BUENOS AIRES', 'hurlingham (w.c.morris)', 'San Nicolas  Microcentro', 'CityBell', 'Saavedra  Belgrano', 'balvanera', 'formosa', 'Tribunales Recoleta Villa Ballester', 'capital.', 'La unión. Ezeiza', 'Santa rita  Paternal', 'Las Toninas', 'villa luzuriaga', 'CAP Federico', 'Ciudad Autónoma Buenos Aires', 'Lima', 'ciudad de bs as', 'san Francisco Solano', 'Cioudad Autonoma de Buenos Aires', 'Campana', 'Once - CABA', 'cnel moldes', 'V. BALLESTER', 'Jesus Maria', 'san nicolas de los arroyos', 'José León Suárez (local) y puntos de entrega en CABA (ver descripción)', 'SANTELMO', 'San Miguel de tucuman', 'chilavert, Villa Ballester', 'La Plata', 'Villa Gobernador Galvez', 'Ezeiza', 'riglos 1101', 'Castelar o Moron', 'Chilavert', 'maquinista savio', 'carmensantafe', 'Palermo Nuevo', 'Victoria (San Fernando)', 'Banfield, Lomas de Zamora', 'Alejandro Korn', 'villa elisa', 'VillaReal', 'villa dominico, Avellaneda', 'once', 'VILLA MADERO', 'Acassuso bajo de san isidro', 'Carhue', 'francisco alvarez', 'josecpaz', 'tortuguitas(malvinasargentinas)', 'parque chacabuco', 'Lomas de Zamora', 'Funes', 'Latablada', 'parque patricios', 'Presidente Derqui', 'Parque Patricios', 'Ingeniero Machwitz', 'LLAVALLOL', 'ciudad autónoma de buenos aires', 'moron,  buenos aires', 'PasodelRey', 'PQUE PATRICIOS', 'Velez Sarfield', 'Almagro abasto', 'Aguilares', 'pilar', 'presidencia roque saenz peña', 'adrogue', 'villa urquiza', 'Tapiales', 'Alte Brown, Zona sur', 'Zarate', 'josè Màrmol', 'Belgrano - Saavedra', 'BALVANERAALMAGRO', 'tristan suarez', 'Versalles - Liniers', 'BAJO FLORES', 'Barrio Norte - Lu A Vi 10 A 20 Sab. 10 a 13 hs', 'Cinco Saltos', 'San Andres Partido de San Martin', 'nuñez', 'Villa carlos paz', 'Belgrano-Palermo', 'Zona Norte y C.A.B.A.', 'San Telmo', 'santos tesei', 'Guillermo E. Hudson', 'V. URQUIZA', 'burzaco', 'presidente derqui', 'Laprida', 'isisdrocasanova', 'jaguel', 'Bajoflores', 'San carlos de Bariloche, barrio Península San Pedro', 'Perez', 'lalonja', 'sampacho', 'v t lopez', 'San Telmo (cerca de Constitución)', 'Ciudad Autónoma de Buenos Aires (Barrio de Flores)', 'barracas', 'bella vista', 'Tribunales - Centro', 'ezeiza', 'Villa Martelli', '......', 'FLORIDA', 'los cardales', 'rojas bueno aires', 'Buenos Aires, Isidro Casanova', 'TEMPERLEY', 'prov de bs as', 'villa santa rita', 'Chapadmalal', 'grndbourg', 'San Nicolás Zona Plaza de Mayo', 'Bernal (GBA Sur)', 'villademayo', 'san nicolas', 'Villa Nueva', 'General Arenales', 'Liniers - Buenos Aires', 'Banfield, Lomas De Zamora', 'Zona Sur', 'CAPFED', 'warnes', 'Larroque', 'Esquel', 'DonTorcuato', 'Lomas de San Isidro', 'Corrientes', 'MIRAMAR', 'SAN ANTONIO DE PADUA', 'V Ballester', 'San luis', 'Castelar Norte y Moron', 'Bs As.', 'los polvorines.barrio la pradera', 'San Cristobal', 'cap.fed', 'CIUDAD JARDIN EL PALOMAR', 'BOULOGNE PARTIDO DE SAN ISIDRO', 'San Nicolas . Microcentro', 'La calera', 'capital federal caba', 'Villa Sarmiento - Morón', 'Lanus, V. Alsina', 'JESUS MARIA', 'Ramos Mejia, La Matanza', 'VicenteLópez', 'VILLA MARTELLI (VICENTE LOPEZ)', 'Villa Crespo (Parque Centenario)', 'city bell, la plata', 'Quilmes y Almagro', 'mataderos/Boedo', 'CABS', 'VILLA DEL PARQUE (CABA)', 'Capital, Santiago del Estero', 'V.Devoto', 'San Telmo o Constitucion', 'Olivos Vicente Lopez', 'San Telmo Ciudad Buenos Aires', 'Ucacha', 'valle hermoso', 'Neuquen', 'Moreno', 'almirante brown-quilmes.', 'VILLA DEL PARQUE VILLA NUEVA', 'General Roca', 'ciudad autonoma de buen aires', 'santa lucia', 'Ballester', 'ciudad de buenos asires', 'san miguel', 'Punilla', 'Vicente Lopez Munro', 'malvinas argentinas', 'Rosario', 'Villa luro', 'berazategui', 'Bella vista', 'La Falda', 'Rafael Calzada Alte Brown', 'Floresta - capital federal', 'Caballito - I. Casanova', 'RETIRO', 'avellaneda', 'lanus oeste', 'Capital  Floresta', 'ranelagh', 'atalaya', 'Florida', 'CIUDAD AUTONOMA DE BUENOSA IRE', 'ALMAGRO - CABA', 'Coronel Suárez', 'Fcio varela', 'tres de febrero', 'Flores - Lanus (Retiro personal)', 'bs.as.', 'villa ortuzar', 'Villa Elisa', 'ministro rivadavia', 'Villa General Mitre', 'Ushuaia', 'cuidad autonoma de buenos aires', 'merlo bs as', 'CaballitoVilla Crespo', 'Embalse', 'bahía blanca', 'Caìtal Federal', 'General Ramirez', 'Tigre Delta', 'monte chingolo', 'guaymallen', 'tribunales', 'monte coman', 'San Salvador de Jujuy', 'La Calera', 'VILLA CARLOS PAZ', 'LA UNION-EZEIZA', 'san a de padua', 'VTE LOPEZ', 'LUJAN', 'Monte Castro (devoto)', 'Ciudad de Villa Madero', 'Hornos-Gral Las Heras', 'Villa Constitución', 'ciudad autonoma de bs as', 'San Jose de Metan', 'Zona Congreso', 'tablada', 'cabs', 'CASBA', 'sanantoniodepadua', 'vicuña mackenna', 'cruce de jose c paz', 'Floresta (P.Avellaneda)', 'FIRMAT', 'Benavídez', 'ENVIOS A TODO EL PAIS', 'Villa Santa Rita - Capital Federal', 'Arroyito', 'SARANDI- AVELLANEDA', 'Plaza Once', 'San Justo', 'Botanico', 'río gallegos', 'Carpinteria', 'Castelar', 'Devoto - V. Pueyrredón', 'TALAR', 'docksud', 'villa gral belgrano', 'BUENOS  AIRES', 'los reartes', 'barrio de CHACARITA', 'de Bs. As.', 'SAN FERNADO', 'González Catan', 'C:A:B:A:', 'BS AS CABA', 'lanus-adrogue', 'VILLA REGINA', 'GENERAL PACHECO', 'San Martin de Los Andes', 'Oncativo', 'Ramos mejia', 'vicente lopez', 'Chascomus', 'Rafael calzada', 'Jesus María', 'Solo para Envios', 'ESCALADA', 'Ezpeleta', 'Flores - Capital Federal', 'Lobos', 'Carapachay- Vte Lopez', 'Burzaco', 'LOMAS DEL MIRADOR', 'LA FALDA córdoba', 'ballester', 'Avellaneda sarandi', 'General Pacheco, Tigre', 'y La Plata', 'caviahue', 'R. CALZADA', 'los polvorines', 'Monte Chingolo', 'cutral co', 'libertad', 'Oberá', 'godoy cruz', 'BANFIELD', 'santos lugares caseros', 'TANDIL', 'HAEDOBELGRANOITUZAINGOSE ENVIAtambien a cargo del comprador', 'Rojas', 'Acasusso', 'MICROCENTRO PEATONAL FLORIDA', 'Bosques, Florencio Varela, Buenos Aires', 'GodoyCruz', 'Recoleta', 'Del Viso', 'virreyes', 'Pablo Nogues', 'Tablada, sobre limite de Cap Fed', 'Piñeyro', 'Floresta', 'Zona norte', 'flores caballito', 'la reja', 'Lanus este Villa Obrera', 'VARIOS PUNTOS DE ENTREGA', 'ALMAGRO  EL BAUL DEL MECANICO', 'Villa del Parque, Local a la Calle, Lun a Vier 9 a 19hs, Fc A ó B, Envíos a Todo el Pais', 'gral. pacheco', 'RESISTENCIA', 'Florida Vicente lopez', 'Villa adelina', 'San Andres - Pdo de San Martin', 'zona sur o CABALLITO', 'G. Catan', 'WARNES', 'Haedo - El Palomar', 'MORON', 'SantosLugares', 'lomasdelmirador', 'RemediosdeEscalada', '1621', 'Calamuchita', 'PARQUE LELOIR', 'Villa Raffo (Saenz Peña)', 'Paranà', 'San Fernando del Valle', 'bella vista (san miguel)', 'ciudadela', 'MORON - LANUS', 'Joaquin Gorina - La Plata', 'Pablo Nogues  Los Polvorines', 'Vte lopez', 'San Andrés', 'la consulta', 'Liniers, Capital federal', 'ALMAGRO CABALLITO', 'esperanza', 'Dina Huapi Bariloche', 'DARREGUEIRA', 'Nunez', 'Zona Villa Crespo CABA Bsas', 'Presidente Derqui- Pilar', '9 de Abril - Monte Grande', 'lanus este monte chingolo', 'GENERAL SAN MARTIN', 'cabas', 'Ciudad Aut Bs AS', 'Adrogue', 'Microcentro, Capital Federal', 'eltalar', 'v.bosch', 'Maciel', 'Villa Tesei - Hurlingham', 'BENAVIDEZ', 'Villa Urquiza o a convenir', 'palermo', 'Fcio VArela', 'Balcarce', 'HURLINGHAM (VILLA TESEI)', 'Villa Baller', 'VALENTIN ALSINA  LANUS', 'FACULTAD DE MEDICINA', 'Capilla del Monte', 'lafalda', 'RAFAELA', '1er Junta - Caballito', 'Formosa - Capital', 'San Salvador', 'Presidente derqui', 'Junin de los Andes', 'x', 'Villa Gesell', 'de buenos aires', 'Lomas del Mirador', 'Puerto madryn', 'La Plata/ Villa Elisa', 'noetinger', 'Parque Chacabuco - Ciudad Aut. de Buenos Aires.', 'Paraná', 'Capital Fedral', 'San Fco Solano', 'San antonio de padua', 'Valle Hermoso', 'Mar del plata', 'Lincoln', 'Wilde', 'Ing. Pablo Nogues', 'Remedios De Escalada', 'VillaLugano', 'NUNIEZ', 'Carcarañá', 'Saenzpeña', 'Hudson', 'Parque Rivadavia Caballito', 'Caballito -  argentina', 'Río Primero', 'san telmo', 'Zona Oeste GBA', 'Cañitas Belgrano', 'billinghurst partido san martin', 'Bahia Blanca', 'SANTOS LUGARES', 'Luis Guillon', 'V. lugano', 'FRAY LUIS BELTRAN', 'Munro - San Martin', 'Villa Gral Mitre  Paternal', 'Chacras de Coria', 'Castelar-Ituzaingo-Parque Leloir', 'villa adelina, san isidro', 'villa martelli', 'Buenos Aires (Floresta)', 'zona sur', 'Capital federal ( centro )', 'ingeniero pablo nogues', 'PARQUE CHAS', 'Puerto Gral. San Martin', 'Lujan, Gral. Rodriguez y San Fernando', 'Entregas en Capital Federal - Zona Oeste y Zona Sur del Gran Bs As', 'Ciudad Autónoma de Bs As', 'BARRIO CABALLITO', 'GeneralViamonte', 'VILLA LUROI', 'san isidro', 'Villa Mugueta', 'Balvanera - Once', 'astronomía', 'isidro casanova', 'Madero  o CABA', 'Graneros', 'Valentin Alsina (Lanus Oeste)', 'Calypole', 'Neuquén Capital', 'MONTEGRANDE', 'Saens Peña', 'Gral.San Martín', 'ITUZAINGO/CASTELAR', 'Palomar', 'Almagro Villa Crespo Palermo', 'ABA', 'san francisco solano', 'Munro, Vicente Lopez', 'Remedios de Escalada Oeste', 'jose.c.paz', 'merlo  norte', 'San Luis', 'matheu', 'VillaDevoto', 'VILLA PUERREDON', 'Adolfo Gonzales Chaves', 'Villa Bosch', 'villa dolores', 'trelew', 'Martìnez', 'mmm', 'CABA Villa del Parque', 'Parana', 'Mar del Pata', 'San Telmo (cerca Constitucion)', 'Villa Maipú San Martín', 'mendoza, godoy cruz', 'Morón', 'calzada', 'Tribunales - Villa del Parque', 'Sarandi/Avellaneda', 'La paternal', 'BOEDO-CABALLITO', 'cdad de buenos aires', 'villa devoto', 'CÒRDOBA', 'Lanús oeste valentin alsina', 'Don torcuato', 'VICENTE LOPEZ', 'pigue', 'villa Martelli', 'CapitalFederal', 'Pocito', 'venado tuerto', 'VILLA SANTA RITA', 'Pza.Italia', 'vurquiza', 'solano,quilmes', 'La Matanza 4 cuadras gral paz', 'SanIsidro', 'LANUS', 'Casanova', 'Versailles', 'JoseCPaz', 'Los Cardales', 'Valentin Alsina Lanus', 'San Isidro y Recoleta', 'Moquehuá', 'Centro Agricola El Pato', 'Villa Sarmiento', 'Villa gral Mitre', 'la Boca', 'J. M. Gutierrez', 'Gregariodelaferrere', 'BSAS', 'ONCE  BALVANERA - local - FERRETARIA RIVAFER (lunes a viernes  8.30 a 18.30 y  sábados 8.30 a 12.30 hs).', 'buenos aires (caballito)', 'San Andres San Martin', 'Luis Guillón', 'CApital Federal', 'beccar', 'zorzal', 'catan', 'Otra ubicación - Cap. Fed.', 'Grand Bourg', 'LOMAS D MIRADOR', 'capital dederal', 'Belgrano.', 'Ciudad', 'Arrecifes', 'alderetes', 'CABAa', 'rincón de milberg - tigre', 'Capital - Zona Norte', 'PUERTO MADRYN', 'San Nicolas.', 'Buenos Aires', 'C.A.', 'justodaract', 'Constitucion', 'quequen', 'sanfranciscosolano', 'Villa Elisa, La Plata', 'CAIMANCITO CENTRO', 'valentin alsina', 'Necochea', 'Boulogne - San Isidro', 'Capital Federal Flores', 'Nueva Pompeya', 'Villa Lynch', 'VILLA  MARIA', 'zona Retiro', 'anillaco', 'Reconquista', 'MONTE GRANDE', 'Partido de Pilar ( pte derqui )', 'Villa Ortuzar', 'Ciudad Aut. Bs.As.', 'COLECTORA AV. GRAL. PAZ', 'Toda Capital Federal', 'Ramos Mejia', 'tigre', 'Congreso  Montserrat', 'Gral. Juan Madariaga', 'TRIBUNALES', 'San Isidro o Retiro  Leer Bien', 'el palomar', 'V.Ballester', 'tesei', 'Villa Sarmiento, Pdo de Morón.', 'Rio Ceballos', 'Almargro', 'rawson', 'salta', 'VILLA ADELINA', 'Pehuajó', 'Lanus, Flores', 's. isidro', 'lomas del mirador', 'Ciudad - Capital', 'Villa Tesei, Hurlingham', 'Bs. As - Zona oeste', 'caBa', 'Bs. As', '(9103) Rawson', 'nunez', 'ARROYITO', 'FlorencioVarela', 'Villa Dolores', 'San Miguel  Moron', 'santa fe', 'ABASTO', 'cipolletti', 'buenos aires Temperley', 'San Justo - La Matanza', 'LA RIOJA CAPITAL', 'R.de Escalada ( Lanus)', 'Nva Cordoba', 'Córdoba', 'Estación Lanus lado Este', 'villacelina', 'Crespo', 'buenos airs', 'ALMAGRO PALERMO', 'Olivos, Vicente Lopez', 'buenos  aires', 'Villanueva', 'Liniers/Mataderos/Ramos', 'elchalten', 'Junin de Los Andes', 'RAMOS', 'MICRO CENTRO', 'CAPILLA DEL MONTE', 'LA PLATA', 'Bolivar', 'alberti. pilar', 'Burzaco - Adroge', 'san carlos de bariloche', 'Valentin Alsina', 'capital federal, buenos aires', 'Avellaneda ,sarandi', 'Catalinas sur (la boca)', '000', 'Parque chas', 'CAPITAL', 'cordoba', 'polvorines', 'Rafael Castillo.', 'san marin', 'Zona Tribunales', 'LA REJA (MORENO)', 'Pergamino', 'carapachay', 'BECCAR', 'bell ville', 'Belgrano Chico', 'Sanmartin', 'MTE GRANDE', 'merlobsas', 'Villa Luzuriaga San Justo', 'Colegiales', 'San Javier', 'Tribunales | Congreso', 'REMEDIOS DE ESCALADA', 'GALVEZ', 'Manuel Gonnet - La Plata', 'LDOR. GRAL. San Martin', 'San Miguel', 'PARQUE PATRICIOS', 'Adolfo Sourdeaux', 'Guillermo enrique Hudson', 'parque san martin, merlo', 'ZONA OESTE PDO TRES DE FEBRERO', 'Jesús maria', 'San isidro', 'CABALLITO CAPITAL FEDERAL', 'Villa ballester', 'MACHAGAI', 'Barrio San José', 'VILLA GDOR GALVEZ', 'acassuso', 'saenz pena', 'Tres Cerritos', 'Capítal Federal', 'valentin alsina , lanus oeste', 'Ausonia', 'Santa Fé', 'san juan', 'vicente Lopez', 'San Martin de los Andes', 'grandbourg', 'Fiorito', 'Villa Maipu (San Martin)', 'R.Castillo', 'GRANADERO BAIGORRIA', 'Cohglan', 'Jose Ingenieros, Tres de febrero', 'Monte', 'c.a.b.a.', 'Pehuenches', 'Ciudad de Mendoza', 'ramosmejia', 'Olivos (Partido de Vicente Lopez)', 'Guillermo Enrique Hudson', 'Belgrano Barrancas', 'Gregorio de laferrere', 'carupa', 'VILLA MERTELLI', 'BELGRANO-NUÑEZ', 'Villa Sarmiento Haedo Ramos Mejia', 'VILLA TESEI', 'Esteban Echeverría', 'parana', 'Microcentro o Ramos Mejia', 'retiro  recoleta', 'Bs AS', 'CarlosCasares', 'Capital federal Buenos aires', 'Villa martelli', 'Monserrat. Congreso', 'Comodoro Rivadavia', 'Corodoba', 'Devoto', 'ma del plata', 'Ciudad Autonoma de Buenos Aire', 'Villa Giardino', 'BERNAL CAPITAL ITUZAINGO', 'Remedios de Escalad', 'Monterrico', 'Zona Oeste Bs As', 'TIGRE', 'martin coronado ,( L a V de 9 a 13 y de 16.30 a 19.30 hs )', 'Cañitas', 'cañuelas', 'G de Laferrere', 'bukevar', 'Córdoba Capital', 'City bell', 'ciudad de buenos aires', 'ciudad autonoma buenos aires', 'Guaymallen - Mendoza', 'Micro centro', 'belen de escobar', 'San Antonio de padua', 'Ciudad de Buenos AIres', 'garin', 'PQUE CHACABUCO', 'sto tome', 'Capital FEDERAL', 'DOCKSUDAVELLANEDABSAS', 'villa tesey -hurlingham', 'GrandBourg', 'jose clemente paz', 'pompeya', 'capitalfederal', 'villarosa', 'ARGENTINA', 'Villa santa rita', 'mendoza', 'florida vicente lopez', 'bellville', 'Bariloche', 's. a. de padua', 'Centro', 'guidospano', 'Facultad de Medicina', 'rafael castillo', 'Villa Soldati', 'Crucesita - Avellaneda', 'BÉCCAR - SAN ISIDRO', 'Viedma', '3 de Febrero', 'Caballio', 'SanNicolás', 'Obelisco  Puerto Madero', 'beraza', 'Las Cañitas', 'firmat', 'Rincon de Milberg', 'PARQUE DE LOS PATRICIOS', 'Gral. San Martín', 'SAN NICOLAS DE LOS ARROYOS - BUENOS AIRE', 'Villa dolores', 'COHGLAND', 'solano', 'paso  del rey', 'GRAL.PACHECO', 'Esteban Echeverria-Canning', 'CATRIEL', 'Luzuriaga Maipu', 'Lugano 1 y 2', 'Capita Federal', 'CAITAL FEDERAL', 'HAEDO - Buenos Aires', 'ONCE', 'San Bernardo del Tuyu', 'Villa Lynch - San Martin', 'BUENOIS AIRES', 'montserrat', 'San Carlos Centro', 'bs aires', 'Carapachay, Vte Lopez', 'PADUA', 'gerli-avellaneda', 'Matheu', 'Barrio Norte', 'General Galarza', 'Saenz Peña, Pdo. 3 de Feb', 'Velez Sarsfield', 'Hurlingham zona km 18', 'JOSE MARMOL', 'temperley este', 'Retiro', 'Jose C Paz', 'Ciudad Madero (Villa Celina), La Matanza', 'Parque Chas', 'Liniers', 'DEVOTO', 'lago puelo', 'primera junta caballito', 'Maquinista Sabio', 'Berutti', 'Capital Federan', 'buenos aires', 'BERAZATEGUI', 'Jesus maria', 'Centro - Monserrat', 'El Trébol', 'CaBA', 'El Carmen', 'la rioja', 'rio grande', 'river', 'La Reja', 'San Pedro', 'Florida, Panamericana', 'Ciudad Jardin Lomas del Palomar', 'Buenos Aires Moreno', 'caballito liniers-', 'LOS TOLDOS', 'Mendoza', 'parque san martin merlo', 'El palomar', 'virreyDelPino', 'MArtinCoronado', 'san martin de los andes', 'alejandro korn', 'Flores-Parque Chacabuco', 'hudson', 'Ciudad Jardin', 'BOULOGNE', 'EL TREBOL', 'GeneralRodríguez', 'General San Martín y Chacarita CABA', 'OpenDoor', 'OLIVOS ,VTE LOPEZ COVERTEX SHOP:HORARIO L a V 9.30-13 y 14-16 Sábado 10 a 13.', 'Beccar - San Isidro', 'VillaCelina', 'Quilmes oeste', 'Cap Federal', 'capítal', 'BALLESTER', 'Microcentro - Retiro', 'Pilar.', 'Bs.AS.', 'Buenos Aires, Villa Urquiza', 'cap', 'NuÑez / Belgrano / Microcentro', 'BuenosAires', 'Villa pueyrredon', 'Valentin Alsina Lanus oeste', 'boulogne- san isidro', 'FLORES', 'Luján', 'general fernandez oro', 'bs as', 'bernal', 'Bustinza', 'San Antonio', 'Ciudad Autonoma De Buenos Aires', 'Cutral Cò', 'BOEDO CABALLITO ALMAGRO FLORES PATERNAL PALERMO BELGRANO SAN TELMO BALBANERA SAN CRISTOBAL', 'tortuguitas', '(Buenos Aires) - La Matanza', 'Buenos AIres', 'villa raffo', 'RIO TERCERO', 'CARCARAÑA', 'pablo nogues', 'Guaymallén', 'Almagro y Palermo', 'Florida oeste', 'MERLO, PARQUE SAN MARTIN', 'bs. as.Gral. san martin', 'SAN ANDRES, PDO DE SAN MARTIN', 'Haedo', 'Victoria, Buenos Aires', 'San Miguel.', 'casa', 'Villa Saenz Peña', 'TAPIALES', 'COLONIA CAROYA', 'Uspallata', 'BALBANERA', 'cg', 'Noroeste', 'General Rodríguez', 'Palermo - Recoleta', 'Capital Federal', 'general pacheco', 'CABALLITO-Pque.Chacabuco', 'laplats', 'Huerta Grande', 'ElTalar', 'SANTA LUCIA', 'escobar', 'Cuidad de Buenos Aires', 'Monserrat-L de Zamora', 'OLAVARRIA', 'Hurlingham Lacroze', 'buenos Aires', 'RAMOS MEJIA', 'Loma Hermosa', 'La Plata, City Bell', 'Bs.as.', 'SAN FRANCISCO', 'Gregorio de Laferere', 'LATABLADA', 'Rada Tilly', 'barranqueras', 'Alto Palermo', 'MARTINEZ - ZONA NORTE', 'Benavidez', 'Microcentro - Almagro', 'Bragado', 'SANTA FE', 'BUENOS AIRES- VILLA LURO', 'Caballito / Tigre', 'Villa Insuperable', 'comodoro rivadavia', 'AUTONOMA DE BS AS', 'San Antonio Oeste', 'la paternal', 'garín', 'Nordelta, Tigre', 'NORDELTA', 'JuanaKoslay', 'castelar', 'Paso del Rey', 'Vicente Lopez-Florida Oeste', 'Zona Sur - Capital Federal', 'Barrio Flores', 'Pque Avellaneda / Mataderos', 'Luagno', 'BUENOS AIRES NORTE', 'del viso', 'Pablo Podestá', 'Capital Federal Balvanera', 'San Lorenzo', 'CABA ( Villa Devoto )', 'Hurligham', 'José. C.paz', 'Caballito - Zona Parque Centenario', 'SAN CRISTOBAL', 'Maquinista Savio', 'SanMiguel', 'CAP fed', 'Autonoma de Buenos Aires', 'Formosa', 'GBA', 'El Palomar-Morón', 'SAN JUSTO', 'villa adelina', 'Villa Parque Siquiman', 'LA PATERNAL', 'Mendoza Capital', 'TRISTAN SUAREZ', 'ciudad', 'Clorinda', 'BUenos Aires', 'Buenos Aired', 'Salta capital', 'Centro o Unicenter', 'José Ingenieros', 'Gregorio de Laferrer', 'GERLI.AVELLANEDA', 'Villaadelina', 'Garín', 'EN CHILE', 'Villa Gral. Mitre', 'DEL VISO', 'bARRIONORTE', 'coglhan', '9 de abril', 'Malvinas Argentinas', 'VILLA CRESPO (aprox. corrientes y j b justo)', 'obelisco', 'Microcebtro', 'La Matanza Tapiales', 'Capital Federal. Buenos Aires.', 'temp', 'Nieva Pompeya', 'dEVOTO', 'corrientes capital', 'santa maria', 'Troncos del talar', 'Rio Cuarto', 'pontevedra', 'Ciudad Autonoma', 'mdp', 'San Isidro', 'Belén- de Escobar', 'Vicente López / Carapachay', 'Vicente lopez', 'SAN JUSTO, VILLA LUZURIAGA', 'VILLA BOSCH', 'San Antonio De Padua', 'EL PALOMAR', 'SAN MARTINCASEROS', 'BarrioNorte', 'V.del Parque Palermo Hurlingham', 'Paso de los Libres', 'GeneralSanMartín', 'La Paz', 'coglan', 'Caballito Norte', 'CABA BELGRANO', 'Floridaoeste', 'Victoria San Fernando', 'La Matanza - Villa Madero', 'Villa', 'rodeo de la cruz', 'Evita', 'Lanús y Temperley', 'autónoma de buenos aires', 'La Lucila', 'Nueva Pompeya  Parque Patricios Consulte', 'lanusoeste', 'Corrientescapital', 'adolfo sourdeaux', 'bernal este', 'winifreda', 'C. del Uruguay', 'villa maderos', 'SARANDI', 'Local a la calle Zona Warnes', 'Saenz Peña', 'Jose león suarez', 'San Nicolas', 'I.casanova', 'Copetonas', 'Monserrat.', 'Zona Paternal', 'ONCE- BALVANERA', 'CHACARITA', 'Villa Ballester', 'ColonEntreRios', 'once o barracas', 'Villa Carlos Paz', 'GeneralPacheco', 'VILLA ALSINA', 'RETIRO - MICROCENTRO', 'Daireaux', 'Ciudad autónoma deBuenos Aires', 'CAP. FED.', 'SAN TELMO - MONSERRAT', 'Monte Castro', 'Barrio Centro, Ciudad de Córdoba.', 'Ezpeleta Oeste, Quilmes', 'Loma Hermosa de Tres de Febrero Caseros', 'San Vicente', 'villaballestersanmartin', '2000', 'trocos del talar', 'San Cristobal / Microcentro', 'Quimes', 'Colegiales - Belgrano', 'SUNCHALES', 'san nicolas  microcentro', 'RAFAEL  CALZADA', 'maquinista f savio', 'moreno', 'gregorio de laferrere', 'cap.fed.', 'PRQ AVELLANEDA', 'san martin  de los andes', 'zarate', 'Boedo Parque Patricios', 'remedios de escalada', 'Winifreda', 'avellanedagerli', 'Belgrano-Nuñez', 'Partido de Lanus', 'buenos aires villa devoto', 'Almafuerte', 'Zonasur', 'villa de mayo', 'PALERMO-CABA-SAN JUSTO-SAN MARTIN', 'Bernal centro', 'Almagro. Enviamos a todo el país por OCA y mensajería.', 'R. Mejia', 'BS. AS', 'Martinez San Martin', 'Ciudad Autonoma de Buenos Aires', 'Villa Crespo  Palermo', 'Pontevedra', 'florida oeste', 'NuevaPompeya', 'San Cayetano', 'Gonzalez Catán', 'Remedios de escalada( lanus)', 'Alderetes', 'Palermo Holywood', 'ARROYO SECO', 'alvarez', 'ONCE      RETIRO      CONSTITUCION', 'Río Cuarto', 'lanúsoeste', 'Benito Juárez', 'BUENOS AIRES CABA', 'retiro  palermo  villa crespo', 'Bernal / Quilmes', 'benos aires', 'Avellaneda Y BARRACAS', 'don torcuato  villa de mayo', 'CIUDADELA NORTE', 'ezpeleta', 'MORENO CENTRO', 'Villa Santa Rita Paternal.', 'Almagro-Caballito-Villa Crespo', 'capital federal - parque chacabuco', 'Villa Santa Rita', 'Tandil', 'Santos Lugares', 'Santa Rosa Calamuchita', 'ciudad autonomade buenos aires', 'INGENIERO BUDGE', 'Caballito, Capital Federal', 'San Nicolás (Microcentro)', 'Olivos', 'rincon', 'SAAVEDRA', 'Puerto Iguazu', 'villa celina', 'BELGRANO', 'General Pacheco', 'ITUZAINGO', 'Villa real', 'tapiales', 'Floresta y Lanús Oeste', 'Gral Pacheco', 'san miguel arcangel', 'La Lucila, Pcia. de Bs. As.', 'villa maipu', 'San Andres de Giles', 'Cap. Federal', 'Florida - V Lopez', 'parque chas', 'Rawson', 'AVELLANEDA-WILDE', 'caba', 'Villa del Parque', 'CABA-PATERNAL', 'villa sarmiento', 'Navarro', 'MARIA TERESA', 'barracas, cap fed.', 'Río Turbio', 'OLIVOS  / Belgrano', 'PLAZA ITALIA- PALERMO', 'Ciudad autonoma de Buenos Aires', 'Autonoma de BS.AS.', 'Olivos Vicente López', 'capital federal', 'Quilmes Centro', 'Palomar-Ciudad Jardin', 'VILLA ELISA', 'San fernand', 'Tres', 'Moron', 'Marquez y panamericana', 'Ramos Mejìa', 'Juana Koslay', 'Beccar, Partido De San Isidro.', 'San   Cristóbal', 'pque patricios', 'caballito norte', 'San Antonio de Areco y', 'TORTUGUITAS', 'ituzaingo norte', 'Lanus Este Gerli', 'capfed', 'PARQUE RIVADAVIA', 'VILLA MARIA', 'Balvanera', 'banfield', 'CASTELAR', 'Loma hermosa', 'maria juana', 'URQUIZA', 'Arturo Segui', 'Santo Tome', 'BelgranoC', 'Tresdefebrero', 'Rincon de milberg', 'san jorge', 'altos de chipion', 'San Iisidro', 'Santa Fe', 'LAS TALITAS', 'Once  facultad de medicina', 'ciudadela norte', 'CarapachayMunro', 'VILLA SANTA RITA-FLORESTA', 'Quilmes o Microcentro', 'Los Polvorines, Malvinas Argentinas', 'Gralrodriguez', 'Monserrat', 'Balbanera', 'Lujan', 'lomaz de zamora', 'SanAndres', 'psadas', 'todo el pais', 'v devoto', 'Villa de Mayo - Ptdo de Malvinas Argentinas', 'Bs As', 'Parque Centenario', 'TORCUATO', 'belendeescobar', 'CAPITAL FEDERAL Y ADROGUE', 'MonteCastro', 'Palermo (Hollywood)', 'Rafaela', 'IsidroCasanova', 'Lomas de zamora', 'Hurlingham, Villa Tesei', 'gregorio de la ferreres', 'Río Gallegos', 'MONTECASTRO', 'villa ballester,pdo. san martin', 'GRAL. SAN MARTIN', 'Plaza Irlanda', 'Tucumán', 'Concepcion del Uruguay', 'FLORENCIO VARELA', 'VILLA DOMINICO', 'Urquiza', 'lomas de zamora', 'Ciudad Jardín de El Palomar', 'P', 'Ramos Haedo', '1065', 'Villa Adelina San Isidro', 'sm de tucuman', 'VILLA PUEYRREDON', 'monte castro (limite devoto)', 'NEUQUEN', 'VERSALLES', 'villa  devoto', 'villasantarita', 'puerto san julian', 'palomar', 'Jujuy', 'ciudad buenos aires', 'Primera Junta', 'Palermo, CABA', 'Aldo Bonzi', 'MONTE CRISTO', 'MONTEVIDEO', 'h', 'ciudadautonomadebuenosaires', 'Ituzaingó cp.1714', 'villa Urquiza', 'LOMA HERMOSA', 'Caba (La Paternal o Zona Tribunales)', 'Villa creso', 'Colon', 'Recoleta, unicamente con cita previa, llamar de 10 hs a 18hs.', 'MonteGrande', 'provincia de buenos aires', 'san NAtonio de padua', 'rafael calzada', 'Jose leon suarez', 'SAN MARTÍN', 'Los Polvorines', 'Florida Vicente López', 'v.ballester', 'San Justo LA MATANZA', 'Balnearia', 'glew', 'de BS AS', 'QUILMES - SAN FERNANDO', 'Don Torcuato', 'Josecpaz', 'San Justo - Ramos Mejia', 'VillaOrtuzar', 'Ianus', 'polborines', 'ing maschwuitz', 'Conepcion del Uruguay', 'capital feceral', 'Oeste', 'VILLA RAMALLO', 'Constitución', 'Cap. Fed. (Microcentro)', 'Ramallo', 'Bernal Este', 'AUTOMOMA DE BUENOS AIRES', 'bella Vista', 'Villa María', 'Presidencia Roque Saenz Peña', 'Belen de Escobar', 'Monteros', 'v ballester', 'VillaLurozonaoesteyzonasur', 'Ramos Majia', 'Munro Vicente Lopez', 'Villa La Florida', 'Capitalfederal', 'Ramosmejia', 'La lucila olivos', '(v.crespo)', 'San Nicolas De Los Arroyos', 'buenos aires ramos mejia', '1686', 'Morón.', 'Olavarria', 'RANELAGH', 'olavarria', 'FRONTERA', 'William Morris', 'San fernando', 'Florencio Varela', 'capital fedral', 'Saavedra o Centro', 'Belgrano - Nuñez', 'laferrer', 'Tigre - Nordelta', 'Cordoba capital', 'Guernica', 'Jose Leon Suarez', 'Los polvorines', 'gregorio laferrere', 'lanus monte chingolo', 'RECOLETA  PALERMO', 'caseros tres de febrero', 'Gonnet', 'flores  caballito', 'ROSARIO', 'MATANZA', 'Flores - Micro centro', 'virrey del pino', 'Bsas', 'Luján de Cuyo', 'ESCOBAR - MASCHWITZ', '1640', 'Floresta o Pilar', 'Berazategui', 'CARLOS CASARES', 'del Visa', 'VILLA CELINA', 'Parque Chacabuco - Flores', 'General san Martin', 'Berazategui Oeste', 'Varela y Eva Peron', 'C. A. B. A.', 'san jose', 'Jesús María', 'Banfield', 'VillaGesell', 'QUILMES.', 'Floresta,', 'Las Grutas', 'TODO EL PAIS', 'Llavallol', '9 de Abril. Esteban Echeverria', 'gonzales catan', 'Lomas de Mirador', 'CAPITAL FED', 'villa Carlos paz', 'ciudada autonoma de buenos aires', 'Villa Madero', 'C.a.b.a.', 'ituzaingo sur', 'lamarque', 'laguna larga', 'playa union', 'San Isidro, Beccar', 'valentinalsina', 'CABA', 'capítal federal', 'Lucila', 'Córdoba capital', 'VillaBallester', 'VillaLuro', 'Ciudad Evita', 'san lorenzo', 'VillaAdelina', 'Villa Maipu - San Martin', 'SantaTeresita', 'Almagro o Caballito', 'Pcia roque ssenz peña', 'Santa Fe Capital', 'Capital Federal, Palermo', 'BERNAL, PARTIDO DE QUILMES', 'General Savio', 'NUNEZ', 'Eldorado', 'marmol', 'BECCAR - SAN ISIDRO', 'CAP. FED', 'quilmes oeste', 'caballitonorte', 'AZUL', 'longchamps', 'Del Viso   Munro', 'ciudad autonoma', 'Lanus  ( Valentin Alsina )', 'palermo-pza.Italia', 'Martinez, San Isidro', 'Malvinas argentina', 'VILLA URQUIZA', 'Hernando', 'capita federa', 'punta alta', 'Canals', 'Maipú', 'LANUS ESTE', 'Bahia BLanca', 'RamosMejia', 'Villa del Rosario', 'San justo', 'bsasvillamadero', 'Vvilla crespo', 'LaPlata.-', 'Villa urquiza', 'valentin alsina, lanus.', 'Gonzalez Catan', 'Zapala', 'Vicente Lopez', 'Villa Balllester', 'provincia', 'JoséC.Paz', 'Pilar', 'RIO CUARTO', 'Charata', 'OLIVOS - Vicente Lopez', 'Carmen de Areco', 'caballito  wilde', 'VTE. LOPEZ', 'Fuentes', 'carmen de patagones', 'José Mármol', 'Maipu', 'paternal', 'Balvanera (Ftd. de Medicina)', 'BARRACAS', 'Gualeguay', 'buenos aires capital federal', 'villa udaondo', 'Burzaco ò Monserrat', 'San Bernardo', 'remedios de escalada, lanus', 'lanus o', 'Vicente Lopez, Buenos Aires', 'GENERAL PICO', 'las heras', 'V. Urquiza', 'Remedios de Escalada.', 'vicente', 'SanFrancisco', 'El Calafate', 'Valentin Alsina - Lanus', 'Gral san martin', 'Buenos Aires. San justo.(1754)', 'Zeballos', 'Belen', 'Santa Teresita', 'GALERIA DE LA FLOR -  MICROCENTRO', 'buenosaired', 'TRELEW', 'santos lugares', 'ADROGUE', 'ZONA FLORES  (PLAZA VIRREYES)', 'mar  del plata', 'Recoleta, San Nicolas', 'Lanús Oeste Pcia. de Bs.As.', 'capital federa', 'florida', 'junin', 'Cap fed', 'LOmas de zamora', 'Martín coronado', 'CiudadAutónomadeBuenosAires', 'GONNET LA PLATA', 'boulogne sur mer', 'Acebal', 'Capitán Sarmiento', 'José C. Paz', 'capital fedeal', 'Ituzaingo (Entregas Barrio Once)', 'buenos airea', 'Olavarría', 'LOMAS DE ZAMORA', 'B S Jose Adrgue', 'Capital Fedral (Flores)', 'Carcaraná', 'El Palomar', 'Adolfo Sourdeax', 'montecastro', 'Lanus O', 'local a la calle microcentro capital federal', 'L.de Zamora', 'José León Suarez', 'MARCOS PAZ', 'ESQUEL', 'guernica', 'Libertador San Martin', 'Chilecito', 'Juan Bautista Alberdi', 'Boedo', 'San Nicolas (Microcentro)', 'balbanera', 'Pontevedra- Merlo', 'Cerca Av. Belgrano y Chacabuco', 'Villa Adelina-San Isidro', 'Villa Rosa, Pilar', 'VILLA BALLESTER', 'Ciudad Autónoma de Buenos Aires', 'LA BOCA, BARRACAS', 'EL TALAR DE PACHECO', 'San Martín de los Andes', 'Saavedra (Bs As)', 'San Isidro- Villa Adelina', 'Aguas Verdes', 'horario de 10 a 13 y 14 a 19hs', 'bs as cap fed', 'Malagueño', 'JOSE C. PAZ', 'Vicente Lopez, Florida', 'Río Tercero', 'Mar de Ajo', 'Rivadavia', 'Galería Jardín', 'el talar', 'florencio varela', 'VIRREYES', 'Ituzaingo', 'GERNICA', 'villa pueyrredòn', 'Tapalqué', 'Flores - CABA', 'Caballito', 'Junin', 'Argentina', 'Centro Microcentro', 'Bs. As. (zona Devoto/Floresta)', 'OBELISCO', 'MORON CENTRO-FLORESTA CABA', 'Maquinista Savio- Escobar', 'General San Martin', 'Godoy Cruz', 'Rincon de Milberg, TIGRE', 'Vélez Sarsfield', 'San Justo (Entregas Barrio Once)', 'Tortuguitas / Caballito', 'villaballester', 'RIGLOS 1101', 'llavallol', 'Jose Marmol', 'Bellavista', 'Palermo - Colegiales', 'Envio Rapido', 'joseleonsuarez', 'jose c. paz', 'Cruce Florencio Varela', 'gral. madariaga', 'GERLI, LANUS OESTE', 'villa de mayo (malvinas argentinas)', 'La Puerta', 'boulogne', 'la lucila', 'cASTELAR', 'CABALLITO', 'Nowhere', 'rivadabia', 'f.varela', 'Vera', 'CAPITAL FEDERAL, VILLA DEVOTO', 'Tres Arroyos', 'Tambien hacemos envíos al Interior', 'Puerto Madero Este', 'Coghlan - Belgrano R', 'LanusOeste', 'Boulogne, San Isidro', 'lanus, valentin alsina', 'Villa Mitre', 'la lucila (vicente Lopez)', 'Microcentro (CABA)', 'lospolvorines', 'lomas de zamora banfield brown', 'ramos  mejia', 'martinez', 'villa loma hermosa', 'Villa Pueyrredón', 'Villa Allende', 'AVELLANEDA SARANDI', 'Ricardo Rojas (Lopez Camelo)', 'salta capital', '9 de Julio', 'Lanús  Oeste', 'V.Lugano', 'La Caldera', 'Palermo, cerca del Shopping', 'Wilde,Avellaneda', 'Pto Madero', 'ciudad evita', 'Martinez San Isidro', 'moorn', 'lanus', 'Zárate', 'rio cuarto', 'Moreno La reja', 'Jose leon suarez- San Martin', '3 de febrero', 'AUTONOMA', 'Mar del Tuyu', 'Cap. Fed, Bella Vista, San Miguel, Hurlingham, Casero', 'PALERMOCABALLITO', 'Arroyo Seco', 'Villa Luzuriaga', 'Monte Grande, Ezeiza, Almirante Brown.', 'Partido de Avellaneda', 'Buenos Aires, Partido Tres de Febrero', 'fransisco alvarez', 'capital federal (villa urquiza)', 'leandro n alem', 'MalvinasArgentinas', 'BelgranoBarrancas', 'Ciudad de buenos Aires', 'CONCEPCION', 'Marquesado', 'V.CARLOS PAZ', 'CORDOBA', 'BELGRANO - COLEGIALES', 'San Miguel de Tucumán', 'savedra', 'casilda', 'Almagro Boedo', 'balcarce', 'Brandsen', 'boedo', 'Capital federal', 'Belgrano Colegiales', 'san fernando', 'Florida - Vte Lopez', 'tre de febrero', 'Buenos Aires - Argentina', '3 DE FEBRERO', 'Bernardo de irigoyen', 'Escobar', 'Tartagal', 'Villa Real', 'barrio norte', 'caseros', 'veles sarfield', 'gerli', 'ensnada', 'MDP', 'José Clemente Paz', 'villabosch', 'Alto Palermo  La Plata', 'ADOGUE', 'Jose leon Suarez', 'moron o caballito', 'TODA CAPITAL FEDERAL', 'Salto', 'Bs. as', 'Villa Celina', 'MENDOZAQ', 'zonasurquilmes-bernal-berazategui-ranelagh', 'Microcentro Porteño', 'Olivos, cerca de Unicenter', 'Ciudad Tesei', 'Munro, Vicente López', 'Castilla', 'BsAs', 'GREGORIO DE LAFERRERE', 'Olivos (Jose Ingenieros y Fray Justo Sarmiento)', 'Abasto', 'parque patricios ,san cristobal', 'Parque Avellaneda/Microcentro', 'Venta únicamente por delivery', 'Cruz del Eje', 'maipu', 'Agronomia Paternal', 'Gregorio de Laferrere', 'Palermo Viejo', 'Vistalba, Lujan de cuyo', 'Còrdoba', 'PARANA', 'la plaza de once', 'Verónica', 'gasanova', 'R. DE ESCALADA', 'san martin Villa Lynch', 'SARANDI AVELLANEDA', 'QuilmesEste', 'villa puyrredon', 'Pque Patricios', 'Plottier', 'Caucete', 'lujan', 'Microcentro Obelisco', 'Tunuyan', 'paso  de los  libres', 'Gral.Pacheco', 'c a b a', 'San José', 'Riacho He He', 'SALTA CAPITAL', 'CENTRO', 'autonomadebuenosaires', 'Tres De Febrero', 'Villa Ballester- Gral. San Martin', 'villa gobernador galvez', 'belgranor', 'FRANCISCO ALVAREZ', 'Pueblo Esther', 'm coronado', 'capital federal, boedo', 'C A B A', 'Cdad Autonoma de Bs As', 'billinghurst -general san martin', 'Tortuguitas', 'Eugenio Bustos', 'Temperley, Partido de Lomas de Zamora', 'ZONA HOSPITAL ITALIANO', 'MardelPlata', 'CARAPACHAY', 'LOS POLVORINES', 'ramos majia', 'cordoba capital', 'Barrio San Nicolas', 'toay', 'Caballito cerca de Ferro', 'Acassuso', 'CÓRDOBA CAPITAL', 'EZEIZA CANNING', 'CordobaCapital', 'general arenales', 'Merlo , San Antonio de Padua', 'Villa lynch', 'Villa del Parqe', 'TRIBUNALES / SAN NICOLAS', 'Carapachay', 'caballitro', 'San Nicolás', 'avellaneda, gerli', 'san vicente', 'villa cañas', 'varios puntos de entrega', 'Abasto Almagro', 'Facultad De Medicina', 'Banfield Oeste', 'La Cocha', 'sanmartin', 'MA', 'Rincon de Milberg Tigre', 'SanAntoniodepadua', 'Laferrere. La matanza', 'Villa Adelina / San Isidro', 'Barrio de Lugano', 'concordia', 'prov de Bs As', 'LOMA HERMOSA TRES DE FEBRERO', 'Dorrego', 'Troncos del Talar - Tigre', 'TrenqueLauquen', 'Palermo Chico', 'Ciudada Autonoma de Buenos Aires', 'SanNicolas', 'PalermoQuilmes Centro', 'VILLA LUZURIAGA', 'BOEDO', 'City Bell', 'Río Segundo', 'RAMOSMEJIA', 'San Carlos Sur', 'Lanùs', 'La Recoleta', 'entre', 'GeneralSanMartin', 'LOMAS  DEL MIRADOR', 'patricios parque', 'Mar Del Plata', 'MENDOZA', 'ascencion', 'i casanova', 'CASEROS', 'villa sarmiento haedo', 'San miguel de tucuman', 'pppp', 'pque centenario', 'rafaela', 'neuquen', 'City Bell - La Plata', '-', 'Barrio Flores Norte', '2 de Abril', 'LAPLATA', 'Tigre.', 'Villa luzuriaga', 'Ciudad Capital', 'DelViso', 'argentina', 'villa rosa', 'CÓROBA', 'patricios', 'Lanús Oeste', 'villa tesei', 'Lago Puelo', 'tres arroyos', 'Olivos, Vicente Lopez, Zona Norte', 'Garin', 'Chascomús', 'capital  federal', 'BOULOGNE - SAN ISIDRO', 'ALMAGRO', 'agronomia, parque chas', 'V.BALLESTER', 'Villa crespo', 'Las Flores', 'Ferrari', 'Alte Brown', 'Villa Raffo', 'capital faderal', 'guillon', 'QUILMES', 'VillaMadero', 'I. Casanova', 'Rafáel Castillo', 'Villa Pueyrredon', 'Apostoles', 'buenos aires - Villa Urquiza', 'Ptdo de la matanza', 'Olivos Partido de Vicente Lopez', 'Fcio Varela', 'Hurlingham y Barrio Parque Sakura', 'Palermo', 'TOLOSA - LA PLATA', 'Resto Buenos Aires', 'MONTSERRAT', 'MAR DE AJO', 'Plaza Flores', 'bueno aires', 'San Miguel de Tucuman', 'san fco solano', 'Gba Oeste', 'LaBoca', 'Retiro - Microcentro', 'c.a.b.a', 'liniers', 'barrio de lugano', 'devoto', 'Sierra de la Ventana', 'Dolores', 'Gral San Martín', 'Cdad. Autónoma de Bs. As.', 'El Palomar, moron', 'Villa General Belgrano', 'Vicente Lopez (Av. Libertador y Gral Paz)', 'GONZALEZ CATAN', 'loma hermosa 3 de febrero', 'Gral Rodriguez', 'R. De Escalada', 'La Matanza', 'Turdera', 'La Plata, Tolosa', 'OLIVEROS', 'Matadeos', 'La Bada', 'sdfsfs', 'Ciudad Autonoma de Bs. As', 'San Antonio de Padua, Merlo', 'villa  ballester', 'General Villegas', 'merlo junin', 'San Cristóbal', 'liberatorSanMartin', 'villatesei', 'colegiales', 'córdoba', 'Escalante', 'Alejandro korn', 'p patricios', 'Rafael Castillo', 'Las Heras', 'La Leonesa', 'Villa Lynch San Martín', 'AUTONOMA BUENOS AIRES', 'bosques', 'Obelisco', 'vivente lopez', 'Cap.Fed. Villa Urquiza', 'VERSALLES-VILLA REAL', 'SAN TELMO', 'BUENOSAIRES', 'Vicente Lopez Florida', 'Villa lynch San Martin', 'BELEN DE ESCOBAR', 'villa maria', 'Vte. López', 'San cristobal/boedo', 'Henderson', 'LOomas de zamora', 'ramos mejias', 'Villa crespo/Palermo', 'VIlla Pueyrredon', 'VICTORICA', 'Capital Federal - BELGRANO', 'VL', 'BUENOS AIRES SUR', 'Coghlan, Buenos Aires', 'Mar Del plata', 'Chacarita', 'liniers cap fed bs as', 'MICROCENTRO, SAN NICOLAS', 'Troncos del Talar  Tigre', 'Carlos Tejedor', 'burnosaires', 'alvear', 'JOSE C PAZ', 'General Alvear', 'buenosaires', 'Capital Federal .San Cristobal', 'Autonoma de Bs As', 'El Talar Part Tigre', 'carapachay (partido vicente lopez)', 'Parque Leloir, Ituzaingó', 'q', 'AlmiranteBrown', 'jose c paz', 'I.CASANOVA', 'córdoba capital', 'Boedo y Microcentro', 'sarandiavellaneda', 'Monte Grande / Micro Centro', 'Ciudad autónoma de Bs. As.', 'Palermo-Centro', 'Dique Lujan- Tigre', 'Versalles', 'Morón y Palermo', 'V Parque', 'san termo', 'villa bosch', 'parquechas', 'Palermo  Villa Crespo Zona Oulets', 'podesta', 'campana', 'CAPITALFEDERAL', 'Villa Maipú', 'luis guillon', 'sanfernando', 'C. A. B. A', 'Florida \"M\"', 'paso del rey', 'Ciudad Autónoma de Buenos', 'villa crespo', 'Concordia', 'villa del Parque', 'Gerli (Avellaneda)', 'Capital Federal  CONGRESO  BALVANERA', 'Villa Crespo - Caballito', 'villaluganocaba.', 'rosario', 'Zona Noroeste', 'Palermo Barrio Norte', 'Sunchales', 'CaballitoParque Chacabuco', 'Federal', 'BALVANERA', 'Buenos Aires (Capital)', 'pcia de buenos aires', 'villa libertad san martin', 'Cap Fed', 'Barrancas Belgrano', 'paso del rey( moreno)', 'posadas', 'CIUDAD AUTONOMA DE BUENOS AIRES', 'Ciudad evita', 'Fray Luis Beltran', 'villa tesey', 'GUERNICA', 'LomaHermosa', 'CABALLITO PZA IRLANDA CLAYPOLE LOMAS', 'VICTORIA', 'palermo,lanus ,capital', 'Padua', 'SAnta Fe', 'Palermo Soho', 'Ensenada', 'san andres. pdo de san martin', 'La plata', 'profesor salvador mazza', 'buenos aures', 'villa lynch', 'ADROGUÉ', 'VilladelParque', 'Berisso', 'BERNAL OESTE', 'VillaGral.Mitre', 'mardelplata', 'sanmiguel', 'gonzalezcatan', 'goghlan', 'ramos', 'CABALLITO-PRIMERA JUNTA', 'SanMartin', 'Chivilcoy', 'CIUDAD JARDIN, EL PALOMAR', 'Belgrano', 'Catalinas Sur - La Boca', 'Saenz Peña - Devoto', 'martincoronado', 'autonoma de Bs. As.', 'VICTORIA -San Fernando', 'General pacheco', 'san justo', 'V.Lopez', 'RamosMejía', 'Gerli partido de Avellaneda', 'P. Madero', 'SAN MIGUEL TUCUMAN', 'C.A.B.A', 'Tornquist', 'Barrio de San Nicolas', 'Pilar - La Lonja - Del Viso - Barrio Cerrado', 'Banfield Lomas de Zamora', 'SantaFeCapital', 'sanjusto', 'GONZALEZ  CATAN', 'munro vte lopez', 'la florida, Quilmes', 'ParqueChacabuco', 'Cpiatal', 'Villa Ballester, San Martín', 'BOEDO-PARQUE PATRICIOS-', 'Gualeguaychú', 'Caleta Olivia', 'BARRIO RICARDO ROJAS', 'AUTONOMA BS.AS.', 'barrio chacabuco', 'Juárez Celman', 'Garín  (Escobar)', 'San Martin', 'Pte Derqui.- Pilar', 'Autónoma de Buenos Aires.', 'AlteBrown', 'Congreso', 'Longchmps', 'Norte', 'CITY BELL', 'CapitalFederal.BarriodeBoedo.', 'libertad merlo', 'Ezpeleta O.', 'Ranelagh Peladorody', 'CAPITAL FEDERAL', 'Bajo Belgrano', 'villa constitucion', 'Banfield.', 'General Deheza', 'Nuñez', 'Villa Luro  Floresta', 'Caballito / Villa Crespo', 'cap-fed', 'limite Caballito Flores', 'V.ORTUZAR', 'Belgano', 'Caballito Zona Cancha de Ferro', 'avellaneda gerli', 'Caballito - Parque Rivadavia', 'soldati', 'VillaMaría', 'Madero', 'Chacarita de Lu aVie 8:30 a 17', 'Cipolletti', 'El Jaguel', 'Felicia', 'C.A.B.A.', 'Villa tesei', 'sanjose', 'cap.', 'vte lopez', 'pablo podesta', 'La matanza - Lomas del mirador', '1', 'Martínez, San Isidro', 'Longchamps', 'FLORES CABA', 'Ciudad de Córdoba', 'microceentro', 'VillaPueyrredón', 'Belgrano, Saavedra, Escobar', 'Estación D Congreso, Saavedra - Núñez', 'Florida, Vte. López', 'VISTALBA', 'gral.pico', 'BS.AS', 'Garupá', 'Cava', 'SAENZ PEÑA', 'SAN FERNANO', 'MICROCENTRO MORON ITUZAINGO', 'Ramos Mejias', 'SAN ISIDRO MARTINEZ', 'rufino', 'Lugano', 'moron', 'Salta Capital', 'sarandi', 'villa tesei, hurlingham', 'conesa', 'V. Ballester', 'Temperley, san jose', 'CENTRO-CONGRESO', 'Lanus Este', 'Mendiolaza', 'Capital Federal , Flores', 'Villa  del Parque', 'cap fed', 'San Genaro', 'Santa Rita', 'Saenz peña', 'Pablo Podesta']\n"
     ]
    }
   ],
   "source": [
    "# Initialize sets to store unique values\n",
    "unique_countries = set()\n",
    "unique_states = set()\n",
    "unique_cities = set()\n",
    "\n",
    "# Iterate through each record and extract the values\n",
    "for record in X_train:\n",
    "    if 'seller_address' in record:\n",
    "        address = record['seller_address']\n",
    "        if 'country' in address and 'name' in address['country']:\n",
    "            unique_countries.add(address['country']['name'])\n",
    "        if 'state' in address and 'name' in address['state']:\n",
    "            unique_states.add(address['state']['name'])\n",
    "        if 'city' in address and 'name' in address['city']:\n",
    "            unique_cities.add(address['city']['name'])\n",
    "\n",
    "# Convert sets to lists for easier handling and print the results\n",
    "unique_countries = list(unique_countries)\n",
    "unique_states = list(unique_states)\n",
    "unique_cities = list(unique_cities)\n",
    "\n",
    "print(\"Unique countries:\", unique_countries)\n",
    "print(\"Unique states:\", unique_states)\n",
    "print(\"Unique cities:\", unique_cities)"
   ]
  },
  {
   "cell_type": "markdown",
   "metadata": {},
   "source": [
    "cuantos estados hay en el dataset?"
   ]
  },
  {
   "cell_type": "code",
   "execution_count": 34,
   "metadata": {
    "tags": [
     "hide-input"
    ]
   },
   "outputs": [
    {
     "data": {
      "text/plain": [
       "25"
      ]
     },
     "execution_count": 34,
     "metadata": {},
     "output_type": "execute_result"
    }
   ],
   "source": [
    "len(unique_states)"
   ]
  },
  {
   "cell_type": "markdown",
   "metadata": {},
   "source": [
    "cuantas ciudades hay en el dataset?"
   ]
  },
  {
   "cell_type": "code",
   "execution_count": 35,
   "metadata": {
    "tags": [
     "hide-input"
    ]
   },
   "outputs": [
    {
     "data": {
      "text/plain": [
       "3480"
      ]
     },
     "execution_count": 35,
     "metadata": {},
     "output_type": "execute_result"
    }
   ],
   "source": [
    "len(unique_cities)"
   ]
  },
  {
   "cell_type": "markdown",
   "metadata": {},
   "source": [
    "que porcentaje de articulos tienen esta informacion?"
   ]
  },
  {
   "cell_type": "code",
   "execution_count": 36,
   "metadata": {
    "tags": [
     "hide-input"
    ]
   },
   "outputs": [
    {
     "name": "stdout",
     "output_type": "stream",
     "text": [
      "Total records: 90000\n",
      "Records with 'seller_address': 90000\n",
      "Percentage with 'seller_address': 100.00%\n"
     ]
    }
   ],
   "source": [
    "# Function to calculate amount and percentage of dictionaries with 'seller_address' key\n",
    "def calculate_seller_address_presence(data):\n",
    "    total_records = len(data)\n",
    "    count_with_seller_address = sum('seller_address' in record for record in data)\n",
    "    \n",
    "    percentage_with_seller_address = (count_with_seller_address / total_records) * 100\n",
    "    \n",
    "    return count_with_seller_address, percentage_with_seller_address\n",
    "\n",
    "# Calculate and print the results\n",
    "count, percentage = calculate_seller_address_presence(X_train)\n",
    "print(f\"Total records: {len(X_train)}\")\n",
    "print(f\"Records with 'seller_address': {count}\")\n",
    "print(f\"Percentage with 'seller_address': {percentage:.2f}%\")"
   ]
  },
  {
   "cell_type": "markdown",
   "metadata": {},
   "source": [
    "por ultimo, se extraen estos valores. Para postprocesamiento y un potencial one-hot-encoding. Especificamente, solo se toma la data de state, dado que en 'country' solo tenemos a Argentina y en 'city' hay muchas posibles ciudades, lo que hace al dataframe muy grande despues del one hot encoding."
   ]
  },
  {
   "cell_type": "code",
   "execution_count": 37,
   "metadata": {},
   "outputs": [],
   "source": [
    "# Function to flatten seller_address\n",
    "def flatten_seller_address(record):\n",
    "    if 'seller_address' in record:\n",
    "\n",
    "        address = record['seller_address']\n",
    "        if 'state' in address and 'name' in address['state']:\n",
    "            record['seller_address_state'] = address['state']['name']\n",
    "\n",
    "        # Remove the original seller_address key to flatten the structure\n",
    "        del record['seller_address']\n",
    "\n",
    "# Apply the flattening function to each record\n",
    "flattened_data = [flatten_seller_address(record) for record in X_train]\n",
    "flattened_data = [flatten_seller_address(record) for record in X_test]"
   ]
  },
  {
   "cell_type": "markdown",
   "metadata": {},
   "source": [
    "### features de campos adicionales"
   ]
  },
  {
   "cell_type": "markdown",
   "metadata": {},
   "source": [
    "aqui se extrae informacion de variables que no estan anidadas pero que contienen listas, y se cree que pueden llegar a set de utilidad"
   ]
  },
  {
   "cell_type": "markdown",
   "metadata": {},
   "source": [
    "se crea una variable con el valor extraido de `sub_status`, aunque no estamos seguros de su interprertación, tiene los valores 'deleted', 'expired' o 'suspended'. Los cuales (dependiendo de qué signifiquen) pueden ser indicio de que un artículo no es nuevo."
   ]
  },
  {
   "cell_type": "code",
   "execution_count": 38,
   "metadata": {},
   "outputs": [],
   "source": [
    "# Iterate through the list of dictionaries\n",
    "for item in X_train:\n",
    "    if item.get('sub_status'):\n",
    "        # Extract the sub_status content and add it as a new field\n",
    "        item['extracted_sub_status'] = item['sub_status'][0]\n",
    "        \n",
    "        del item['sub_status']\n",
    "    else:\n",
    "        item['extracted_sub_status'] = 'non_specified'\n",
    "        item.pop('sub_status',None)\n",
    "\n",
    "# Iterate through the list of dictionaries\n",
    "for item in X_test:\n",
    "    if item.get('sub_status'):\n",
    "        # Extract the sub_status content and add it as a new field\n",
    "        item['extracted_sub_status'] = item['sub_status'][0]\n",
    "        \n",
    "        del item['sub_status']\n",
    "    else:\n",
    "        item['extracted_sub_status'] = 'non_specified'\n",
    "        item.pop('sub_status',None)"
   ]
  },
  {
   "cell_type": "markdown",
   "metadata": {},
   "source": [
    "si el artículo tiene `official_store_id` se tiene la hipótesis que la probabilidad que sea usado es mas baja"
   ]
  },
  {
   "cell_type": "code",
   "execution_count": 39,
   "metadata": {},
   "outputs": [],
   "source": [
    "for item in X_train:\n",
    "    # Crear la nueva característica 'has_official_store_id'\n",
    "    item['has_official_store_id'] = item['official_store_id'] is not None\n",
    "    \n",
    "    del item['official_store_id']\n",
    "\n",
    "for item in X_test:\n",
    "    # Crear la nueva característica 'has_official_store_id'\n",
    "    item['has_official_store_id'] = item['official_store_id'] is not None\n",
    "    \n",
    "    del item['official_store_id']"
   ]
  },
  {
   "cell_type": "markdown",
   "metadata": {},
   "source": [
    "### eliminando campos que no aportan información al modelo"
   ]
  },
  {
   "cell_type": "markdown",
   "metadata": {},
   "source": [
    "teniendo en cuenta que el fenomeno a modelar es el estado de un artículo 'Nuevo' o 'Usado', se procede a eliminar información que no aporta a la generalización de los artículos. Datos como el `ID de la descripción` o alguna `URL` asociada al artículo.\n",
    "\n",
    "CAMPOS ELIMINADOS:\n",
    "\n",
    "- el texto crudo dentro de `warranty` puede contener información que indique si el objeto es usado, para crear esta feature debe hacerse uso de tecnicas de NLP. Se plantea como una posibilidad para un desarrollo más extendido pero en esta ocasión se omite.\n",
    "- se elimina `condition` porque evidentemente es el label a predecir.\n",
    "- se elimina `site_id` porque solo tiene un valor.\n",
    "- se elimina `category_id` porque tiene 10491 distintos valores, puede que aporte información pero el modelo tardaría mucho en entrenar.\n",
    "- se elimina `title`, el seller podría decir en el título directamente si el objeto es usado, lo cuál puede ser una variable interesante. De momento se omite por temas de procesamiento\n",
    "\n",
    "entre otros...\n",
    "\n",
    "el script para eliminar los campos:"
   ]
  },
  {
   "cell_type": "code",
   "execution_count": 40,
   "metadata": {
    "tags": [
     "hide-input"
    ]
   },
   "outputs": [],
   "source": [
    "# Function to remove specified keys from dictionaries in the data\n",
    "def remove_keys(data, keys_to_remove):\n",
    "    for item in data:\n",
    "        for key in keys_to_remove:\n",
    "            item.pop(key, None)  # Remove the key if it exists, do nothing if it doesn't\n",
    "    # return data\n",
    "\n",
    "# Define the keys to remove\n",
    "keys_to_remove = [\n",
    "    'deal_ids',\n",
    "    'coverage_areas',\n",
    "    'warranty',\n",
    "    'condition', # this is the label\n",
    "    'seller_id',\n",
    "    'site_id', # one single value\n",
    "    'listing_source', # vacía\n",
    "    'parent_item_id', # info muy específica,\n",
    "    'descriptions',  # solo contiene el id de la descripción\n",
    "    'last_updated',\n",
    "    'id',\n",
    "    'category_id', # muchas posibles opciones\n",
    "    'title',\n",
    "    'international_delivery_mode', # siempre null\n",
    "    'differential_pricing', # siempre null\n",
    "    'currency_id', # esta puede ser util, pero la omitimos de momento\n",
    "    'thumbnail',\n",
    "    'original_price',\n",
    "    'date_created',\n",
    "    'secure_thumbnail',\n",
    "    'stop_time',\n",
    "    'video_id',\n",
    "    'catalog_product_id', # solo 7 registros lo tienen\n",
    "    'permalink',\n",
    "    'start_time',\n",
    "    'subtitle',\n",
    "    'base_price' # es igual a 'price', solo se diferencia en MUY pocos casos\n",
    "    ]\n",
    "\n",
    "remove_keys(X_train, keys_to_remove)\n",
    "remove_keys(X_test, keys_to_remove)"
   ]
  },
  {
   "cell_type": "markdown",
   "metadata": {},
   "source": [
    "## Dataset Final"
   ]
  },
  {
   "cell_type": "markdown",
   "metadata": {},
   "source": [
    "una vez que se ha aplanado el diccionario inicial, se convierte en dataframe. y adicionalmente, los campos booleanos se convierten en unos y ceros"
   ]
  },
  {
   "cell_type": "code",
   "execution_count": 41,
   "metadata": {
    "tags": [
     "hide-input"
    ]
   },
   "outputs": [
    {
     "data": {
      "text/html": [
       "<div>\n",
       "<style scoped>\n",
       "    .dataframe tbody tr th:only-of-type {\n",
       "        vertical-align: middle;\n",
       "    }\n",
       "\n",
       "    .dataframe tbody tr th {\n",
       "        vertical-align: top;\n",
       "    }\n",
       "\n",
       "    .dataframe thead th {\n",
       "        text-align: right;\n",
       "    }\n",
       "</style>\n",
       "<table border=\"1\" class=\"dataframe\">\n",
       "  <thead>\n",
       "    <tr style=\"text-align: right;\">\n",
       "      <th></th>\n",
       "      <th>listing_type_id</th>\n",
       "      <th>price</th>\n",
       "      <th>buying_mode</th>\n",
       "      <th>accepts_mercadopago</th>\n",
       "      <th>automatic_relist</th>\n",
       "      <th>status</th>\n",
       "      <th>initial_quantity</th>\n",
       "      <th>sold_quantity</th>\n",
       "      <th>available_quantity</th>\n",
       "      <th>num_pictures</th>\n",
       "      <th>...</th>\n",
       "      <th>has_tag_dragged_bids_and_visits</th>\n",
       "      <th>has_tag_good_quality_thumbnail</th>\n",
       "      <th>has_tag_poor_quality_thumbnail</th>\n",
       "      <th>has_tag_dragged_visits</th>\n",
       "      <th>shipping_field_local_pick_up</th>\n",
       "      <th>shipping_field_free_shipping</th>\n",
       "      <th>shipping_field_mode</th>\n",
       "      <th>seller_address_state</th>\n",
       "      <th>extracted_sub_status</th>\n",
       "      <th>has_official_store_id</th>\n",
       "    </tr>\n",
       "  </thead>\n",
       "  <tbody>\n",
       "    <tr>\n",
       "      <th>0</th>\n",
       "      <td>bronze</td>\n",
       "      <td>80.0</td>\n",
       "      <td>buy_it_now</td>\n",
       "      <td>1</td>\n",
       "      <td>0</td>\n",
       "      <td>active</td>\n",
       "      <td>1</td>\n",
       "      <td>0</td>\n",
       "      <td>1</td>\n",
       "      <td>2</td>\n",
       "      <td>...</td>\n",
       "      <td>1</td>\n",
       "      <td>0</td>\n",
       "      <td>0</td>\n",
       "      <td>0</td>\n",
       "      <td>1</td>\n",
       "      <td>0</td>\n",
       "      <td>not_specified</td>\n",
       "      <td>Capital Federal</td>\n",
       "      <td>non_specified</td>\n",
       "      <td>0</td>\n",
       "    </tr>\n",
       "    <tr>\n",
       "      <th>1</th>\n",
       "      <td>silver</td>\n",
       "      <td>2650.0</td>\n",
       "      <td>buy_it_now</td>\n",
       "      <td>1</td>\n",
       "      <td>0</td>\n",
       "      <td>active</td>\n",
       "      <td>1</td>\n",
       "      <td>0</td>\n",
       "      <td>1</td>\n",
       "      <td>6</td>\n",
       "      <td>...</td>\n",
       "      <td>0</td>\n",
       "      <td>0</td>\n",
       "      <td>0</td>\n",
       "      <td>0</td>\n",
       "      <td>1</td>\n",
       "      <td>0</td>\n",
       "      <td>me2</td>\n",
       "      <td>Capital Federal</td>\n",
       "      <td>non_specified</td>\n",
       "      <td>0</td>\n",
       "    </tr>\n",
       "    <tr>\n",
       "      <th>2</th>\n",
       "      <td>bronze</td>\n",
       "      <td>60.0</td>\n",
       "      <td>buy_it_now</td>\n",
       "      <td>1</td>\n",
       "      <td>0</td>\n",
       "      <td>active</td>\n",
       "      <td>1</td>\n",
       "      <td>0</td>\n",
       "      <td>1</td>\n",
       "      <td>1</td>\n",
       "      <td>...</td>\n",
       "      <td>1</td>\n",
       "      <td>0</td>\n",
       "      <td>0</td>\n",
       "      <td>0</td>\n",
       "      <td>1</td>\n",
       "      <td>0</td>\n",
       "      <td>me2</td>\n",
       "      <td>Capital Federal</td>\n",
       "      <td>non_specified</td>\n",
       "      <td>0</td>\n",
       "    </tr>\n",
       "    <tr>\n",
       "      <th>3</th>\n",
       "      <td>silver</td>\n",
       "      <td>580.0</td>\n",
       "      <td>buy_it_now</td>\n",
       "      <td>1</td>\n",
       "      <td>0</td>\n",
       "      <td>active</td>\n",
       "      <td>1</td>\n",
       "      <td>0</td>\n",
       "      <td>1</td>\n",
       "      <td>2</td>\n",
       "      <td>...</td>\n",
       "      <td>0</td>\n",
       "      <td>0</td>\n",
       "      <td>0</td>\n",
       "      <td>0</td>\n",
       "      <td>1</td>\n",
       "      <td>0</td>\n",
       "      <td>me2</td>\n",
       "      <td>Capital Federal</td>\n",
       "      <td>non_specified</td>\n",
       "      <td>0</td>\n",
       "    </tr>\n",
       "    <tr>\n",
       "      <th>4</th>\n",
       "      <td>bronze</td>\n",
       "      <td>30.0</td>\n",
       "      <td>buy_it_now</td>\n",
       "      <td>1</td>\n",
       "      <td>0</td>\n",
       "      <td>active</td>\n",
       "      <td>1</td>\n",
       "      <td>0</td>\n",
       "      <td>1</td>\n",
       "      <td>2</td>\n",
       "      <td>...</td>\n",
       "      <td>1</td>\n",
       "      <td>0</td>\n",
       "      <td>0</td>\n",
       "      <td>0</td>\n",
       "      <td>1</td>\n",
       "      <td>0</td>\n",
       "      <td>not_specified</td>\n",
       "      <td>Buenos Aires</td>\n",
       "      <td>non_specified</td>\n",
       "      <td>0</td>\n",
       "    </tr>\n",
       "  </tbody>\n",
       "</table>\n",
       "<p>5 rows × 80 columns</p>\n",
       "</div>"
      ],
      "text/plain": [
       "  listing_type_id   price buying_mode  accepts_mercadopago  automatic_relist  \\\n",
       "0          bronze    80.0  buy_it_now                    1                 0   \n",
       "1          silver  2650.0  buy_it_now                    1                 0   \n",
       "2          bronze    60.0  buy_it_now                    1                 0   \n",
       "3          silver   580.0  buy_it_now                    1                 0   \n",
       "4          bronze    30.0  buy_it_now                    1                 0   \n",
       "\n",
       "   status  initial_quantity  sold_quantity  available_quantity  num_pictures  \\\n",
       "0  active                 1              0                   1             2   \n",
       "1  active                 1              0                   1             6   \n",
       "2  active                 1              0                   1             1   \n",
       "3  active                 1              0                   1             2   \n",
       "4  active                 1              0                   1             2   \n",
       "\n",
       "   ...  has_tag_dragged_bids_and_visits  has_tag_good_quality_thumbnail  \\\n",
       "0  ...                                1                               0   \n",
       "1  ...                                0                               0   \n",
       "2  ...                                1                               0   \n",
       "3  ...                                0                               0   \n",
       "4  ...                                1                               0   \n",
       "\n",
       "   has_tag_poor_quality_thumbnail  has_tag_dragged_visits  \\\n",
       "0                               0                       0   \n",
       "1                               0                       0   \n",
       "2                               0                       0   \n",
       "3                               0                       0   \n",
       "4                               0                       0   \n",
       "\n",
       "   shipping_field_local_pick_up  shipping_field_free_shipping  \\\n",
       "0                             1                             0   \n",
       "1                             1                             0   \n",
       "2                             1                             0   \n",
       "3                             1                             0   \n",
       "4                             1                             0   \n",
       "\n",
       "   shipping_field_mode  seller_address_state  extracted_sub_status  \\\n",
       "0        not_specified       Capital Federal         non_specified   \n",
       "1                  me2       Capital Federal         non_specified   \n",
       "2                  me2       Capital Federal         non_specified   \n",
       "3                  me2       Capital Federal         non_specified   \n",
       "4        not_specified          Buenos Aires         non_specified   \n",
       "\n",
       "   has_official_store_id  \n",
       "0                      0  \n",
       "1                      0  \n",
       "2                      0  \n",
       "3                      0  \n",
       "4                      0  \n",
       "\n",
       "[5 rows x 80 columns]"
      ]
     },
     "execution_count": 41,
     "metadata": {},
     "output_type": "execute_result"
    }
   ],
   "source": [
    "df_X_train = pd.DataFrame(X_train)\n",
    "\n",
    "# Convertir todas las columnas booleanas a 1 y 0\n",
    "bool_columns = df_X_train.select_dtypes(include='bool').columns\n",
    "df_X_train[bool_columns] = df_X_train[bool_columns].astype(int)\n",
    "\n",
    "df_X_train.head()"
   ]
  },
  {
   "cell_type": "code",
   "execution_count": 42,
   "metadata": {
    "tags": [
     "hide-input"
    ]
   },
   "outputs": [
    {
     "data": {
      "text/html": [
       "<div>\n",
       "<style scoped>\n",
       "    .dataframe tbody tr th:only-of-type {\n",
       "        vertical-align: middle;\n",
       "    }\n",
       "\n",
       "    .dataframe tbody tr th {\n",
       "        vertical-align: top;\n",
       "    }\n",
       "\n",
       "    .dataframe thead th {\n",
       "        text-align: right;\n",
       "    }\n",
       "</style>\n",
       "<table border=\"1\" class=\"dataframe\">\n",
       "  <thead>\n",
       "    <tr style=\"text-align: right;\">\n",
       "      <th></th>\n",
       "      <th>listing_type_id</th>\n",
       "      <th>price</th>\n",
       "      <th>buying_mode</th>\n",
       "      <th>accepts_mercadopago</th>\n",
       "      <th>automatic_relist</th>\n",
       "      <th>status</th>\n",
       "      <th>initial_quantity</th>\n",
       "      <th>sold_quantity</th>\n",
       "      <th>available_quantity</th>\n",
       "      <th>num_pictures</th>\n",
       "      <th>...</th>\n",
       "      <th>has_tag_dragged_bids_and_visits</th>\n",
       "      <th>has_tag_good_quality_thumbnail</th>\n",
       "      <th>has_tag_poor_quality_thumbnail</th>\n",
       "      <th>has_tag_dragged_visits</th>\n",
       "      <th>shipping_field_local_pick_up</th>\n",
       "      <th>shipping_field_free_shipping</th>\n",
       "      <th>shipping_field_mode</th>\n",
       "      <th>seller_address_state</th>\n",
       "      <th>extracted_sub_status</th>\n",
       "      <th>has_official_store_id</th>\n",
       "    </tr>\n",
       "  </thead>\n",
       "  <tbody>\n",
       "    <tr>\n",
       "      <th>0</th>\n",
       "      <td>silver</td>\n",
       "      <td>6700.0</td>\n",
       "      <td>buy_it_now</td>\n",
       "      <td>1</td>\n",
       "      <td>0</td>\n",
       "      <td>active</td>\n",
       "      <td>1</td>\n",
       "      <td>0</td>\n",
       "      <td>1</td>\n",
       "      <td>6</td>\n",
       "      <td>...</td>\n",
       "      <td>1</td>\n",
       "      <td>0</td>\n",
       "      <td>0</td>\n",
       "      <td>0</td>\n",
       "      <td>1</td>\n",
       "      <td>0</td>\n",
       "      <td>custom</td>\n",
       "      <td>Buenos Aires</td>\n",
       "      <td>non_specified</td>\n",
       "      <td>0</td>\n",
       "    </tr>\n",
       "    <tr>\n",
       "      <th>1</th>\n",
       "      <td>bronze</td>\n",
       "      <td>119.0</td>\n",
       "      <td>buy_it_now</td>\n",
       "      <td>1</td>\n",
       "      <td>0</td>\n",
       "      <td>active</td>\n",
       "      <td>19</td>\n",
       "      <td>0</td>\n",
       "      <td>19</td>\n",
       "      <td>3</td>\n",
       "      <td>...</td>\n",
       "      <td>1</td>\n",
       "      <td>0</td>\n",
       "      <td>0</td>\n",
       "      <td>0</td>\n",
       "      <td>0</td>\n",
       "      <td>0</td>\n",
       "      <td>not_specified</td>\n",
       "      <td>Capital Federal</td>\n",
       "      <td>non_specified</td>\n",
       "      <td>0</td>\n",
       "    </tr>\n",
       "    <tr>\n",
       "      <th>2</th>\n",
       "      <td>bronze</td>\n",
       "      <td>450.0</td>\n",
       "      <td>buy_it_now</td>\n",
       "      <td>1</td>\n",
       "      <td>0</td>\n",
       "      <td>active</td>\n",
       "      <td>2</td>\n",
       "      <td>0</td>\n",
       "      <td>2</td>\n",
       "      <td>3</td>\n",
       "      <td>...</td>\n",
       "      <td>1</td>\n",
       "      <td>0</td>\n",
       "      <td>0</td>\n",
       "      <td>0</td>\n",
       "      <td>0</td>\n",
       "      <td>0</td>\n",
       "      <td>me2</td>\n",
       "      <td>Buenos Aires</td>\n",
       "      <td>non_specified</td>\n",
       "      <td>0</td>\n",
       "    </tr>\n",
       "    <tr>\n",
       "      <th>3</th>\n",
       "      <td>bronze</td>\n",
       "      <td>40.0</td>\n",
       "      <td>buy_it_now</td>\n",
       "      <td>1</td>\n",
       "      <td>0</td>\n",
       "      <td>active</td>\n",
       "      <td>1</td>\n",
       "      <td>0</td>\n",
       "      <td>1</td>\n",
       "      <td>2</td>\n",
       "      <td>...</td>\n",
       "      <td>1</td>\n",
       "      <td>0</td>\n",
       "      <td>0</td>\n",
       "      <td>0</td>\n",
       "      <td>1</td>\n",
       "      <td>0</td>\n",
       "      <td>me2</td>\n",
       "      <td>Buenos Aires</td>\n",
       "      <td>non_specified</td>\n",
       "      <td>0</td>\n",
       "    </tr>\n",
       "    <tr>\n",
       "      <th>4</th>\n",
       "      <td>bronze</td>\n",
       "      <td>30.0</td>\n",
       "      <td>buy_it_now</td>\n",
       "      <td>1</td>\n",
       "      <td>0</td>\n",
       "      <td>active</td>\n",
       "      <td>1</td>\n",
       "      <td>1</td>\n",
       "      <td>1</td>\n",
       "      <td>1</td>\n",
       "      <td>...</td>\n",
       "      <td>1</td>\n",
       "      <td>0</td>\n",
       "      <td>0</td>\n",
       "      <td>0</td>\n",
       "      <td>1</td>\n",
       "      <td>0</td>\n",
       "      <td>not_specified</td>\n",
       "      <td>Capital Federal</td>\n",
       "      <td>non_specified</td>\n",
       "      <td>0</td>\n",
       "    </tr>\n",
       "  </tbody>\n",
       "</table>\n",
       "<p>5 rows × 80 columns</p>\n",
       "</div>"
      ],
      "text/plain": [
       "  listing_type_id   price buying_mode  accepts_mercadopago  automatic_relist  \\\n",
       "0          silver  6700.0  buy_it_now                    1                 0   \n",
       "1          bronze   119.0  buy_it_now                    1                 0   \n",
       "2          bronze   450.0  buy_it_now                    1                 0   \n",
       "3          bronze    40.0  buy_it_now                    1                 0   \n",
       "4          bronze    30.0  buy_it_now                    1                 0   \n",
       "\n",
       "   status  initial_quantity  sold_quantity  available_quantity  num_pictures  \\\n",
       "0  active                 1              0                   1             6   \n",
       "1  active                19              0                  19             3   \n",
       "2  active                 2              0                   2             3   \n",
       "3  active                 1              0                   1             2   \n",
       "4  active                 1              1                   1             1   \n",
       "\n",
       "   ...  has_tag_dragged_bids_and_visits  has_tag_good_quality_thumbnail  \\\n",
       "0  ...                                1                               0   \n",
       "1  ...                                1                               0   \n",
       "2  ...                                1                               0   \n",
       "3  ...                                1                               0   \n",
       "4  ...                                1                               0   \n",
       "\n",
       "   has_tag_poor_quality_thumbnail  has_tag_dragged_visits  \\\n",
       "0                               0                       0   \n",
       "1                               0                       0   \n",
       "2                               0                       0   \n",
       "3                               0                       0   \n",
       "4                               0                       0   \n",
       "\n",
       "   shipping_field_local_pick_up  shipping_field_free_shipping  \\\n",
       "0                             1                             0   \n",
       "1                             0                             0   \n",
       "2                             0                             0   \n",
       "3                             1                             0   \n",
       "4                             1                             0   \n",
       "\n",
       "   shipping_field_mode  seller_address_state  extracted_sub_status  \\\n",
       "0               custom          Buenos Aires         non_specified   \n",
       "1        not_specified       Capital Federal         non_specified   \n",
       "2                  me2          Buenos Aires         non_specified   \n",
       "3                  me2          Buenos Aires         non_specified   \n",
       "4        not_specified       Capital Federal         non_specified   \n",
       "\n",
       "   has_official_store_id  \n",
       "0                      0  \n",
       "1                      0  \n",
       "2                      0  \n",
       "3                      0  \n",
       "4                      0  \n",
       "\n",
       "[5 rows x 80 columns]"
      ]
     },
     "execution_count": 42,
     "metadata": {},
     "output_type": "execute_result"
    }
   ],
   "source": [
    "df_X_test = pd.DataFrame(X_test)\n",
    "\n",
    "# Convertir todas las columnas booleanas a 1 y 0\n",
    "bool_columns = df_X_test.select_dtypes(include='bool').columns\n",
    "df_X_test[bool_columns] = df_X_test[bool_columns].astype(int)\n",
    "\n",
    "df_X_test.head()"
   ]
  },
  {
   "cell_type": "markdown",
   "metadata": {},
   "source": [
    "nota: función para convertir un JSON anidado en dataframe (solo fué usada durante el proceso de flatten del JSON original)"
   ]
  },
  {
   "cell_type": "code",
   "execution_count": 43,
   "metadata": {
    "tags": [
     "hide-input"
    ]
   },
   "outputs": [],
   "source": [
    "# función para convertir un JSON anidado en dataframe (solo fué usada durante el proceso de flatten del JSON original)\n",
    "\n",
    "# def flatten_json(y):\n",
    "#     out = {}\n",
    "\n",
    "#     def flatten(x, name=''):\n",
    "#         if type(x) is dict:\n",
    "#             for a in x:\n",
    "#                 flatten(x[a], name + a + '_')\n",
    "#         elif type(x) is list:\n",
    "#             i = 0\n",
    "#             for a in x:\n",
    "#                 flatten(a, name + str(i) + '_')\n",
    "#                 i += 1\n",
    "#         else:\n",
    "#             out[name[:-1]] = x\n",
    "\n",
    "#     flatten(y)\n",
    "#     return out\n",
    "\n",
    "# def json_to_dataframe(json_data):\n",
    "#     flat_data = [flatten_json(item) for item in json_data]\n",
    "#     df = pd.DataFrame(flat_data)\n",
    "#     return df\n",
    "\n",
    "# df_train = json_to_dataframe(X_train)\n",
    "# df_train"
   ]
  },
  {
   "cell_type": "markdown",
   "metadata": {},
   "source": [
    "# EDA"
   ]
  },
  {
   "cell_type": "markdown",
   "metadata": {},
   "source": [
    "se realiza el EDA sobre el dataframe completo (partición de Train + partición de Test). Iniciamos uniendo las particiones de train y test, se guarda en una variable aparte que solo será usada para el EDA:"
   ]
  },
  {
   "cell_type": "code",
   "execution_count": 44,
   "metadata": {
    "tags": [
     "hide-input"
    ]
   },
   "outputs": [
    {
     "data": {
      "text/html": [
       "<div>\n",
       "<style scoped>\n",
       "    .dataframe tbody tr th:only-of-type {\n",
       "        vertical-align: middle;\n",
       "    }\n",
       "\n",
       "    .dataframe tbody tr th {\n",
       "        vertical-align: top;\n",
       "    }\n",
       "\n",
       "    .dataframe thead th {\n",
       "        text-align: right;\n",
       "    }\n",
       "</style>\n",
       "<table border=\"1\" class=\"dataframe\">\n",
       "  <thead>\n",
       "    <tr style=\"text-align: right;\">\n",
       "      <th></th>\n",
       "      <th>listing_type_id</th>\n",
       "      <th>price</th>\n",
       "      <th>buying_mode</th>\n",
       "      <th>accepts_mercadopago</th>\n",
       "      <th>automatic_relist</th>\n",
       "      <th>status</th>\n",
       "      <th>initial_quantity</th>\n",
       "      <th>sold_quantity</th>\n",
       "      <th>available_quantity</th>\n",
       "      <th>num_pictures</th>\n",
       "      <th>...</th>\n",
       "      <th>has_tag_good_quality_thumbnail</th>\n",
       "      <th>has_tag_poor_quality_thumbnail</th>\n",
       "      <th>has_tag_dragged_visits</th>\n",
       "      <th>shipping_field_local_pick_up</th>\n",
       "      <th>shipping_field_free_shipping</th>\n",
       "      <th>shipping_field_mode</th>\n",
       "      <th>seller_address_state</th>\n",
       "      <th>extracted_sub_status</th>\n",
       "      <th>has_official_store_id</th>\n",
       "      <th>label</th>\n",
       "    </tr>\n",
       "  </thead>\n",
       "  <tbody>\n",
       "    <tr>\n",
       "      <th>0</th>\n",
       "      <td>silver</td>\n",
       "      <td>6700.0</td>\n",
       "      <td>buy_it_now</td>\n",
       "      <td>1</td>\n",
       "      <td>0</td>\n",
       "      <td>active</td>\n",
       "      <td>1</td>\n",
       "      <td>0</td>\n",
       "      <td>1</td>\n",
       "      <td>6</td>\n",
       "      <td>...</td>\n",
       "      <td>0</td>\n",
       "      <td>0</td>\n",
       "      <td>0</td>\n",
       "      <td>1</td>\n",
       "      <td>0</td>\n",
       "      <td>custom</td>\n",
       "      <td>Buenos Aires</td>\n",
       "      <td>non_specified</td>\n",
       "      <td>0</td>\n",
       "      <td>used</td>\n",
       "    </tr>\n",
       "    <tr>\n",
       "      <th>1</th>\n",
       "      <td>bronze</td>\n",
       "      <td>119.0</td>\n",
       "      <td>buy_it_now</td>\n",
       "      <td>1</td>\n",
       "      <td>0</td>\n",
       "      <td>active</td>\n",
       "      <td>19</td>\n",
       "      <td>0</td>\n",
       "      <td>19</td>\n",
       "      <td>3</td>\n",
       "      <td>...</td>\n",
       "      <td>0</td>\n",
       "      <td>0</td>\n",
       "      <td>0</td>\n",
       "      <td>0</td>\n",
       "      <td>0</td>\n",
       "      <td>not_specified</td>\n",
       "      <td>Capital Federal</td>\n",
       "      <td>non_specified</td>\n",
       "      <td>0</td>\n",
       "      <td>new</td>\n",
       "    </tr>\n",
       "    <tr>\n",
       "      <th>2</th>\n",
       "      <td>bronze</td>\n",
       "      <td>450.0</td>\n",
       "      <td>buy_it_now</td>\n",
       "      <td>1</td>\n",
       "      <td>0</td>\n",
       "      <td>active</td>\n",
       "      <td>2</td>\n",
       "      <td>0</td>\n",
       "      <td>2</td>\n",
       "      <td>3</td>\n",
       "      <td>...</td>\n",
       "      <td>0</td>\n",
       "      <td>0</td>\n",
       "      <td>0</td>\n",
       "      <td>0</td>\n",
       "      <td>0</td>\n",
       "      <td>me2</td>\n",
       "      <td>Buenos Aires</td>\n",
       "      <td>non_specified</td>\n",
       "      <td>0</td>\n",
       "      <td>new</td>\n",
       "    </tr>\n",
       "    <tr>\n",
       "      <th>3</th>\n",
       "      <td>bronze</td>\n",
       "      <td>40.0</td>\n",
       "      <td>buy_it_now</td>\n",
       "      <td>1</td>\n",
       "      <td>0</td>\n",
       "      <td>active</td>\n",
       "      <td>1</td>\n",
       "      <td>0</td>\n",
       "      <td>1</td>\n",
       "      <td>2</td>\n",
       "      <td>...</td>\n",
       "      <td>0</td>\n",
       "      <td>0</td>\n",
       "      <td>0</td>\n",
       "      <td>1</td>\n",
       "      <td>0</td>\n",
       "      <td>me2</td>\n",
       "      <td>Buenos Aires</td>\n",
       "      <td>non_specified</td>\n",
       "      <td>0</td>\n",
       "      <td>used</td>\n",
       "    </tr>\n",
       "    <tr>\n",
       "      <th>4</th>\n",
       "      <td>bronze</td>\n",
       "      <td>30.0</td>\n",
       "      <td>buy_it_now</td>\n",
       "      <td>1</td>\n",
       "      <td>0</td>\n",
       "      <td>active</td>\n",
       "      <td>1</td>\n",
       "      <td>1</td>\n",
       "      <td>1</td>\n",
       "      <td>1</td>\n",
       "      <td>...</td>\n",
       "      <td>0</td>\n",
       "      <td>0</td>\n",
       "      <td>0</td>\n",
       "      <td>1</td>\n",
       "      <td>0</td>\n",
       "      <td>not_specified</td>\n",
       "      <td>Capital Federal</td>\n",
       "      <td>non_specified</td>\n",
       "      <td>0</td>\n",
       "      <td>new</td>\n",
       "    </tr>\n",
       "  </tbody>\n",
       "</table>\n",
       "<p>5 rows × 81 columns</p>\n",
       "</div>"
      ],
      "text/plain": [
       "  listing_type_id   price buying_mode  accepts_mercadopago  automatic_relist  \\\n",
       "0          silver  6700.0  buy_it_now                    1                 0   \n",
       "1          bronze   119.0  buy_it_now                    1                 0   \n",
       "2          bronze   450.0  buy_it_now                    1                 0   \n",
       "3          bronze    40.0  buy_it_now                    1                 0   \n",
       "4          bronze    30.0  buy_it_now                    1                 0   \n",
       "\n",
       "   status  initial_quantity  sold_quantity  available_quantity  num_pictures  \\\n",
       "0  active                 1              0                   1             6   \n",
       "1  active                19              0                  19             3   \n",
       "2  active                 2              0                   2             3   \n",
       "3  active                 1              0                   1             2   \n",
       "4  active                 1              1                   1             1   \n",
       "\n",
       "   ...  has_tag_good_quality_thumbnail  has_tag_poor_quality_thumbnail  \\\n",
       "0  ...                               0                               0   \n",
       "1  ...                               0                               0   \n",
       "2  ...                               0                               0   \n",
       "3  ...                               0                               0   \n",
       "4  ...                               0                               0   \n",
       "\n",
       "   has_tag_dragged_visits  shipping_field_local_pick_up  \\\n",
       "0                       0                             1   \n",
       "1                       0                             0   \n",
       "2                       0                             0   \n",
       "3                       0                             1   \n",
       "4                       0                             1   \n",
       "\n",
       "   shipping_field_free_shipping  shipping_field_mode  seller_address_state  \\\n",
       "0                             0               custom          Buenos Aires   \n",
       "1                             0        not_specified       Capital Federal   \n",
       "2                             0                  me2          Buenos Aires   \n",
       "3                             0                  me2          Buenos Aires   \n",
       "4                             0        not_specified       Capital Federal   \n",
       "\n",
       "   extracted_sub_status  has_official_store_id  label  \n",
       "0         non_specified                      0   used  \n",
       "1         non_specified                      0    new  \n",
       "2         non_specified                      0    new  \n",
       "3         non_specified                      0   used  \n",
       "4         non_specified                      0    new  \n",
       "\n",
       "[5 rows x 81 columns]"
      ]
     },
     "execution_count": 44,
     "metadata": {},
     "output_type": "execute_result"
    }
   ],
   "source": [
    "df_EDA = pd.concat([df_X_test, df_X_train]).copy()\n",
    "\n",
    "# agregamos el label para explorar\n",
    "df_EDA['label'] = y_test.copy() + y_train.copy()\n",
    "\n",
    "df_EDA.head()"
   ]
  },
  {
   "cell_type": "markdown",
   "metadata": {},
   "source": [
    "## Distribución de clases"
   ]
  },
  {
   "cell_type": "code",
   "execution_count": 53,
   "metadata": {
    "tags": [
     "hide-input"
    ]
   },
   "outputs": [
    {
     "data": {
      "image/png": "[encoded data removed]",
      "text/plain": [
       "<Figure size 800x600 with 1 Axes>"
      ]
     },
     "metadata": {},
     "output_type": "display_data"
    }
   ],
   "source": [
    "import matplotlib.pyplot as plt\n",
    "import seaborn as sns\n",
    "\n",
    "# Visualize the target variable distribution\n",
    "plt.figure(figsize=(8, 6))\n",
    "sns.countplot(data=df_EDA, x='label')\n",
    "plt.title('Distribución de la Variable Objetivo')\n",
    "plt.xlabel('Etiqueta (Nuevo o Usado)')\n",
    "plt.ylabel('Cantidad')\n",
    "plt.show()"
   ]
  },
  {
   "cell_type": "markdown",
   "metadata": {},
   "source": [
    "Se puede evidenciar que la proporción entre artículos nuevos o usados no es muy distinta, lo cuál nos ahorra el uso de técnicas de balanceo que requerirían un procesamiento adicional."
   ]
  },
  {
   "cell_type": "markdown",
   "metadata": {},
   "source": [
    "## variables numéricas vs variable objetivo"
   ]
  },
  {
   "cell_type": "markdown",
   "metadata": {},
   "source": [
    "### conteo y resolución de las imágenes"
   ]
  },
  {
   "cell_type": "markdown",
   "metadata": {},
   "source": [
    "sobre el conteo de imágenes en los artículos:"
   ]
  },
  {
   "cell_type": "code",
   "execution_count": 54,
   "metadata": {
    "tags": [
     "hide-input"
    ]
   },
   "outputs": [
    {
     "data": {
      "image/png": "[encoded data removed]",
      "text/plain": [
       "<Figure size 1000x600 with 1 Axes>"
      ]
     },
     "metadata": {},
     "output_type": "display_data"
    }
   ],
   "source": [
    "# Crear un boxplot horizontal para la variable 'num_pictures' dividida por la variable 'label'\n",
    "plt.figure(figsize=(10, 6))\n",
    "sns.boxplot(data=df_EDA, x='num_pictures', y='label', orient='h', showfliers=False)\n",
    "plt.title('Distribución de la Variable \"num_pictures\" por Etiqueta')\n",
    "plt.xlabel('Número de Imágenes')\n",
    "plt.ylabel('Etiqueta (Nuevo o Usado)')\n",
    "plt.show()"
   ]
  },
  {
   "cell_type": "markdown",
   "metadata": {},
   "source": [
    "Basados en la ubicación de la mediana, observamos que los artículos nuevos tienden a tener una mayor cantidad de imágenes en comparación con los artículos usados."
   ]
  },
  {
   "cell_type": "markdown",
   "metadata": {},
   "source": [
    "sobre la resolución de las imágenes:"
   ]
  },
  {
   "cell_type": "code",
   "execution_count": 69,
   "metadata": {
    "tags": [
     "hide-input"
    ]
   },
   "outputs": [
    {
     "data": {
      "image/png": "[encoded data removed]",
      "text/plain": [
       "<Figure size 1000x600 with 1 Axes>"
      ]
     },
     "metadata": {},
     "output_type": "display_data"
    }
   ],
   "source": [
    "# Crear un boxplot horizontal para la variable 'max_picture_resolution' dividida por la variable 'label'\n",
    "plt.figure(figsize=(10, 6))\n",
    "sns.boxplot(data=df_EDA, x='max_picture_resolution', y='label', orient='h', showfliers=False)\n",
    "plt.title('Distribución de la Variable \"max_picture_resolution\" por Etiqueta')\n",
    "plt.xlabel('Resolución Máxima de Imágenes')\n",
    "plt.ylabel('Etiqueta (Nuevo o Usado)')\n",
    "plt.show()"
   ]
  },
  {
   "cell_type": "markdown",
   "metadata": {},
   "source": [
    "Se puede observar que la varianza para la resolución de las imágenes de artículos usados es menor, dado que hay más concentración de datos. Sin embargo se puede decir que almenos la mitad de las fotos de los artículos nuevos tienen igual o mejor calidad que las fotos de los artículos usados. Esto puede ir alineado con los esfuerzos de sellers más grandes que hacen mayores esfuerzos en la venta de sus productos nuevos."
   ]
  },
  {
   "cell_type": "markdown",
   "metadata": {},
   "source": [
    "### unidades del artículo"
   ]
  },
  {
   "cell_type": "code",
   "execution_count": 60,
   "metadata": {
    "tags": [
     "hide-input"
    ]
   },
   "outputs": [
    {
     "data": {
      "image/png": "[encoded data removed]",
      "text/plain": [
       "<Figure size 1000x600 with 1 Axes>"
      ]
     },
     "metadata": {},
     "output_type": "display_data"
    }
   ],
   "source": [
    "# Crear un boxplot horizontal para la variable 'initial_quantity' dividida por la variable 'label'\n",
    "plt.figure(figsize=(10, 6))\n",
    "sns.boxplot(data=df_EDA, x='initial_quantity', y='label', orient='h', showfliers=False)\n",
    "plt.title('Distribución de la Variable \"initial_quantity\" por Etiqueta')\n",
    "plt.xlabel('Cantidad Inicial')\n",
    "plt.ylabel('Etiqueta (Nuevo o Usado)')\n",
    "plt.show()"
   ]
  },
  {
   "cell_type": "markdown",
   "metadata": {},
   "source": [
    "este gráfico muestra un insight muy bueno. En su mayoría, los artículos usados se publican con 1 unidad disponible, mientras que los artículos nuevos tienen una mediana de 2 aproximadamente y una distribución del Q3 entre 2 y 10 unidades.\n",
    "\n",
    "Esto es un indicio de que en general, si un ítem es nuevo, tendrá más de una unidad disponible, pero si es usado, típicamente se publica una unidad."
   ]
  },
  {
   "cell_type": "markdown",
   "metadata": {},
   "source": [
    "### precio del artículo"
   ]
  },
  {
   "cell_type": "code",
   "execution_count": 62,
   "metadata": {
    "tags": [
     "hide-input"
    ]
   },
   "outputs": [
    {
     "data": {
      "image/png": "[encoded data removed]",
      "text/plain": [
       "<Figure size 1000x600 with 1 Axes>"
      ]
     },
     "metadata": {},
     "output_type": "display_data"
    }
   ],
   "source": [
    "# Crear un boxplot horizontal para la variable 'price' dividida por la variable 'label'\n",
    "plt.figure(figsize=(10, 6))\n",
    "sns.boxplot(data=df_EDA, x='price', y='label', orient='h', showfliers = False)\n",
    "plt.title('Distribución de la Variable \"price\" por Etiqueta')\n",
    "plt.xlabel('Precio')\n",
    "plt.ylabel('Etiqueta (Nuevo o Usado)')\n",
    "plt.show()"
   ]
  },
  {
   "cell_type": "markdown",
   "metadata": {},
   "source": [
    "se evidencia que los artículos nuevos tienen en general, un costo mayor que los usados. Lo cuál es intuitivo dado que las cosas usadas se deprecian."
   ]
  },
  {
   "cell_type": "markdown",
   "metadata": {},
   "source": [
    "## variables categóricas vs la variable objetivo"
   ]
  },
  {
   "cell_type": "markdown",
   "metadata": {},
   "source": [
    "### tipo de listado"
   ]
  },
  {
   "cell_type": "code",
   "execution_count": 67,
   "metadata": {
    "tags": [
     "hide-input"
    ]
   },
   "outputs": [
    {
     "data": {
      "image/png": "[encoded data removed]",
      "text/plain": [
       "<Figure size 1200x800 with 1 Axes>"
      ]
     },
     "metadata": {},
     "output_type": "display_data"
    }
   ],
   "source": [
    "# Calcular el porcentaje de artículos nuevos y usados para cada valor de 'listing_type_id'\n",
    "listing_type_distribution = df_EDA.groupby(['listing_type_id', 'label']).size().unstack(fill_value=0)\n",
    "listing_type_percentage = listing_type_distribution.div(listing_type_distribution.sum(axis=1), axis=0) * 100\n",
    "\n",
    "# Crear un diagrama de barras apilado para los porcentajes de artículos nuevos y usados por 'listing_type_id'\n",
    "listing_type_percentage.plot(kind='bar', stacked=True, figsize=(12, 8))\n",
    "plt.title('Porcentaje de Artículos Nuevos y Usados por Tipo de Listado')\n",
    "plt.xlabel('Tipo de Listado')\n",
    "plt.ylabel('Porcentaje')\n",
    "plt.legend(title='Etiqueta')\n",
    "plt.xticks(rotation=45)\n",
    "plt.show()"
   ]
  },
  {
   "cell_type": "markdown",
   "metadata": {},
   "source": [
    "este gráfico de barras apilado nos muestra información muy valiosa asociada a la variable `listing_type_id`, podemos evidenciar:\n",
    "\n",
    "- para el `listing_type_id` de tipo `free` hay mayor porcentaje de artículos usados.\n",
    "\n",
    "- para los `listing_type_id` de tipo `bronze`, `silver` y `gold` hay un porcentaje mayor de artículos nuevos. \n",
    "\n",
    "Esto puede ser una variable predictora muy fuerte para indicar si el artículo es nuevo o usado."
   ]
  },
  {
   "cell_type": "markdown",
   "metadata": {},
   "source": [
    "### acepta mercadopago"
   ]
  },
  {
   "cell_type": "code",
   "execution_count": 70,
   "metadata": {
    "tags": [
     "hide-input"
    ]
   },
   "outputs": [
    {
     "data": {
      "image/png": "[encoded data removed]",
      "text/plain": [
       "<Figure size 1200x800 with 1 Axes>"
      ]
     },
     "metadata": {},
     "output_type": "display_data"
    }
   ],
   "source": [
    "# Calcular el porcentaje de artículos que aceptan o no Mercadopago para cada clase en la variable objetivo\n",
    "mercadopago_distribution = df_EDA.groupby(['accepts_mercadopago', 'label']).size().unstack(fill_value=0)\n",
    "mercadopago_percentage = mercadopago_distribution.div(mercadopago_distribution.sum(axis=1), axis=0) * 100\n",
    "\n",
    "# Crear un diagrama de barras apilado para los porcentajes de artículos que aceptan o no Mercadopago por clase en la variable objetivo\n",
    "fig, ax = plt.subplots(figsize=(12, 8))\n",
    "\n",
    "mercadopago_percentage.plot(kind='bar', stacked=True, ax=ax)\n",
    "\n",
    "ax.set_title('Porcentaje de Artículos que Aceptan o No Mercadopago por Clase')\n",
    "ax.set_xlabel('Acepta Mercadopago')\n",
    "ax.set_ylabel('Porcentaje')\n",
    "ax.legend(title='Etiqueta', loc='upper right')\n",
    "ax.set_xticklabels(['No Acepta', 'Acepta'], rotation=0)\n",
    "\n",
    "plt.show()"
   ]
  },
  {
   "cell_type": "markdown",
   "metadata": {},
   "source": [
    "la proporción de artículos usados que aceptan mercadopago es bastante menor a comparación de la proporción de artículos nuevos que aceptan este medio de pago.\n",
    "\n",
    "En otras palabras, los artículos usados no suelen aceptar mercado pago, mientras que este medio de pago es más común en los artículos nuevos."
   ]
  },
  {
   "cell_type": "markdown",
   "metadata": {},
   "source": [
    "# Entrenamiento del modelo"
   ]
  },
  {
   "cell_type": "markdown",
   "metadata": {},
   "source": [
    "a pesar de toda la manipulación de datos hecha anteriormente, en este apartado se vuelve a las particiones de `test` y `train` originalmente suministradas para la prueba."
   ]
  },
  {
   "cell_type": "markdown",
   "metadata": {},
   "source": [
    "## Preprocesamiento"
   ]
  },
  {
   "cell_type": "markdown",
   "metadata": {},
   "source": [
    "primero, se convierte el label en números. Consideremos que `used` es la clase positiva en este caso."
   ]
  },
  {
   "cell_type": "code",
   "execution_count": 46,
   "metadata": {
    "tags": [
     "hide-input"
    ]
   },
   "outputs": [],
   "source": [
    "y_train = [0 if condition == 'new' else 1 for condition in y_train]\n",
    "y_test = [0 if condition == 'new' else 1 for condition in y_test]\n",
    "\n",
    "y_train = pd.Series(y_train)\n",
    "y_test = pd.Series(y_test)"
   ]
  },
  {
   "cell_type": "markdown",
   "metadata": {},
   "source": [
    "ahora se tratan todas las columnas categóricas de `X_train` y `X_test` que aun no han sido procesadas."
   ]
  },
  {
   "cell_type": "code",
   "execution_count": 47,
   "metadata": {
    "tags": [
     "hide-input"
    ]
   },
   "outputs": [],
   "source": [
    "# volviendo a la notacion tipica de sklearn\n",
    "X_train = df_X_train.copy()\n",
    "X_test = df_X_test.copy()"
   ]
  },
  {
   "cell_type": "code",
   "execution_count": 48,
   "metadata": {
    "tags": [
     "hide-input"
    ]
   },
   "outputs": [
    {
     "data": {
      "text/html": [
       "<div>\n",
       "<style scoped>\n",
       "    .dataframe tbody tr th:only-of-type {\n",
       "        vertical-align: middle;\n",
       "    }\n",
       "\n",
       "    .dataframe tbody tr th {\n",
       "        vertical-align: top;\n",
       "    }\n",
       "\n",
       "    .dataframe thead th {\n",
       "        text-align: right;\n",
       "    }\n",
       "</style>\n",
       "<table border=\"1\" class=\"dataframe\">\n",
       "  <thead>\n",
       "    <tr style=\"text-align: right;\">\n",
       "      <th></th>\n",
       "      <th>price</th>\n",
       "      <th>accepts_mercadopago</th>\n",
       "      <th>automatic_relist</th>\n",
       "      <th>initial_quantity</th>\n",
       "      <th>sold_quantity</th>\n",
       "      <th>available_quantity</th>\n",
       "      <th>num_pictures</th>\n",
       "      <th>unique_picture_resolutions</th>\n",
       "      <th>avg_picture_resolution</th>\n",
       "      <th>max_picture_resolution</th>\n",
       "      <th>...</th>\n",
       "      <th>seller_address_state_Tierra del Fuego</th>\n",
       "      <th>seller_address_state_Tucumán</th>\n",
       "      <th>extracted_sub_status_deleted</th>\n",
       "      <th>extracted_sub_status_expired</th>\n",
       "      <th>extracted_sub_status_non_specified</th>\n",
       "      <th>extracted_sub_status_suspended</th>\n",
       "      <th>shipping_field_mode_custom</th>\n",
       "      <th>shipping_field_mode_me1</th>\n",
       "      <th>shipping_field_mode_me2</th>\n",
       "      <th>shipping_field_mode_not_specified</th>\n",
       "    </tr>\n",
       "  </thead>\n",
       "  <tbody>\n",
       "    <tr>\n",
       "      <th>0</th>\n",
       "      <td>80.0</td>\n",
       "      <td>1</td>\n",
       "      <td>0</td>\n",
       "      <td>1</td>\n",
       "      <td>0</td>\n",
       "      <td>1</td>\n",
       "      <td>2</td>\n",
       "      <td>1</td>\n",
       "      <td>187500.000000</td>\n",
       "      <td>187500</td>\n",
       "      <td>...</td>\n",
       "      <td>0</td>\n",
       "      <td>0</td>\n",
       "      <td>0</td>\n",
       "      <td>0</td>\n",
       "      <td>1</td>\n",
       "      <td>0</td>\n",
       "      <td>0</td>\n",
       "      <td>0</td>\n",
       "      <td>0</td>\n",
       "      <td>1</td>\n",
       "    </tr>\n",
       "    <tr>\n",
       "      <th>1</th>\n",
       "      <td>2650.0</td>\n",
       "      <td>1</td>\n",
       "      <td>0</td>\n",
       "      <td>1</td>\n",
       "      <td>0</td>\n",
       "      <td>1</td>\n",
       "      <td>6</td>\n",
       "      <td>3</td>\n",
       "      <td>179944.333333</td>\n",
       "      <td>187500</td>\n",
       "      <td>...</td>\n",
       "      <td>0</td>\n",
       "      <td>0</td>\n",
       "      <td>0</td>\n",
       "      <td>0</td>\n",
       "      <td>1</td>\n",
       "      <td>0</td>\n",
       "      <td>0</td>\n",
       "      <td>0</td>\n",
       "      <td>1</td>\n",
       "      <td>0</td>\n",
       "    </tr>\n",
       "    <tr>\n",
       "      <th>2</th>\n",
       "      <td>60.0</td>\n",
       "      <td>1</td>\n",
       "      <td>0</td>\n",
       "      <td>1</td>\n",
       "      <td>0</td>\n",
       "      <td>1</td>\n",
       "      <td>1</td>\n",
       "      <td>1</td>\n",
       "      <td>187500.000000</td>\n",
       "      <td>187500</td>\n",
       "      <td>...</td>\n",
       "      <td>0</td>\n",
       "      <td>0</td>\n",
       "      <td>0</td>\n",
       "      <td>0</td>\n",
       "      <td>1</td>\n",
       "      <td>0</td>\n",
       "      <td>0</td>\n",
       "      <td>0</td>\n",
       "      <td>1</td>\n",
       "      <td>0</td>\n",
       "    </tr>\n",
       "    <tr>\n",
       "      <th>3</th>\n",
       "      <td>580.0</td>\n",
       "      <td>1</td>\n",
       "      <td>0</td>\n",
       "      <td>1</td>\n",
       "      <td>0</td>\n",
       "      <td>1</td>\n",
       "      <td>2</td>\n",
       "      <td>2</td>\n",
       "      <td>186271.500000</td>\n",
       "      <td>186543</td>\n",
       "      <td>...</td>\n",
       "      <td>0</td>\n",
       "      <td>0</td>\n",
       "      <td>0</td>\n",
       "      <td>0</td>\n",
       "      <td>1</td>\n",
       "      <td>0</td>\n",
       "      <td>0</td>\n",
       "      <td>0</td>\n",
       "      <td>1</td>\n",
       "      <td>0</td>\n",
       "    </tr>\n",
       "    <tr>\n",
       "      <th>4</th>\n",
       "      <td>30.0</td>\n",
       "      <td>1</td>\n",
       "      <td>0</td>\n",
       "      <td>1</td>\n",
       "      <td>0</td>\n",
       "      <td>1</td>\n",
       "      <td>2</td>\n",
       "      <td>1</td>\n",
       "      <td>187500.000000</td>\n",
       "      <td>187500</td>\n",
       "      <td>...</td>\n",
       "      <td>0</td>\n",
       "      <td>0</td>\n",
       "      <td>0</td>\n",
       "      <td>0</td>\n",
       "      <td>1</td>\n",
       "      <td>0</td>\n",
       "      <td>0</td>\n",
       "      <td>0</td>\n",
       "      <td>0</td>\n",
       "      <td>1</td>\n",
       "    </tr>\n",
       "  </tbody>\n",
       "</table>\n",
       "<p>5 rows × 121 columns</p>\n",
       "</div>"
      ],
      "text/plain": [
       "    price  accepts_mercadopago  automatic_relist  initial_quantity  \\\n",
       "0    80.0                    1                 0                 1   \n",
       "1  2650.0                    1                 0                 1   \n",
       "2    60.0                    1                 0                 1   \n",
       "3   580.0                    1                 0                 1   \n",
       "4    30.0                    1                 0                 1   \n",
       "\n",
       "   sold_quantity  available_quantity  num_pictures  \\\n",
       "0              0                   1             2   \n",
       "1              0                   1             6   \n",
       "2              0                   1             1   \n",
       "3              0                   1             2   \n",
       "4              0                   1             2   \n",
       "\n",
       "   unique_picture_resolutions  avg_picture_resolution  max_picture_resolution  \\\n",
       "0                           1           187500.000000                  187500   \n",
       "1                           3           179944.333333                  187500   \n",
       "2                           1           187500.000000                  187500   \n",
       "3                           2           186271.500000                  186543   \n",
       "4                           1           187500.000000                  187500   \n",
       "\n",
       "   ...  seller_address_state_Tierra del Fuego  seller_address_state_Tucumán  \\\n",
       "0  ...                                      0                             0   \n",
       "1  ...                                      0                             0   \n",
       "2  ...                                      0                             0   \n",
       "3  ...                                      0                             0   \n",
       "4  ...                                      0                             0   \n",
       "\n",
       "   extracted_sub_status_deleted  extracted_sub_status_expired  \\\n",
       "0                             0                             0   \n",
       "1                             0                             0   \n",
       "2                             0                             0   \n",
       "3                             0                             0   \n",
       "4                             0                             0   \n",
       "\n",
       "   extracted_sub_status_non_specified  extracted_sub_status_suspended  \\\n",
       "0                                   1                               0   \n",
       "1                                   1                               0   \n",
       "2                                   1                               0   \n",
       "3                                   1                               0   \n",
       "4                                   1                               0   \n",
       "\n",
       "   shipping_field_mode_custom  shipping_field_mode_me1  \\\n",
       "0                           0                        0   \n",
       "1                           0                        0   \n",
       "2                           0                        0   \n",
       "3                           0                        0   \n",
       "4                           0                        0   \n",
       "\n",
       "   shipping_field_mode_me2  shipping_field_mode_not_specified  \n",
       "0                        0                                  1  \n",
       "1                        1                                  0  \n",
       "2                        1                                  0  \n",
       "3                        1                                  0  \n",
       "4                        0                                  1  \n",
       "\n",
       "[5 rows x 121 columns]"
      ]
     },
     "execution_count": 48,
     "metadata": {},
     "output_type": "execute_result"
    }
   ],
   "source": [
    "# Identificar las columnas categóricas\n",
    "categorical_columns = ['listing_type_id', 'buying_mode', 'status', 'seller_address_state', 'extracted_sub_status', 'shipping_field_mode']\n",
    "\n",
    "# Aplicar one-hot encoding\n",
    "X_train = pd.get_dummies(X_train, columns=categorical_columns)\n",
    "\n",
    "# Guardar las columnas resultantes\n",
    "dummy_columns = X_train.columns\n",
    "\n",
    "# convertir las columnas booleanas a int\n",
    "bool_columns = X_train.select_dtypes(include='bool').columns\n",
    "X_train[bool_columns] = X_train[bool_columns].astype(int)\n",
    "\n",
    "# Mostrar las primeras filas del DataFrame transformado\n",
    "X_train.head()"
   ]
  },
  {
   "cell_type": "code",
   "execution_count": 49,
   "metadata": {
    "tags": [
     "hide-input"
    ]
   },
   "outputs": [
    {
     "data": {
      "text/html": [
       "<div>\n",
       "<style scoped>\n",
       "    .dataframe tbody tr th:only-of-type {\n",
       "        vertical-align: middle;\n",
       "    }\n",
       "\n",
       "    .dataframe tbody tr th {\n",
       "        vertical-align: top;\n",
       "    }\n",
       "\n",
       "    .dataframe thead th {\n",
       "        text-align: right;\n",
       "    }\n",
       "</style>\n",
       "<table border=\"1\" class=\"dataframe\">\n",
       "  <thead>\n",
       "    <tr style=\"text-align: right;\">\n",
       "      <th></th>\n",
       "      <th>price</th>\n",
       "      <th>accepts_mercadopago</th>\n",
       "      <th>automatic_relist</th>\n",
       "      <th>initial_quantity</th>\n",
       "      <th>sold_quantity</th>\n",
       "      <th>available_quantity</th>\n",
       "      <th>num_pictures</th>\n",
       "      <th>unique_picture_resolutions</th>\n",
       "      <th>avg_picture_resolution</th>\n",
       "      <th>max_picture_resolution</th>\n",
       "      <th>...</th>\n",
       "      <th>seller_address_state_Tierra del Fuego</th>\n",
       "      <th>seller_address_state_Tucumán</th>\n",
       "      <th>extracted_sub_status_deleted</th>\n",
       "      <th>extracted_sub_status_expired</th>\n",
       "      <th>extracted_sub_status_non_specified</th>\n",
       "      <th>extracted_sub_status_suspended</th>\n",
       "      <th>shipping_field_mode_custom</th>\n",
       "      <th>shipping_field_mode_me1</th>\n",
       "      <th>shipping_field_mode_me2</th>\n",
       "      <th>shipping_field_mode_not_specified</th>\n",
       "    </tr>\n",
       "  </thead>\n",
       "  <tbody>\n",
       "    <tr>\n",
       "      <th>0</th>\n",
       "      <td>6700.0</td>\n",
       "      <td>1</td>\n",
       "      <td>0</td>\n",
       "      <td>1</td>\n",
       "      <td>0</td>\n",
       "      <td>1</td>\n",
       "      <td>6</td>\n",
       "      <td>3</td>\n",
       "      <td>195416.666667</td>\n",
       "      <td>232000</td>\n",
       "      <td>...</td>\n",
       "      <td>0</td>\n",
       "      <td>0</td>\n",
       "      <td>0</td>\n",
       "      <td>0</td>\n",
       "      <td>1</td>\n",
       "      <td>0</td>\n",
       "      <td>1</td>\n",
       "      <td>0</td>\n",
       "      <td>0</td>\n",
       "      <td>0</td>\n",
       "    </tr>\n",
       "    <tr>\n",
       "      <th>1</th>\n",
       "      <td>119.0</td>\n",
       "      <td>1</td>\n",
       "      <td>0</td>\n",
       "      <td>19</td>\n",
       "      <td>0</td>\n",
       "      <td>19</td>\n",
       "      <td>3</td>\n",
       "      <td>1</td>\n",
       "      <td>187500.000000</td>\n",
       "      <td>187500</td>\n",
       "      <td>...</td>\n",
       "      <td>0</td>\n",
       "      <td>0</td>\n",
       "      <td>0</td>\n",
       "      <td>0</td>\n",
       "      <td>1</td>\n",
       "      <td>0</td>\n",
       "      <td>0</td>\n",
       "      <td>0</td>\n",
       "      <td>0</td>\n",
       "      <td>1</td>\n",
       "    </tr>\n",
       "    <tr>\n",
       "      <th>2</th>\n",
       "      <td>450.0</td>\n",
       "      <td>1</td>\n",
       "      <td>0</td>\n",
       "      <td>2</td>\n",
       "      <td>0</td>\n",
       "      <td>2</td>\n",
       "      <td>3</td>\n",
       "      <td>3</td>\n",
       "      <td>103245.000000</td>\n",
       "      <td>175136</td>\n",
       "      <td>...</td>\n",
       "      <td>0</td>\n",
       "      <td>0</td>\n",
       "      <td>0</td>\n",
       "      <td>0</td>\n",
       "      <td>1</td>\n",
       "      <td>0</td>\n",
       "      <td>0</td>\n",
       "      <td>0</td>\n",
       "      <td>1</td>\n",
       "      <td>0</td>\n",
       "    </tr>\n",
       "    <tr>\n",
       "      <th>3</th>\n",
       "      <td>40.0</td>\n",
       "      <td>1</td>\n",
       "      <td>0</td>\n",
       "      <td>1</td>\n",
       "      <td>0</td>\n",
       "      <td>1</td>\n",
       "      <td>2</td>\n",
       "      <td>1</td>\n",
       "      <td>187500.000000</td>\n",
       "      <td>187500</td>\n",
       "      <td>...</td>\n",
       "      <td>0</td>\n",
       "      <td>0</td>\n",
       "      <td>0</td>\n",
       "      <td>0</td>\n",
       "      <td>1</td>\n",
       "      <td>0</td>\n",
       "      <td>0</td>\n",
       "      <td>0</td>\n",
       "      <td>1</td>\n",
       "      <td>0</td>\n",
       "    </tr>\n",
       "    <tr>\n",
       "      <th>4</th>\n",
       "      <td>30.0</td>\n",
       "      <td>1</td>\n",
       "      <td>0</td>\n",
       "      <td>1</td>\n",
       "      <td>1</td>\n",
       "      <td>1</td>\n",
       "      <td>1</td>\n",
       "      <td>1</td>\n",
       "      <td>198000.000000</td>\n",
       "      <td>198000</td>\n",
       "      <td>...</td>\n",
       "      <td>0</td>\n",
       "      <td>0</td>\n",
       "      <td>0</td>\n",
       "      <td>0</td>\n",
       "      <td>1</td>\n",
       "      <td>0</td>\n",
       "      <td>0</td>\n",
       "      <td>0</td>\n",
       "      <td>0</td>\n",
       "      <td>1</td>\n",
       "    </tr>\n",
       "  </tbody>\n",
       "</table>\n",
       "<p>5 rows × 121 columns</p>\n",
       "</div>"
      ],
      "text/plain": [
       "    price  accepts_mercadopago  automatic_relist  initial_quantity  \\\n",
       "0  6700.0                    1                 0                 1   \n",
       "1   119.0                    1                 0                19   \n",
       "2   450.0                    1                 0                 2   \n",
       "3    40.0                    1                 0                 1   \n",
       "4    30.0                    1                 0                 1   \n",
       "\n",
       "   sold_quantity  available_quantity  num_pictures  \\\n",
       "0              0                   1             6   \n",
       "1              0                  19             3   \n",
       "2              0                   2             3   \n",
       "3              0                   1             2   \n",
       "4              1                   1             1   \n",
       "\n",
       "   unique_picture_resolutions  avg_picture_resolution  max_picture_resolution  \\\n",
       "0                           3           195416.666667                  232000   \n",
       "1                           1           187500.000000                  187500   \n",
       "2                           3           103245.000000                  175136   \n",
       "3                           1           187500.000000                  187500   \n",
       "4                           1           198000.000000                  198000   \n",
       "\n",
       "   ...  seller_address_state_Tierra del Fuego  seller_address_state_Tucumán  \\\n",
       "0  ...                                      0                             0   \n",
       "1  ...                                      0                             0   \n",
       "2  ...                                      0                             0   \n",
       "3  ...                                      0                             0   \n",
       "4  ...                                      0                             0   \n",
       "\n",
       "   extracted_sub_status_deleted  extracted_sub_status_expired  \\\n",
       "0                             0                             0   \n",
       "1                             0                             0   \n",
       "2                             0                             0   \n",
       "3                             0                             0   \n",
       "4                             0                             0   \n",
       "\n",
       "   extracted_sub_status_non_specified  extracted_sub_status_suspended  \\\n",
       "0                                   1                               0   \n",
       "1                                   1                               0   \n",
       "2                                   1                               0   \n",
       "3                                   1                               0   \n",
       "4                                   1                               0   \n",
       "\n",
       "   shipping_field_mode_custom  shipping_field_mode_me1  \\\n",
       "0                           1                        0   \n",
       "1                           0                        0   \n",
       "2                           0                        0   \n",
       "3                           0                        0   \n",
       "4                           0                        0   \n",
       "\n",
       "   shipping_field_mode_me2  shipping_field_mode_not_specified  \n",
       "0                        0                                  0  \n",
       "1                        0                                  1  \n",
       "2                        1                                  0  \n",
       "3                        1                                  0  \n",
       "4                        0                                  1  \n",
       "\n",
       "[5 rows x 121 columns]"
      ]
     },
     "execution_count": 49,
     "metadata": {},
     "output_type": "execute_result"
    }
   ],
   "source": [
    "# Aplicar one-hot encoding\n",
    "X_test = pd.get_dummies(X_test, columns=categorical_columns)\n",
    "\n",
    "# Asegurar que df_X_test_encoded tenga las mismas columnas que df_X_train_encoded\n",
    "X_test = X_test.reindex(columns=dummy_columns, fill_value=0)\n",
    "\n",
    "# convertir las columnas booleanas a int\n",
    "bool_columns = X_test.select_dtypes(include='bool').columns\n",
    "X_test[bool_columns] = X_test[bool_columns].astype(int)\n",
    "\n",
    "# Mostrar las primeras filas del DataFrame transformado\n",
    "X_test.head()"
   ]
  },
  {
   "cell_type": "markdown",
   "metadata": {},
   "source": [
    "se verifica una ultima vez que no hayan valores nulos ni en la particion de train ni de test"
   ]
  },
  {
   "cell_type": "code",
   "execution_count": 50,
   "metadata": {
    "tags": [
     "hide-input"
    ]
   },
   "outputs": [
    {
     "name": "stdout",
     "output_type": "stream",
     "text": [
      "No hay columnas con valores nulos.\n",
      "Empty DataFrame\n",
      "Columns: [Column, Null_Percentage]\n",
      "Index: []\n",
      "\n",
      "\n",
      "No hay columnas con valores nulos.\n",
      "Empty DataFrame\n",
      "Columns: [Column, Null_Percentage]\n",
      "Index: []\n"
     ]
    }
   ],
   "source": [
    "def check_null_values(df):\n",
    "    # Calcular el porcentaje de valores nulos para cada columna\n",
    "    null_percentage = df.isnull().mean() * 100\n",
    "    \n",
    "    # Filtrar solo las columnas que tienen valores nulos\n",
    "    columns_with_nulls = null_percentage[null_percentage > 0].sort_values(ascending=False)\n",
    "    \n",
    "    if not columns_with_nulls.empty:\n",
    "        print(\"Hay columnas con valores nulos.\")\n",
    "        nulls_df = columns_with_nulls.reset_index()\n",
    "        nulls_df.columns = ['Column', 'Null_Percentage']\n",
    "        return nulls_df\n",
    "    else:\n",
    "        print(\"No hay columnas con valores nulos.\")\n",
    "        return pd.DataFrame(columns=['Column', 'Null_Percentage'])\n",
    "\n",
    "nulls_df = check_null_values(X_train)\n",
    "print(nulls_df)\n",
    "\n",
    "print('')\n",
    "print('')\n",
    "\n",
    "nulls_df = check_null_values(X_test)\n",
    "print(nulls_df)"
   ]
  },
  {
   "cell_type": "markdown",
   "metadata": {},
   "source": [
    "## Pipeline de entrenamiento"
   ]
  },
  {
   "cell_type": "markdown",
   "metadata": {},
   "source": [
    "ahora se ejecuta el `pipeline` de entrenamiento del modelo, este pipeline está diseñado para hacer `búsqueda aleatoria de hiperparámetros` y guardar el mejor modelo en un archivo local, el cuál puede ser posteriormente recuperado para calcular métricas, hacer predicciones, etc.\n",
    "\n",
    "Adicionalmente, el pipeline recibe otros posibles modelos para hacer experimentos, en esta ocasión solo se hace uso de `XGBoost`."
   ]
  },
  {
   "cell_type": "code",
   "execution_count": 52,
   "metadata": {},
   "outputs": [
    {
     "name": "stderr",
     "output_type": "stream",
     "text": [
      "C:\\Users\\Martin\\AppData\\Local\\Temp\\ipykernel_5776\\476999942.py:67: MatplotlibDeprecationWarning: The 'labels' parameter of boxplot() has been renamed 'tick_labels' since Matplotlib 3.9; support for the old name will be dropped in 3.11.\n",
      "  ax.boxplot(results[::-1], labels=labels[::-1], vert=False)\n"
     ]
    },
    {
     "data": {
      "image/png": "[encoded data removed]",
      "text/plain": [
       "<Figure size 1000x800 with 1 Axes>"
      ]
     },
     "metadata": {},
     "output_type": "display_data"
    }
   ],
   "source": [
    "from sklearn.model_selection import KFold, cross_val_score, RandomizedSearchCV\n",
    "# from sklearn.impute import SimpleImputer\n",
    "from sklearn.preprocessing import StandardScaler\n",
    "from sklearn.pipeline import Pipeline\n",
    "# from sklearn.linear_model import LogisticRegression\n",
    "import xgboost as xgb\n",
    "import matplotlib.pyplot as plt\n",
    "from sklearn.metrics import accuracy_score, recall_score, precision_score, f1_score, roc_auc_score\n",
    "import joblib\n",
    "\n",
    "# Definir los hiperparámetros para los modelos\n",
    "scale_pos_weight = sum(y_train == 0) / sum(y_train == 1)\n",
    "\n",
    "model_params = {\n",
    "    # \"Regresión Logística\": (LogisticRegression(), {\n",
    "    #     'classifier__C': [0.01, 0.1, 1, 10],\n",
    "    #     'classifier__penalty': ['l1', 'l2'],\n",
    "    #     'classifier__solver': ['newton-cg', 'lbfgs', 'liblinear', 'sag', 'saga'],\n",
    "    #     'classifier__max_iter': [100, 500, 1000],\n",
    "    #     'classifier__class_weight': [None, 'balanced'],\n",
    "    #     'classifier__fit_intercept': [True, False]\n",
    "    # }),\n",
    "    \"XGBoost\": (xgb.XGBClassifier(), {\n",
    "        'classifier__learning_rate': [0.001, 0.01, 0.1],\n",
    "        'classifier__n_estimators': [50, 100, 200],\n",
    "        'classifier__max_depth': [3, 5, 7],\n",
    "        'classifier__subsample': [0.8, 0.9, 1.0],\n",
    "        'classifier__colsample_bytree': [0.7, 0.8, 0.9],\n",
    "        'classifier__gamma': [0.1, 0.2],\n",
    "        'classifier__lambda': [0.1, 1.0],\n",
    "        'classifier__alpha': [0.1, 1.0],\n",
    "        'classifier__scale_pos_weight': [3, 4, 5, scale_pos_weight],\n",
    "        'classifier__max_delta_step': [1, 2, 5, 10]\n",
    "    })\n",
    "}\n",
    "\n",
    "def train_model(X_train, y_train, classifier, params, scoring, model_name):\n",
    "    if \"random_state\" in classifier.get_params().keys():\n",
    "        classifier.set_params(random_state=42)\n",
    "\n",
    "    pipeline = Pipeline([\n",
    "        # (\"imputation\", SimpleImputer()),\n",
    "        (\"scaler\", StandardScaler()),\n",
    "        (\"classifier\", classifier)\n",
    "    ])\n",
    "\n",
    "    kf = KFold(n_splits=5, random_state=42, shuffle=True)\n",
    "    model = RandomizedSearchCV(pipeline, param_distributions=params, n_iter=50, cv=kf, scoring=scoring, n_jobs=-1, random_state=42)\n",
    "    model.fit(X_train, y_train)\n",
    "    filename = f\"{model_name}.pkl\"\n",
    "    joblib.dump(model, filename)\n",
    "    return model\n",
    "\n",
    "results = []\n",
    "labels = []\n",
    "\n",
    "for name, (classifier, params) in model_params.items():\n",
    "\n",
    "    model = train_model(X_train=X_train, y_train=y_train, classifier=classifier, params=params, scoring='f1', model_name=name)\n",
    "    best_model = model.best_estimator_\n",
    "    cv_scores = cross_val_score(best_model, X_train, y_train, cv=KFold(n_splits=5, random_state=42, shuffle=True), scoring='f1')\n",
    "    results.append(cv_scores)\n",
    "    labels.append(name)\n",
    "\n",
    "# Crear el gráfico de box plot\n",
    "fig, ax = plt.subplots(figsize=(10, 8))  # Ajustar el tamaño de la figura\n",
    "ax.boxplot(results[::-1], labels=labels[::-1], vert=False) \n",
    "ax.set_xlabel('F1-Score')\n",
    "ax.set_title('Comparación del F1-Score en Validación Cruzada para Modelos de Clasificación')\n",
    "\n",
    "# Ajustar el diseño para evitar recortes\n",
    "plt.tight_layout()\n",
    "\n",
    "# Mostrar el gráfico\n",
    "plt.show()"
   ]
  },
  {
   "cell_type": "markdown",
   "metadata": {},
   "source": [
    "el gráfico que genera es la distribución de los valores para el `f1-score` en `validación cruzada` para cada uno de los `folds`, en este caso se utilizaron 5 pliegues o `folds`"
   ]
  },
  {
   "cell_type": "markdown",
   "metadata": {},
   "source": [
    "## Calculando métricas de clasificación"
   ]
  },
  {
   "cell_type": "markdown",
   "metadata": {},
   "source": [
    "### Curva roc (AUC)"
   ]
  },
  {
   "cell_type": "code",
   "execution_count": 55,
   "metadata": {
    "tags": [
     "hide-input"
    ]
   },
   "outputs": [
    {
     "data": {
      "image/png": "[encoded data removed]",
      "text/plain": [
       "<Figure size 800x600 with 1 Axes>"
      ]
     },
     "metadata": {},
     "output_type": "display_data"
    }
   ],
   "source": [
    "import matplotlib.pyplot as plt\n",
    "import numpy as np\n",
    "from sklearn.metrics import roc_curve, auc\n",
    "import joblib\n",
    "from sklearn.model_selection import train_test_split\n",
    "\n",
    "# Cargar el modelo XGBoost sin SMOTE\n",
    "model_xgboost = joblib.load(\"XGBoost.pkl\")\n",
    "best_model_xgboost = model_xgboost.best_estimator_\n",
    "\n",
    "# Predecir las probabilidades para la clase positiva\n",
    "y_pred_prob = best_model_xgboost.predict_proba(X_test)[:, 1]\n",
    "\n",
    "# Calcular la curva ROC y el AUC\n",
    "fpr, tpr, _ = roc_curve(y_test, y_pred_prob)\n",
    "roc_auc = auc(fpr, tpr)\n",
    "\n",
    "# Plotear la curva ROC\n",
    "plt.figure(figsize=(8, 6))\n",
    "plt.plot(fpr, tpr, color='darkorange', lw=2, label=f'ROC curve (area = {roc_auc:.2f})')\n",
    "plt.plot([0, 1], [0, 1], color='navy', lw=2, linestyle='--')\n",
    "plt.xlim([0.0, 1.0])\n",
    "plt.ylim([0.0, 1.05])\n",
    "plt.xlabel('False Positive Rate')\n",
    "plt.ylabel('True Positive Rate')\n",
    "plt.title('Curva ROC')\n",
    "plt.legend(loc=\"lower right\")\n",
    "\n",
    "plt.show()"
   ]
  },
  {
   "cell_type": "markdown",
   "metadata": {},
   "source": [
    "El valor obtenido para el `AUC` es 0.94\n",
    "\n",
    ":)"
   ]
  },
  {
   "cell_type": "markdown",
   "metadata": {
    "tags": [
     "hide-input"
    ]
   },
   "source": [
    "### Accuracy, Recall, Precision, F1"
   ]
  },
  {
   "cell_type": "code",
   "execution_count": 57,
   "metadata": {
    "tags": [
     "hide-input"
    ]
   },
   "outputs": [
    {
     "data": {
      "text/html": [
       "<div>\n",
       "<style scoped>\n",
       "    .dataframe tbody tr th:only-of-type {\n",
       "        vertical-align: middle;\n",
       "    }\n",
       "\n",
       "    .dataframe tbody tr th {\n",
       "        vertical-align: top;\n",
       "    }\n",
       "\n",
       "    .dataframe thead th {\n",
       "        text-align: right;\n",
       "    }\n",
       "</style>\n",
       "<table border=\"1\" class=\"dataframe\">\n",
       "  <thead>\n",
       "    <tr style=\"text-align: right;\">\n",
       "      <th></th>\n",
       "      <th>accuracy</th>\n",
       "      <th>recall</th>\n",
       "      <th>precision</th>\n",
       "      <th>f1_score</th>\n",
       "      <th>roc_auc</th>\n",
       "      <th>model</th>\n",
       "    </tr>\n",
       "  </thead>\n",
       "  <tbody>\n",
       "    <tr>\n",
       "      <th>0</th>\n",
       "      <td>0.8637</td>\n",
       "      <td>0.905311</td>\n",
       "      <td>0.817574</td>\n",
       "      <td>0.859209</td>\n",
       "      <td>0.940957</td>\n",
       "      <td>XGBoost</td>\n",
       "    </tr>\n",
       "  </tbody>\n",
       "</table>\n",
       "</div>"
      ],
      "text/plain": [
       "   accuracy    recall  precision  f1_score   roc_auc    model\n",
       "0    0.8637  0.905311   0.817574  0.859209  0.940957  XGBoost"
      ]
     },
     "execution_count": 57,
     "metadata": {},
     "output_type": "execute_result"
    }
   ],
   "source": [
    "import joblib\n",
    "import pandas as pd\n",
    "from sklearn.metrics import accuracy_score, recall_score, precision_score, f1_score, roc_auc_score, confusion_matrix, classification_report\n",
    "\n",
    "# Nombres de los modelos\n",
    "model_names = [\n",
    "    \"XGBoost\",\n",
    "]\n",
    "\n",
    "# Inicializar listas para almacenar los resultados\n",
    "results = []\n",
    "\n",
    "# Definir función para calcular métricas\n",
    "def calculate_metrics(y_test, y_pred, y_pred_proba=None):\n",
    "    metrics = {\n",
    "        \"accuracy\": accuracy_score(y_test, y_pred),\n",
    "        \"recall\": recall_score(y_test, y_pred),\n",
    "        \"precision\": precision_score(y_test, y_pred),\n",
    "        \"f1_score\": f1_score(y_test, y_pred),\n",
    "    }\n",
    "    if y_pred_proba is not None:\n",
    "        metrics[\"roc_auc\"] = roc_auc_score(y_test, y_pred_proba)\n",
    "    else:\n",
    "        metrics[\"roc_auc\"] = None\n",
    "    return metrics\n",
    "\n",
    "# Cargar y evaluar cada modelo\n",
    "for name in model_names:\n",
    "    # Evaluar el modelo sin SMOTE\n",
    "    model = joblib.load(f\"{name}.pkl\")\n",
    "    best_model = model.best_estimator_\n",
    "    y_pred = best_model.predict(X_test)\n",
    "    y_pred_proba = best_model.predict_proba(X_test)[:, 1] if hasattr(best_model, \"predict_proba\") else None\n",
    "    metrics = calculate_metrics(y_test, y_pred, y_pred_proba)\n",
    "    metrics[\"model\"] = name\n",
    "    results.append(metrics)\n",
    "\n",
    "# Convertir los resultados a un DataFrame\n",
    "results_df = pd.DataFrame(results)\n",
    "\n",
    "# Mostrar el DataFrame\n",
    "results_df"
   ]
  },
  {
   "cell_type": "markdown",
   "metadata": {},
   "source": [
    "Se obtiene un valor de `f1-score` para la partición de test de `0.86`, muy similar a los valores obtenidos para el f1-score de validación cruzada durante el entrenamiento. Lo cuál indica que no hay sobreajuste del modelo.\n",
    "\n",
    "Adicionalmente, un `AUC` de `0.94`, el cuál es muy positivo considerando el requerimiento de`0.86` mencionado en el enunciado de la prueba."
   ]
  },
  {
   "cell_type": "markdown",
   "metadata": {},
   "source": [
    "## feature importance"
   ]
  },
  {
   "cell_type": "code",
   "execution_count": 58,
   "metadata": {
    "tags": [
     "hide-input"
    ]
   },
   "outputs": [
    {
     "data": {
      "image/png": "[encoded data removed]",
      "text/plain": [
       "<Figure size 1200x800 with 1 Axes>"
      ]
     },
     "metadata": {},
     "output_type": "display_data"
    }
   ],
   "source": [
    "import matplotlib.pyplot as plt\n",
    "import numpy as np\n",
    "import joblib\n",
    "\n",
    "# Cargar el modelo XGBoost sin SMOTE\n",
    "model_xgboost = joblib.load(\"XGBoost.pkl\")\n",
    "best_model_xgboost = model_xgboost.best_estimator_\n",
    "\n",
    "# Suponiendo que X_train está definido con tus datos de entrenamiento\n",
    "# Extraer el modelo entrenado de XGBoost\n",
    "xgboost_model = best_model_xgboost.named_steps['classifier']\n",
    "\n",
    "# Obtener la importancia de las características\n",
    "importances = xgboost_model.feature_importances_\n",
    "indices = np.argsort(importances)[::-1]\n",
    "\n",
    "# Seleccionar el top 15 características más importantes\n",
    "top_n = 15\n",
    "top_indices = indices[:top_n]\n",
    "top_importances = importances[top_indices]\n",
    "top_features = X_train.columns[top_indices]\n",
    "\n",
    "# Abreviar los nombres de las características si es necesario\n",
    "abbreviated_features = [feature[:30] + '...' if len(feature) > 30 else feature for feature in top_features]\n",
    "\n",
    "# Plotear la importancia de características (horizontal)\n",
    "plt.figure(figsize=(12, 8))  # Aumentar el ancho de la figura\n",
    "plt.title(\"Importancia de Características (Top 15)\")\n",
    "plt.barh(range(top_n), top_importances, align=\"center\")\n",
    "plt.yticks(range(top_n), abbreviated_features, fontsize=10)  # Reducir el tamaño de la fuente\n",
    "plt.xlabel('Importancia de la característica')\n",
    "plt.gca().invert_yaxis()\n",
    "plt.tight_layout()\n",
    "\n",
    "# Guardar el gráfico de importancia de características en un archivo PNG\n",
    "plt.savefig('feature_importance_xgboost.png', bbox_inches='tight')\n",
    "\n",
    "plt.show()"
   ]
  },
  {
   "cell_type": "markdown",
   "metadata": {},
   "source": [
    "el gráfico de feature importance confirma la utilidad de variables predictoras que fueron exploradas en el EDA, tales como `initial_quantity`, lo que nos dice que es clave saber la cantidad inicial de artículos disponibles para predecir si este es nuevo o usado. Seguido de variables como el `listing_type_id`, `accepts_mercadopago` o inclusive la variable `sold_quantity`.\n",
    "\n",
    "En resumen, todas las variables visualizadas en este gráfico de importancia de variables, pertenecen al top 15 de mejores variables al momento de predecir este fenómeno."
   ]
  },
  {
   "cell_type": "code",
   "execution_count": 59,
   "metadata": {},
   "outputs": [
    {
     "data": {
      "text/plain": [
       "Index(['initial_quantity', 'listing_type_id_free', 'available_quantity',\n",
       "       'accepts_mercadopago', 'listing_type_id_gold', 'sold_quantity',\n",
       "       'automatic_relist', 'listing_type_id_bronze', 'listing_type_id_silver',\n",
       "       'has_attribute_group_id_CONFORT', 'price',\n",
       "       'has_tag_dragged_bids_and_visits', 'min_picture_resolution',\n",
       "       'max_picture_resolution', 'seller_address_state_Chubut'],\n",
       "      dtype='object')"
      ]
     },
     "execution_count": 59,
     "metadata": {},
     "output_type": "execute_result"
    }
   ],
   "source": [
    "top_features"
   ]
  },
  {
   "cell_type": "markdown",
   "metadata": {},
   "source": [
    "Y así concluye el ejercicio, muchas gracias y nos vemos dentro de MeLi :)"
   ]
  }
 ],
 "metadata": {
  "kernelspec": {
   "display_name": "ml_venv",
   "language": "python",
   "name": "python3"
  },
  "language_info": {
   "codemirror_mode": {
    "name": "ipython",
    "version": 3
   },
   "file_extension": ".py",
   "mimetype": "text/x-python",
   "name": "python",
   "nbconvert_exporter": "python",
   "pygments_lexer": "ipython3",
   "version": "3.12.4"
  }
 },
 "nbformat": 4,
 "nbformat_minor": 2
}
